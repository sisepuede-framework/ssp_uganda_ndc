{
 "cells": [
  {
   "cell_type": "code",
   "execution_count": 1,
   "id": "2a29eb0a-00ee-494d-9b3d-25da412bf1d5",
   "metadata": {},
   "outputs": [],
   "source": [
    "import copy\n",
    "import datetime as dt\n",
    "import importlib # needed so that we can reload packages\n",
    "import matplotlib.pyplot as plt\n",
    "import os, os.path\n",
    "import numpy as np\n",
    "import pandas as pd\n",
    "import pathlib\n",
    "import sys\n",
    "import time\n",
    "from typing import Union\n",
    "import warnings\n",
    "from datetime import datetime\n",
    "warnings.filterwarnings(\"ignore\")\n",
    "\n",
    "##  IMPORT SISEPUEDE EXAMPLES AND TRANSFORMERS\n",
    "\n",
    "from sisepuede.manager.sisepuede_examples import SISEPUEDEExamples\n",
    "from sisepuede.manager.sisepuede_file_structure import SISEPUEDEFileStructure\n",
    "import sisepuede.core.support_classes as sc\n",
    "import sisepuede.transformers as trf\n",
    "import sisepuede.utilities._plotting as spu\n",
    "import sisepuede.utilities._toolbox as sf"
   ]
  },
  {
   "cell_type": "code",
   "execution_count": 2,
   "id": "49d7c0b6",
   "metadata": {},
   "outputs": [],
   "source": [
    "%load_ext autoreload\n",
    "%autoreload 2"
   ]
  },
  {
   "cell_type": "markdown",
   "id": "f0483f2b",
   "metadata": {},
   "source": [
    "### Initial Set up\n",
    "\n",
    "Make sure to edit the config yaml under croatia/config_files/croatia_config.yaml\n",
    "\n",
    "You can also create a new config yaml\n",
    "\n"
   ]
  },
  {
   "cell_type": "code",
   "execution_count": 3,
   "id": "aebcd791",
   "metadata": {},
   "outputs": [],
   "source": [
    "# Set up dir paths\n",
    "\n",
    "dir_cur = pathlib.Path(os.getcwd())\n",
    "dir_ssp_modeling = dir_cur.parent\n",
    "dir_project = dir_ssp_modeling.parent\n",
    "dir_data = dir_ssp_modeling.joinpath(\"input_data\")\n",
    "dir_out= dir_ssp_modeling.joinpath(\"ssp_run/bau_energy\")\n",
    "# dir_out= dir_ssp_modeling.joinpath(\"ssp_run/bau\")\n",
    "dir_scenario_mapping = dir_ssp_modeling.joinpath(\"scenario_mapping\")\n",
    "dir_config = dir_ssp_modeling.joinpath(\"config_files\")\n",
    "dir_transformations = dir_ssp_modeling.joinpath(\"transformations\")\n",
    "dir_misc = dir_ssp_modeling.joinpath(\"misc\")\n",
    "strategies_definitions_file_path = dir_transformations.joinpath(\"strategy_definitions.csv\")\n",
    "strategy_mapping_file_path = dir_misc.joinpath(\"strategy_mapping.yaml\")"
   ]
  },
  {
   "cell_type": "code",
   "execution_count": 4,
   "id": "be25d2a2",
   "metadata": {},
   "outputs": [
    {
     "data": {
      "text/plain": [
       "PosixPath('/home/tony-ubuntu/decision_sciences/ssp_uganda_private/ssp_modeling/scenario_mapping')"
      ]
     },
     "execution_count": 4,
     "metadata": {},
     "output_type": "execute_result"
    }
   ],
   "source": [
    "dir_scenario_mapping"
   ]
  },
  {
   "cell_type": "code",
   "execution_count": 5,
   "id": "ac941c9a",
   "metadata": {},
   "outputs": [],
   "source": [
    "from ssp_transformations_handler.GeneralUtils import GeneralUtils\n",
    "from ssp_transformations_handler.TransformationUtils import TransformationYamlProcessor, StrategyCSVHandler\n",
    "\n",
    "# Initialize general utilities\n",
    "g_utils = GeneralUtils()"
   ]
  },
  {
   "cell_type": "code",
   "execution_count": 6,
   "id": "53908ee6",
   "metadata": {},
   "outputs": [
    {
     "name": "stdout",
     "output_type": "stream",
     "text": [
      "Country name:  uganda\n",
      "SSP input file name:  ssp_inputs_uganda_BaU_Scenario.csv\n",
      "SSP transformation CW:  ssp_uganda_transformation_cw_bau.xlsx\n",
      "Energy model flag:  True\n",
      "Set lndu reallocation factor to zero flag:  True\n"
     ]
    }
   ],
   "source": [
    "# Load config file, double check your parameters are correct\n",
    "\n",
    "yaml_file_path = os.path.join(dir_config, \"bau_energy_config.yaml\")\n",
    "config_params = g_utils.read_yaml(yaml_file_path)\n",
    "\n",
    "country_name = config_params['country_name']\n",
    "ssp_input_file_name = config_params['ssp_input_file_name']\n",
    "ssp_transformation_cw = config_params['ssp_transformation_cw']\n",
    "energy_model_flag = config_params['energy_model_flag']\n",
    "set_lndu_reallocation_factor_to_zero_flag = config_params['set_lndu_reallocation_factor_to_zero']\n",
    "\n",
    "# Print config parameters\n",
    "print(\"Country name: \", country_name)\n",
    "print(\"SSP input file name: \", ssp_input_file_name)\n",
    "print(\"SSP transformation CW: \", ssp_transformation_cw)\n",
    "print(\"Energy model flag: \", energy_model_flag)\n",
    "print(\"Set lndu reallocation factor to zero flag: \", set_lndu_reallocation_factor_to_zero_flag)"
   ]
  },
  {
   "cell_type": "code",
   "execution_count": 7,
   "id": "62c6c558-ba2c-482b-8743-7c46bfb64924",
   "metadata": {},
   "outputs": [],
   "source": [
    "# Set up SSP objects\n",
    "\n",
    "fp_data_base = dir_data.joinpath(ssp_input_file_name)\n",
    "\n",
    "file_struct = SISEPUEDEFileStructure()\n",
    "\n",
    "matt = file_struct.model_attributes\n",
    "regions = sc.Regions(matt)\n",
    "time_periods = sc.TimePeriods(matt)"
   ]
  },
  {
   "cell_type": "markdown",
   "id": "10f64c6a",
   "metadata": {},
   "source": [
    "### Making sure our input file has the correct format and correct columns\n",
    "We use an example df with the complete fields and correct format to make sure our file is in the right shape"
   ]
  },
  {
   "cell_type": "code",
   "execution_count": 8,
   "id": "b8a1e26f-7946-4f4f-a3b1-ff398c9fe211",
   "metadata": {},
   "outputs": [],
   "source": [
    "##  BUILD BASE INPUTS\n",
    "df_inputs_raw = pd.read_csv(fp_data_base)\n",
    "\n",
    "# pull example data to fill in gaps\n",
    "examples = SISEPUEDEExamples()\n",
    "df_inputs_example = examples.input_data_frame"
   ]
  },
  {
   "cell_type": "code",
   "execution_count": 9,
   "id": "e1685c53",
   "metadata": {},
   "outputs": [],
   "source": [
    "df_inputs_raw = g_utils.remove_additional_cols(df_inputs_example, df_inputs_raw)"
   ]
  },
  {
   "cell_type": "code",
   "execution_count": 10,
   "id": "8d18008b",
   "metadata": {},
   "outputs": [
    {
     "data": {
      "text/html": [
       "<div>\n",
       "<style scoped>\n",
       "    .dataframe tbody tr th:only-of-type {\n",
       "        vertical-align: middle;\n",
       "    }\n",
       "\n",
       "    .dataframe tbody tr th {\n",
       "        vertical-align: top;\n",
       "    }\n",
       "\n",
       "    .dataframe thead th {\n",
       "        text-align: right;\n",
       "    }\n",
       "</style>\n",
       "<table border=\"1\" class=\"dataframe\">\n",
       "  <thead>\n",
       "    <tr style=\"text-align: right;\">\n",
       "      <th></th>\n",
       "      <th>frac_lvst_mm_sheep_anaerobic_lagoon</th>\n",
       "      <th>ef_lndu_conv_other_to_forests_primary_gg_co2_ha</th>\n",
       "      <th>ef_lndu_conv_other_to_forests_mangroves_gg_co2_ha</th>\n",
       "      <th>pij_lndu_other_to_forests_mangroves</th>\n",
       "      <th>frac_lvst_mm_cattle_nondairy_dry_lot</th>\n",
       "      <th>frac_lvst_mm_buffalo_paddock_pasture_range</th>\n",
       "      <th>pij_lndu_settlements_to_settlements</th>\n",
       "      <th>frac_lvst_mm_pigs_anaerobic_lagoon</th>\n",
       "      <th>frac_agrc_nuts_cl1_temperate</th>\n",
       "      <th>pij_lndu_forests_primary_to_forests_mangroves</th>\n",
       "      <th>...</th>\n",
       "      <th>nemomod_entc_input_activity_ratio_fuel_production_fp_hydrogen_electrolysis_water</th>\n",
       "      <th>nemomod_entc_input_activity_ratio_fuel_production_fp_hydrogen_reformation_ccs_electricity</th>\n",
       "      <th>energydensity_gravimetric_enfu_gj_per_tonne_fuel_ammonia</th>\n",
       "      <th>energydensity_gravimetric_enfu_gj_per_tonne_fuel_water</th>\n",
       "      <th>frac_trns_fuelmix_water_borne_ammonia</th>\n",
       "      <th>nemomod_entc_output_activity_ratio_fuel_production_fp_ammonia_production_ammonia</th>\n",
       "      <th>nemomod_entc_output_activity_ratio_fuel_production_fp_hydrogen_reformation_ccs_hydrogen</th>\n",
       "      <th>nemomod_entc_frac_min_share_production_fp_hydrogen_reformation_ccs</th>\n",
       "      <th>nemomod_entc_input_activity_ratio_fuel_production_fp_hydrogen_reformation_ccs_natural_gas</th>\n",
       "      <th>nemomod_entc_input_activity_ratio_fuel_production_fp_hydrogen_reformation_ccs_oil</th>\n",
       "    </tr>\n",
       "  </thead>\n",
       "  <tbody>\n",
       "    <tr>\n",
       "      <th>0</th>\n",
       "      <td>0</td>\n",
       "      <td>0</td>\n",
       "      <td>0</td>\n",
       "      <td>0</td>\n",
       "      <td>0.3</td>\n",
       "      <td>0.45</td>\n",
       "      <td>1</td>\n",
       "      <td>0.025</td>\n",
       "      <td>0.030468</td>\n",
       "      <td>0</td>\n",
       "      <td>...</td>\n",
       "      <td>0.000004</td>\n",
       "      <td>0</td>\n",
       "      <td>18.6</td>\n",
       "      <td>0.00005</td>\n",
       "      <td>0.0</td>\n",
       "      <td>1</td>\n",
       "      <td>1</td>\n",
       "      <td>0.0</td>\n",
       "      <td>1.315</td>\n",
       "      <td>0.0</td>\n",
       "    </tr>\n",
       "    <tr>\n",
       "      <th>1</th>\n",
       "      <td>0</td>\n",
       "      <td>0</td>\n",
       "      <td>0</td>\n",
       "      <td>0</td>\n",
       "      <td>0.3</td>\n",
       "      <td>0.45</td>\n",
       "      <td>1</td>\n",
       "      <td>0.025</td>\n",
       "      <td>0.030468</td>\n",
       "      <td>0</td>\n",
       "      <td>...</td>\n",
       "      <td>0.000004</td>\n",
       "      <td>0</td>\n",
       "      <td>18.6</td>\n",
       "      <td>0.00005</td>\n",
       "      <td>0.0</td>\n",
       "      <td>1</td>\n",
       "      <td>1</td>\n",
       "      <td>0.0</td>\n",
       "      <td>1.315</td>\n",
       "      <td>0.0</td>\n",
       "    </tr>\n",
       "    <tr>\n",
       "      <th>2</th>\n",
       "      <td>0</td>\n",
       "      <td>0</td>\n",
       "      <td>0</td>\n",
       "      <td>0</td>\n",
       "      <td>0.3</td>\n",
       "      <td>0.45</td>\n",
       "      <td>1</td>\n",
       "      <td>0.025</td>\n",
       "      <td>0.030468</td>\n",
       "      <td>0</td>\n",
       "      <td>...</td>\n",
       "      <td>0.000004</td>\n",
       "      <td>0</td>\n",
       "      <td>18.6</td>\n",
       "      <td>0.00005</td>\n",
       "      <td>0.0</td>\n",
       "      <td>1</td>\n",
       "      <td>1</td>\n",
       "      <td>0.0</td>\n",
       "      <td>1.315</td>\n",
       "      <td>0.0</td>\n",
       "    </tr>\n",
       "    <tr>\n",
       "      <th>3</th>\n",
       "      <td>0</td>\n",
       "      <td>0</td>\n",
       "      <td>0</td>\n",
       "      <td>0</td>\n",
       "      <td>0.3</td>\n",
       "      <td>0.45</td>\n",
       "      <td>1</td>\n",
       "      <td>0.025</td>\n",
       "      <td>0.030468</td>\n",
       "      <td>0</td>\n",
       "      <td>...</td>\n",
       "      <td>0.000004</td>\n",
       "      <td>0</td>\n",
       "      <td>18.6</td>\n",
       "      <td>0.00005</td>\n",
       "      <td>0.0</td>\n",
       "      <td>1</td>\n",
       "      <td>1</td>\n",
       "      <td>0.0</td>\n",
       "      <td>1.315</td>\n",
       "      <td>0.0</td>\n",
       "    </tr>\n",
       "    <tr>\n",
       "      <th>4</th>\n",
       "      <td>0</td>\n",
       "      <td>0</td>\n",
       "      <td>0</td>\n",
       "      <td>0</td>\n",
       "      <td>0.3</td>\n",
       "      <td>0.45</td>\n",
       "      <td>1</td>\n",
       "      <td>0.025</td>\n",
       "      <td>0.030468</td>\n",
       "      <td>0</td>\n",
       "      <td>...</td>\n",
       "      <td>0.000004</td>\n",
       "      <td>0</td>\n",
       "      <td>18.6</td>\n",
       "      <td>0.00005</td>\n",
       "      <td>0.0</td>\n",
       "      <td>1</td>\n",
       "      <td>1</td>\n",
       "      <td>0.0</td>\n",
       "      <td>1.315</td>\n",
       "      <td>0.0</td>\n",
       "    </tr>\n",
       "  </tbody>\n",
       "</table>\n",
       "<p>5 rows × 2219 columns</p>\n",
       "</div>"
      ],
      "text/plain": [
       "   frac_lvst_mm_sheep_anaerobic_lagoon  \\\n",
       "0                                    0   \n",
       "1                                    0   \n",
       "2                                    0   \n",
       "3                                    0   \n",
       "4                                    0   \n",
       "\n",
       "   ef_lndu_conv_other_to_forests_primary_gg_co2_ha  \\\n",
       "0                                                0   \n",
       "1                                                0   \n",
       "2                                                0   \n",
       "3                                                0   \n",
       "4                                                0   \n",
       "\n",
       "   ef_lndu_conv_other_to_forests_mangroves_gg_co2_ha  \\\n",
       "0                                                  0   \n",
       "1                                                  0   \n",
       "2                                                  0   \n",
       "3                                                  0   \n",
       "4                                                  0   \n",
       "\n",
       "   pij_lndu_other_to_forests_mangroves  frac_lvst_mm_cattle_nondairy_dry_lot  \\\n",
       "0                                    0                                   0.3   \n",
       "1                                    0                                   0.3   \n",
       "2                                    0                                   0.3   \n",
       "3                                    0                                   0.3   \n",
       "4                                    0                                   0.3   \n",
       "\n",
       "   frac_lvst_mm_buffalo_paddock_pasture_range  \\\n",
       "0                                        0.45   \n",
       "1                                        0.45   \n",
       "2                                        0.45   \n",
       "3                                        0.45   \n",
       "4                                        0.45   \n",
       "\n",
       "   pij_lndu_settlements_to_settlements  frac_lvst_mm_pigs_anaerobic_lagoon  \\\n",
       "0                                    1                               0.025   \n",
       "1                                    1                               0.025   \n",
       "2                                    1                               0.025   \n",
       "3                                    1                               0.025   \n",
       "4                                    1                               0.025   \n",
       "\n",
       "   frac_agrc_nuts_cl1_temperate  \\\n",
       "0                      0.030468   \n",
       "1                      0.030468   \n",
       "2                      0.030468   \n",
       "3                      0.030468   \n",
       "4                      0.030468   \n",
       "\n",
       "   pij_lndu_forests_primary_to_forests_mangroves  ...  \\\n",
       "0                                              0  ...   \n",
       "1                                              0  ...   \n",
       "2                                              0  ...   \n",
       "3                                              0  ...   \n",
       "4                                              0  ...   \n",
       "\n",
       "   nemomod_entc_input_activity_ratio_fuel_production_fp_hydrogen_electrolysis_water  \\\n",
       "0                                           0.000004                                  \n",
       "1                                           0.000004                                  \n",
       "2                                           0.000004                                  \n",
       "3                                           0.000004                                  \n",
       "4                                           0.000004                                  \n",
       "\n",
       "   nemomod_entc_input_activity_ratio_fuel_production_fp_hydrogen_reformation_ccs_electricity  \\\n",
       "0                                                  0                                           \n",
       "1                                                  0                                           \n",
       "2                                                  0                                           \n",
       "3                                                  0                                           \n",
       "4                                                  0                                           \n",
       "\n",
       "   energydensity_gravimetric_enfu_gj_per_tonne_fuel_ammonia  \\\n",
       "0                                               18.6          \n",
       "1                                               18.6          \n",
       "2                                               18.6          \n",
       "3                                               18.6          \n",
       "4                                               18.6          \n",
       "\n",
       "   energydensity_gravimetric_enfu_gj_per_tonne_fuel_water  \\\n",
       "0                                            0.00005        \n",
       "1                                            0.00005        \n",
       "2                                            0.00005        \n",
       "3                                            0.00005        \n",
       "4                                            0.00005        \n",
       "\n",
       "   frac_trns_fuelmix_water_borne_ammonia  \\\n",
       "0                                    0.0   \n",
       "1                                    0.0   \n",
       "2                                    0.0   \n",
       "3                                    0.0   \n",
       "4                                    0.0   \n",
       "\n",
       "   nemomod_entc_output_activity_ratio_fuel_production_fp_ammonia_production_ammonia  \\\n",
       "0                                                  1                                  \n",
       "1                                                  1                                  \n",
       "2                                                  1                                  \n",
       "3                                                  1                                  \n",
       "4                                                  1                                  \n",
       "\n",
       "   nemomod_entc_output_activity_ratio_fuel_production_fp_hydrogen_reformation_ccs_hydrogen  \\\n",
       "0                                                  1                                         \n",
       "1                                                  1                                         \n",
       "2                                                  1                                         \n",
       "3                                                  1                                         \n",
       "4                                                  1                                         \n",
       "\n",
       "   nemomod_entc_frac_min_share_production_fp_hydrogen_reformation_ccs  \\\n",
       "0                                                0.0                    \n",
       "1                                                0.0                    \n",
       "2                                                0.0                    \n",
       "3                                                0.0                    \n",
       "4                                                0.0                    \n",
       "\n",
       "   nemomod_entc_input_activity_ratio_fuel_production_fp_hydrogen_reformation_ccs_natural_gas  \\\n",
       "0                                              1.315                                           \n",
       "1                                              1.315                                           \n",
       "2                                              1.315                                           \n",
       "3                                              1.315                                           \n",
       "4                                              1.315                                           \n",
       "\n",
       "   nemomod_entc_input_activity_ratio_fuel_production_fp_hydrogen_reformation_ccs_oil  \n",
       "0                                                0.0                                  \n",
       "1                                                0.0                                  \n",
       "2                                                0.0                                  \n",
       "3                                                0.0                                  \n",
       "4                                                0.0                                  \n",
       "\n",
       "[5 rows x 2219 columns]"
      ]
     },
     "execution_count": 10,
     "metadata": {},
     "output_type": "execute_result"
    }
   ],
   "source": [
    "# Fixes differences and makes sure that our df is in the correct format.\n",
    "# Note: Edit this if you need more changes in your df\n",
    "\n",
    "df_inputs_raw = df_inputs_raw.rename(columns={'period':'time_period'})\n",
    "df_inputs_raw_complete = g_utils.add_missing_cols(df_inputs_example, df_inputs_raw.copy())\n",
    "# df_inputs_raw_complete = g_utils.remove_additional_cols(df_inputs_example, df_inputs_raw.copy())\n",
    "df_inputs_raw_complete = df_inputs_raw_complete.drop(columns='iso_code3', errors='ignore')\n",
    "df_inputs_raw_complete.head()"
   ]
  },
  {
   "cell_type": "code",
   "execution_count": 11,
   "id": "32f1d947",
   "metadata": {},
   "outputs": [
    {
     "name": "stdout",
     "output_type": "stream",
     "text": [
      "Columns in df_example but not in df_input: set()\n",
      "Columns in df_input but not in df_example: set()\n"
     ]
    }
   ],
   "source": [
    "# Double checking that our df is in the correct shape (Empty sets should be printed to make sure everything is Ok!)\n",
    "g_utils.compare_dfs(df_inputs_example, df_inputs_raw_complete)"
   ]
  },
  {
   "cell_type": "code",
   "execution_count": 12,
   "id": "5a6d5d14",
   "metadata": {},
   "outputs": [
    {
     "data": {
      "text/plain": [
       "0    uganda\n",
       "1    uganda\n",
       "2    uganda\n",
       "3    uganda\n",
       "4    uganda\n",
       "Name: region, dtype: object"
      ]
     },
     "execution_count": 12,
     "metadata": {},
     "output_type": "execute_result"
    }
   ],
   "source": [
    "# Set region to country name\n",
    "df_inputs_raw_complete['region'] = country_name\n",
    "df_inputs_raw_complete['region'].head()"
   ]
  },
  {
   "cell_type": "markdown",
   "id": "e704cac7",
   "metadata": {},
   "source": [
    "# frac_lndu_initial modification"
   ]
  },
  {
   "cell_type": "code",
   "execution_count": 13,
   "id": "2c7b96b3",
   "metadata": {},
   "outputs": [
    {
     "data": {
      "text/plain": [
       "frac_lndu_initial_forests_mangroves    0.000000\n",
       "frac_lndu_initial_wetlands             0.191637\n",
       "frac_lndu_initial_forests_primary      0.088106\n",
       "frac_lndu_initial_settlements          0.002294\n",
       "frac_lndu_initial_forests_secondary    0.017221\n",
       "frac_lndu_initial_other                0.019260\n",
       "frac_lndu_initial_grasslands           0.219108\n",
       "frac_lndu_initial_croplands            0.462375\n",
       "Name: 0, dtype: float64"
      ]
     },
     "execution_count": 13,
     "metadata": {},
     "output_type": "execute_result"
    }
   ],
   "source": [
    "df_inputs_raw_complete[[i for i in df_inputs_raw_complete.columns if \"frac_lndu_initial_\" in i]].iloc[0]\n"
   ]
  },
  {
   "cell_type": "code",
   "execution_count": 14,
   "id": "49150ad4",
   "metadata": {},
   "outputs": [],
   "source": [
    "james = pd.read_csv(os.path.join(dir_data, \"ssp_inputs_uganda_asp_scenario_with_dijis_inputs_and_adj_qmats.csv\"))"
   ]
  },
  {
   "cell_type": "code",
   "execution_count": 15,
   "id": "89941ea8",
   "metadata": {},
   "outputs": [],
   "source": [
    "df_inputs_raw_complete[\"frac_lndu_initial_forests_primary\"] = james[\"frac_lndu_initial_forests_primary\"] \n",
    "df_inputs_raw_complete[\"frac_lndu_initial_forests_secondary\"] = james[\"frac_lndu_initial_forests_secondary\"]\n",
    "df_inputs_raw_complete['frac_lndu_initial_forests_mangroves'] = james['frac_lndu_initial_forests_mangroves']\n",
    "df_inputs_raw_complete['frac_lndu_initial_grasslands'] = james['frac_lndu_initial_grasslands']\n",
    "df_inputs_raw_complete['frac_lndu_initial_settlements'] = james['frac_lndu_initial_settlements'] \n",
    "df_inputs_raw_complete['frac_lndu_initial_wetlands'] = james['frac_lndu_initial_wetlands']\n",
    "df_inputs_raw_complete['frac_lndu_initial_croplands'] = james['frac_lndu_initial_croplands']\n",
    "df_inputs_raw_complete['frac_lndu_initial_other'] = james['frac_lndu_initial_other']"
   ]
  },
  {
   "cell_type": "code",
   "execution_count": 16,
   "id": "3d792cfe",
   "metadata": {},
   "outputs": [
    {
     "data": {
      "text/plain": [
       "frac_lndu_initial_forests_mangroves    0.000000\n",
       "frac_lndu_initial_wetlands             0.043018\n",
       "frac_lndu_initial_forests_primary      0.025318\n",
       "frac_lndu_initial_settlements          0.009043\n",
       "frac_lndu_initial_forests_secondary    0.129856\n",
       "frac_lndu_initial_other                0.000548\n",
       "frac_lndu_initial_grasslands           0.266578\n",
       "frac_lndu_initial_croplands            0.525639\n",
       "Name: 0, dtype: float64"
      ]
     },
     "execution_count": 16,
     "metadata": {},
     "output_type": "execute_result"
    }
   ],
   "source": [
    "df_inputs_raw_complete[[i for i in df_inputs_raw_complete.columns if \"frac_lndu_initial_\" in i]].iloc[0]"
   ]
  },
  {
   "cell_type": "markdown",
   "id": "0327388d",
   "metadata": {},
   "source": [
    "# Transicion Matrix"
   ]
  },
  {
   "cell_type": "code",
   "execution_count": 17,
   "id": "17965f2e",
   "metadata": {},
   "outputs": [
    {
     "data": {
      "text/plain": [
       "Index(['pij_lndu_croplands_to_croplands',\n",
       "       'pij_lndu_croplands_to_forests_mangroves',\n",
       "       'pij_lndu_croplands_to_forests_primary',\n",
       "       'pij_lndu_croplands_to_forests_secondary',\n",
       "       'pij_lndu_croplands_to_grasslands', 'pij_lndu_croplands_to_other',\n",
       "       'pij_lndu_croplands_to_settlements', 'pij_lndu_croplands_to_wetlands',\n",
       "       'pij_lndu_forests_mangroves_to_croplands',\n",
       "       'pij_lndu_forests_mangroves_to_forests_mangroves',\n",
       "       'pij_lndu_forests_mangroves_to_forests_primary',\n",
       "       'pij_lndu_forests_mangroves_to_forests_secondary',\n",
       "       'pij_lndu_forests_mangroves_to_grasslands',\n",
       "       'pij_lndu_forests_mangroves_to_other',\n",
       "       'pij_lndu_forests_mangroves_to_settlements',\n",
       "       'pij_lndu_forests_mangroves_to_wetlands',\n",
       "       'pij_lndu_forests_primary_to_croplands',\n",
       "       'pij_lndu_forests_primary_to_forests_mangroves',\n",
       "       'pij_lndu_forests_primary_to_forests_primary',\n",
       "       'pij_lndu_forests_primary_to_forests_secondary',\n",
       "       'pij_lndu_forests_primary_to_grasslands',\n",
       "       'pij_lndu_forests_primary_to_other',\n",
       "       'pij_lndu_forests_primary_to_settlements',\n",
       "       'pij_lndu_forests_primary_to_wetlands',\n",
       "       'pij_lndu_forests_secondary_to_croplands',\n",
       "       'pij_lndu_forests_secondary_to_forests_mangroves',\n",
       "       'pij_lndu_forests_secondary_to_forests_primary',\n",
       "       'pij_lndu_forests_secondary_to_forests_secondary',\n",
       "       'pij_lndu_forests_secondary_to_grasslands',\n",
       "       'pij_lndu_forests_secondary_to_other',\n",
       "       'pij_lndu_forests_secondary_to_settlements',\n",
       "       'pij_lndu_forests_secondary_to_wetlands',\n",
       "       'pij_lndu_grasslands_to_croplands',\n",
       "       'pij_lndu_grasslands_to_forests_mangroves',\n",
       "       'pij_lndu_grasslands_to_forests_primary',\n",
       "       'pij_lndu_grasslands_to_forests_secondary',\n",
       "       'pij_lndu_grasslands_to_grasslands', 'pij_lndu_grasslands_to_other',\n",
       "       'pij_lndu_grasslands_to_settlements', 'pij_lndu_grasslands_to_wetlands',\n",
       "       'pij_lndu_other_to_croplands', 'pij_lndu_other_to_forests_mangroves',\n",
       "       'pij_lndu_other_to_forests_primary',\n",
       "       'pij_lndu_other_to_forests_secondary', 'pij_lndu_other_to_grasslands',\n",
       "       'pij_lndu_other_to_other', 'pij_lndu_other_to_settlements',\n",
       "       'pij_lndu_other_to_wetlands', 'pij_lndu_settlements_to_croplands',\n",
       "       'pij_lndu_settlements_to_forests_mangroves',\n",
       "       'pij_lndu_settlements_to_forests_primary',\n",
       "       'pij_lndu_settlements_to_forests_secondary',\n",
       "       'pij_lndu_settlements_to_grasslands', 'pij_lndu_settlements_to_other',\n",
       "       'pij_lndu_settlements_to_settlements',\n",
       "       'pij_lndu_settlements_to_wetlands', 'pij_lndu_wetlands_to_croplands',\n",
       "       'pij_lndu_wetlands_to_forests_mangroves',\n",
       "       'pij_lndu_wetlands_to_forests_primary',\n",
       "       'pij_lndu_wetlands_to_forests_secondary',\n",
       "       'pij_lndu_wetlands_to_grasslands', 'pij_lndu_wetlands_to_other',\n",
       "       'pij_lndu_wetlands_to_settlements', 'pij_lndu_wetlands_to_wetlands'],\n",
       "      dtype='object')"
      ]
     },
     "execution_count": 17,
     "metadata": {},
     "output_type": "execute_result"
    }
   ],
   "source": [
    "pij_ex =  df_inputs_example[[i for i in df_inputs_example.columns if \"pij_\" in i]].columns\n",
    "pij_ex"
   ]
  },
  {
   "cell_type": "code",
   "execution_count": 18,
   "id": "1b413f75",
   "metadata": {},
   "outputs": [
    {
     "data": {
      "text/html": [
       "<div>\n",
       "<style scoped>\n",
       "    .dataframe tbody tr th:only-of-type {\n",
       "        vertical-align: middle;\n",
       "    }\n",
       "\n",
       "    .dataframe tbody tr th {\n",
       "        vertical-align: top;\n",
       "    }\n",
       "\n",
       "    .dataframe thead th {\n",
       "        text-align: right;\n",
       "    }\n",
       "</style>\n",
       "<table border=\"1\" class=\"dataframe\">\n",
       "  <thead>\n",
       "    <tr style=\"text-align: right;\">\n",
       "      <th></th>\n",
       "      <th>pij_lndu_croplands_to_croplands</th>\n",
       "      <th>pij_lndu_croplands_to_forests_mangroves</th>\n",
       "      <th>pij_lndu_croplands_to_forests_primary</th>\n",
       "      <th>pij_lndu_croplands_to_forests_secondary</th>\n",
       "      <th>pij_lndu_croplands_to_grasslands</th>\n",
       "      <th>pij_lndu_croplands_to_other</th>\n",
       "      <th>pij_lndu_croplands_to_settlements</th>\n",
       "      <th>pij_lndu_croplands_to_wetlands</th>\n",
       "    </tr>\n",
       "  </thead>\n",
       "  <tbody>\n",
       "    <tr>\n",
       "      <th>31</th>\n",
       "      <td>0.995995</td>\n",
       "      <td>0</td>\n",
       "      <td>0</td>\n",
       "      <td>0.000007</td>\n",
       "      <td>0</td>\n",
       "      <td>0</td>\n",
       "      <td>0</td>\n",
       "      <td>0.003998</td>\n",
       "    </tr>\n",
       "    <tr>\n",
       "      <th>32</th>\n",
       "      <td>0.995995</td>\n",
       "      <td>0</td>\n",
       "      <td>0</td>\n",
       "      <td>0.000007</td>\n",
       "      <td>0</td>\n",
       "      <td>0</td>\n",
       "      <td>0</td>\n",
       "      <td>0.003998</td>\n",
       "    </tr>\n",
       "    <tr>\n",
       "      <th>33</th>\n",
       "      <td>0.995995</td>\n",
       "      <td>0</td>\n",
       "      <td>0</td>\n",
       "      <td>0.000007</td>\n",
       "      <td>0</td>\n",
       "      <td>0</td>\n",
       "      <td>0</td>\n",
       "      <td>0.003998</td>\n",
       "    </tr>\n",
       "    <tr>\n",
       "      <th>34</th>\n",
       "      <td>0.995995</td>\n",
       "      <td>0</td>\n",
       "      <td>0</td>\n",
       "      <td>0.000007</td>\n",
       "      <td>0</td>\n",
       "      <td>0</td>\n",
       "      <td>0</td>\n",
       "      <td>0.003998</td>\n",
       "    </tr>\n",
       "    <tr>\n",
       "      <th>35</th>\n",
       "      <td>0.995995</td>\n",
       "      <td>0</td>\n",
       "      <td>0</td>\n",
       "      <td>0.000007</td>\n",
       "      <td>0</td>\n",
       "      <td>0</td>\n",
       "      <td>0</td>\n",
       "      <td>0.003998</td>\n",
       "    </tr>\n",
       "  </tbody>\n",
       "</table>\n",
       "</div>"
      ],
      "text/plain": [
       "    pij_lndu_croplands_to_croplands  pij_lndu_croplands_to_forests_mangroves  \\\n",
       "31                         0.995995                                        0   \n",
       "32                         0.995995                                        0   \n",
       "33                         0.995995                                        0   \n",
       "34                         0.995995                                        0   \n",
       "35                         0.995995                                        0   \n",
       "\n",
       "    pij_lndu_croplands_to_forests_primary  \\\n",
       "31                                      0   \n",
       "32                                      0   \n",
       "33                                      0   \n",
       "34                                      0   \n",
       "35                                      0   \n",
       "\n",
       "    pij_lndu_croplands_to_forests_secondary  pij_lndu_croplands_to_grasslands  \\\n",
       "31                                 0.000007                                 0   \n",
       "32                                 0.000007                                 0   \n",
       "33                                 0.000007                                 0   \n",
       "34                                 0.000007                                 0   \n",
       "35                                 0.000007                                 0   \n",
       "\n",
       "    pij_lndu_croplands_to_other  pij_lndu_croplands_to_settlements  \\\n",
       "31                            0                                  0   \n",
       "32                            0                                  0   \n",
       "33                            0                                  0   \n",
       "34                            0                                  0   \n",
       "35                            0                                  0   \n",
       "\n",
       "    pij_lndu_croplands_to_wetlands  \n",
       "31                        0.003998  \n",
       "32                        0.003998  \n",
       "33                        0.003998  \n",
       "34                        0.003998  \n",
       "35                        0.003998  "
      ]
     },
     "execution_count": 18,
     "metadata": {},
     "output_type": "execute_result"
    }
   ],
   "source": [
    "pij_lndu_croplands =  df_inputs_example[[i for i in df_inputs_example.columns if \"pij_lndu_croplands_to\" in i]].columns\n",
    "df_inputs_raw_complete[pij_lndu_croplands].tail()"
   ]
  },
  {
   "cell_type": "code",
   "execution_count": 19,
   "id": "171c63b2",
   "metadata": {},
   "outputs": [],
   "source": [
    "df_inputs_raw_complete[pij_ex] = james[pij_ex]"
   ]
  },
  {
   "cell_type": "code",
   "execution_count": 20,
   "id": "45dd2314",
   "metadata": {},
   "outputs": [
    {
     "data": {
      "text/html": [
       "<div>\n",
       "<style scoped>\n",
       "    .dataframe tbody tr th:only-of-type {\n",
       "        vertical-align: middle;\n",
       "    }\n",
       "\n",
       "    .dataframe tbody tr th {\n",
       "        vertical-align: top;\n",
       "    }\n",
       "\n",
       "    .dataframe thead th {\n",
       "        text-align: right;\n",
       "    }\n",
       "</style>\n",
       "<table border=\"1\" class=\"dataframe\">\n",
       "  <thead>\n",
       "    <tr style=\"text-align: right;\">\n",
       "      <th></th>\n",
       "      <th>pij_lndu_croplands_to_croplands</th>\n",
       "      <th>pij_lndu_croplands_to_forests_mangroves</th>\n",
       "      <th>pij_lndu_croplands_to_forests_primary</th>\n",
       "      <th>pij_lndu_croplands_to_forests_secondary</th>\n",
       "      <th>pij_lndu_croplands_to_grasslands</th>\n",
       "      <th>pij_lndu_croplands_to_other</th>\n",
       "      <th>pij_lndu_croplands_to_settlements</th>\n",
       "      <th>pij_lndu_croplands_to_wetlands</th>\n",
       "    </tr>\n",
       "  </thead>\n",
       "  <tbody>\n",
       "    <tr>\n",
       "      <th>31</th>\n",
       "      <td>0.999656</td>\n",
       "      <td>0</td>\n",
       "      <td>0</td>\n",
       "      <td>0.000344</td>\n",
       "      <td>0</td>\n",
       "      <td>0</td>\n",
       "      <td>0</td>\n",
       "      <td>0.0</td>\n",
       "    </tr>\n",
       "    <tr>\n",
       "      <th>32</th>\n",
       "      <td>0.999746</td>\n",
       "      <td>0</td>\n",
       "      <td>0</td>\n",
       "      <td>0.000254</td>\n",
       "      <td>0</td>\n",
       "      <td>0</td>\n",
       "      <td>0</td>\n",
       "      <td>0.0</td>\n",
       "    </tr>\n",
       "    <tr>\n",
       "      <th>33</th>\n",
       "      <td>0.999828</td>\n",
       "      <td>0</td>\n",
       "      <td>0</td>\n",
       "      <td>0.000172</td>\n",
       "      <td>0</td>\n",
       "      <td>0</td>\n",
       "      <td>0</td>\n",
       "      <td>0.0</td>\n",
       "    </tr>\n",
       "    <tr>\n",
       "      <th>34</th>\n",
       "      <td>0.999894</td>\n",
       "      <td>0</td>\n",
       "      <td>0</td>\n",
       "      <td>0.000106</td>\n",
       "      <td>0</td>\n",
       "      <td>0</td>\n",
       "      <td>0</td>\n",
       "      <td>0.0</td>\n",
       "    </tr>\n",
       "    <tr>\n",
       "      <th>35</th>\n",
       "      <td>0.999894</td>\n",
       "      <td>0</td>\n",
       "      <td>0</td>\n",
       "      <td>0.000106</td>\n",
       "      <td>0</td>\n",
       "      <td>0</td>\n",
       "      <td>0</td>\n",
       "      <td>0.0</td>\n",
       "    </tr>\n",
       "  </tbody>\n",
       "</table>\n",
       "</div>"
      ],
      "text/plain": [
       "    pij_lndu_croplands_to_croplands  pij_lndu_croplands_to_forests_mangroves  \\\n",
       "31                         0.999656                                        0   \n",
       "32                         0.999746                                        0   \n",
       "33                         0.999828                                        0   \n",
       "34                         0.999894                                        0   \n",
       "35                         0.999894                                        0   \n",
       "\n",
       "    pij_lndu_croplands_to_forests_primary  \\\n",
       "31                                      0   \n",
       "32                                      0   \n",
       "33                                      0   \n",
       "34                                      0   \n",
       "35                                      0   \n",
       "\n",
       "    pij_lndu_croplands_to_forests_secondary  pij_lndu_croplands_to_grasslands  \\\n",
       "31                                 0.000344                                 0   \n",
       "32                                 0.000254                                 0   \n",
       "33                                 0.000172                                 0   \n",
       "34                                 0.000106                                 0   \n",
       "35                                 0.000106                                 0   \n",
       "\n",
       "    pij_lndu_croplands_to_other  pij_lndu_croplands_to_settlements  \\\n",
       "31                            0                                  0   \n",
       "32                            0                                  0   \n",
       "33                            0                                  0   \n",
       "34                            0                                  0   \n",
       "35                            0                                  0   \n",
       "\n",
       "    pij_lndu_croplands_to_wetlands  \n",
       "31                             0.0  \n",
       "32                             0.0  \n",
       "33                             0.0  \n",
       "34                             0.0  \n",
       "35                             0.0  "
      ]
     },
     "execution_count": 20,
     "metadata": {},
     "output_type": "execute_result"
    }
   ],
   "source": [
    "df_inputs_raw_complete[pij_lndu_croplands].tail()"
   ]
  },
  {
   "cell_type": "code",
   "execution_count": 21,
   "id": "ee569e18",
   "metadata": {},
   "outputs": [
    {
     "data": {
      "text/plain": [
       "Index(['pop_lvst_initial_buffalo', 'pop_lvst_initial_cattle_dairy',\n",
       "       'pop_lvst_initial_cattle_nondairy', 'pop_lvst_initial_chickens',\n",
       "       'pop_lvst_initial_goats', 'pop_lvst_initial_horses',\n",
       "       'pop_lvst_initial_mules', 'pop_lvst_initial_pigs',\n",
       "       'pop_lvst_initial_sheep'],\n",
       "      dtype='object')"
      ]
     },
     "execution_count": 21,
     "metadata": {},
     "output_type": "execute_result"
    }
   ],
   "source": [
    "pop_lvst_initial =  df_inputs_example[[i for i in df_inputs_example.columns if \"pop_lvst_initial\" in i]].columns\n",
    "pop_lvst_initial \n"
   ]
  },
  {
   "cell_type": "code",
   "execution_count": 22,
   "id": "bfd6ce3f",
   "metadata": {},
   "outputs": [],
   "source": [
    "\n",
    "# implement models -> import sispeuede.manager.sisepuede_models as sm\n",
    "import sisepuede.manager.sisepuede_models as sm\n",
    "\n",
    "models = sm.SISEPUEDEModels(\n",
    "    matt,\n",
    "    allow_electricity_run = False,\n",
    ")\n",
    "\n",
    "##  DO THE ADJUSTMENTS HERE TO BASELINE INPUTS FILE\n",
    "\n",
    "df_inputs = df_inputs_raw_complete.copy()\n",
    "\n",
    "modvar_agrc_yf = matt.get_variable(models.model_afolu.modvar_agrc_yf)\n",
    "modvar_lndu_area = matt.get_variable(models.model_afolu.modvar_lndu_area_by_cat)\n",
    "modvar_lndu_frac_pasture = matt.get_variable(models.model_afolu.modvar_lndu_frac_grassland_that_is_pasture)\n",
    "modvar_lvst_cc_scalar = matt.get_variable(models.model_afolu.modvar_lvst_carrying_capacity_scalar, )\n",
    "modvar_lvst_demand = matt.get_variable(models.model_afolu.modvar_lvst_demand_livestock, )\n",
    "modvar_lvst_pop = matt.get_variable(models.model_afolu.modvar_lvst_pop, )"
   ]
  },
  {
   "cell_type": "code",
   "execution_count": 23,
   "id": "16e6fbef",
   "metadata": {},
   "outputs": [
    {
     "data": {
      "text/plain": [
       "0    0.5\n",
       "1    0.5\n",
       "2    0.5\n",
       "3    0.5\n",
       "4    0.5\n",
       "Name: elasticity_ippu_wood_production_to_gdp, dtype: float64"
      ]
     },
     "execution_count": 23,
     "metadata": {},
     "output_type": "execute_result"
    }
   ],
   "source": [
    "df_inputs[\"elasticity_ippu_wood_production_to_gdp\"].head()"
   ]
  },
  {
   "cell_type": "code",
   "execution_count": 24,
   "id": "657b76b0",
   "metadata": {},
   "outputs": [],
   "source": [
    "df_inputs[\"elasticity_ippu_wood_production_to_gdp\"] = 0"
   ]
  },
  {
   "cell_type": "code",
   "execution_count": 25,
   "id": "8a855cc4",
   "metadata": {},
   "outputs": [
    {
     "data": {
      "text/plain": [
       "0    0\n",
       "1    0\n",
       "2    0\n",
       "3    0\n",
       "4    0\n",
       "Name: elasticity_ippu_wood_production_to_gdp, dtype: int64"
      ]
     },
     "execution_count": 25,
     "metadata": {},
     "output_type": "execute_result"
    }
   ],
   "source": [
    "df_inputs[\"elasticity_ippu_wood_production_to_gdp\"].head()"
   ]
  },
  {
   "cell_type": "code",
   "execution_count": 26,
   "id": "6e20484d",
   "metadata": {},
   "outputs": [],
   "source": [
    "##  UPDATE CARRYING CAPACITY\n",
    "\n",
    "array_scale = matt.extract_model_variable(\n",
    "    df_inputs_raw_complete,\n",
    "    modvar_lvst_cc_scalar,\n",
    "    override_vector_for_single_mv_q = True,\n",
    "    return_type = \"array_base\",\n",
    ")\n",
    "\n",
    "vec_scale_capacity = sf.ramp_vector(\n",
    "    df_inputs_raw_complete.shape[0],\n",
    "    r_0 = 10,\n",
    ")*0.5 + 1\n",
    "\n",
    "df_inputs[modvar_lvst_cc_scalar.fields] = sf.do_array_mult(\n",
    "    array_scale,\n",
    "    vec_scale_capacity\n",
    ")"
   ]
  },
  {
   "cell_type": "code",
   "execution_count": 27,
   "id": "36c91196",
   "metadata": {},
   "outputs": [],
   "source": [
    "##  UPDATE PASTURE FRACTION\n",
    "\n",
    "array_frac_pasture = matt.extract_model_variable(\n",
    "    df_inputs_raw_complete,\n",
    "    modvar_lndu_frac_pasture,\n",
    "    override_vector_for_single_mv_q = True,\n",
    "    return_type = \"array_base\",\n",
    ")\n",
    "\n",
    "vec_adjust_pasture = sf.ramp_vector(\n",
    "    df_inputs_raw_complete.shape[0],\n",
    "    r_0 = 5,\n",
    ")*(6.439197e+06/4.014804e+06 - 1) + 1 # est values of grassland at time 0 and 35\n",
    "\n",
    "df_inputs[modvar_lndu_frac_pasture.fields] = sf.do_array_mult(\n",
    "    array_frac_pasture,\n",
    "    vec_adjust_pasture\n",
    ")\n",
    "\n",
    "df_out = models.project(df_inputs, )\n"
   ]
  },
  {
   "cell_type": "code",
   "execution_count": 28,
   "id": "b8ad1cb5",
   "metadata": {},
   "outputs": [],
   "source": [
    "# you can add the new gdp to df_inputs_high_gdp\n",
    "df_inputs_raw_complete = df_inputs"
   ]
  },
  {
   "cell_type": "code",
   "execution_count": 29,
   "id": "d070ae8f",
   "metadata": {},
   "outputs": [
    {
     "data": {
      "text/html": [
       "<div>\n",
       "<style scoped>\n",
       "    .dataframe tbody tr th:only-of-type {\n",
       "        vertical-align: middle;\n",
       "    }\n",
       "\n",
       "    .dataframe tbody tr th {\n",
       "        vertical-align: top;\n",
       "    }\n",
       "\n",
       "    .dataframe thead th {\n",
       "        text-align: right;\n",
       "    }\n",
       "</style>\n",
       "<table border=\"1\" class=\"dataframe\">\n",
       "  <thead>\n",
       "    <tr style=\"text-align: right;\">\n",
       "      <th></th>\n",
       "      <th>pij_lndu_forests_primary_to_croplands</th>\n",
       "      <th>pij_lndu_forests_primary_to_forests_mangroves</th>\n",
       "      <th>pij_lndu_forests_primary_to_forests_primary</th>\n",
       "      <th>pij_lndu_forests_primary_to_forests_secondary</th>\n",
       "      <th>pij_lndu_forests_primary_to_grasslands</th>\n",
       "      <th>pij_lndu_forests_primary_to_other</th>\n",
       "      <th>pij_lndu_forests_primary_to_settlements</th>\n",
       "      <th>pij_lndu_forests_primary_to_wetlands</th>\n",
       "    </tr>\n",
       "  </thead>\n",
       "  <tbody>\n",
       "    <tr>\n",
       "      <th>31</th>\n",
       "      <td>0.013984</td>\n",
       "      <td>0</td>\n",
       "      <td>0.985625</td>\n",
       "      <td>0</td>\n",
       "      <td>0.000005</td>\n",
       "      <td>0.000356</td>\n",
       "      <td>0</td>\n",
       "      <td>0.000031</td>\n",
       "    </tr>\n",
       "    <tr>\n",
       "      <th>32</th>\n",
       "      <td>0.013983</td>\n",
       "      <td>0</td>\n",
       "      <td>0.985601</td>\n",
       "      <td>0</td>\n",
       "      <td>0.000005</td>\n",
       "      <td>0.000377</td>\n",
       "      <td>0</td>\n",
       "      <td>0.000033</td>\n",
       "    </tr>\n",
       "    <tr>\n",
       "      <th>33</th>\n",
       "      <td>0.013981</td>\n",
       "      <td>0</td>\n",
       "      <td>0.985596</td>\n",
       "      <td>0</td>\n",
       "      <td>0.000005</td>\n",
       "      <td>0.000385</td>\n",
       "      <td>0</td>\n",
       "      <td>0.000033</td>\n",
       "    </tr>\n",
       "    <tr>\n",
       "      <th>34</th>\n",
       "      <td>0.013981</td>\n",
       "      <td>0</td>\n",
       "      <td>0.985564</td>\n",
       "      <td>0</td>\n",
       "      <td>0.000006</td>\n",
       "      <td>0.000411</td>\n",
       "      <td>0</td>\n",
       "      <td>0.000038</td>\n",
       "    </tr>\n",
       "    <tr>\n",
       "      <th>35</th>\n",
       "      <td>0.013981</td>\n",
       "      <td>0</td>\n",
       "      <td>0.985564</td>\n",
       "      <td>0</td>\n",
       "      <td>0.000006</td>\n",
       "      <td>0.000411</td>\n",
       "      <td>0</td>\n",
       "      <td>0.000038</td>\n",
       "    </tr>\n",
       "  </tbody>\n",
       "</table>\n",
       "</div>"
      ],
      "text/plain": [
       "    pij_lndu_forests_primary_to_croplands  \\\n",
       "31                               0.013984   \n",
       "32                               0.013983   \n",
       "33                               0.013981   \n",
       "34                               0.013981   \n",
       "35                               0.013981   \n",
       "\n",
       "    pij_lndu_forests_primary_to_forests_mangroves  \\\n",
       "31                                              0   \n",
       "32                                              0   \n",
       "33                                              0   \n",
       "34                                              0   \n",
       "35                                              0   \n",
       "\n",
       "    pij_lndu_forests_primary_to_forests_primary  \\\n",
       "31                                     0.985625   \n",
       "32                                     0.985601   \n",
       "33                                     0.985596   \n",
       "34                                     0.985564   \n",
       "35                                     0.985564   \n",
       "\n",
       "    pij_lndu_forests_primary_to_forests_secondary  \\\n",
       "31                                              0   \n",
       "32                                              0   \n",
       "33                                              0   \n",
       "34                                              0   \n",
       "35                                              0   \n",
       "\n",
       "    pij_lndu_forests_primary_to_grasslands  pij_lndu_forests_primary_to_other  \\\n",
       "31                                0.000005                           0.000356   \n",
       "32                                0.000005                           0.000377   \n",
       "33                                0.000005                           0.000385   \n",
       "34                                0.000006                           0.000411   \n",
       "35                                0.000006                           0.000411   \n",
       "\n",
       "    pij_lndu_forests_primary_to_settlements  \\\n",
       "31                                        0   \n",
       "32                                        0   \n",
       "33                                        0   \n",
       "34                                        0   \n",
       "35                                        0   \n",
       "\n",
       "    pij_lndu_forests_primary_to_wetlands  \n",
       "31                              0.000031  \n",
       "32                              0.000033  \n",
       "33                              0.000033  \n",
       "34                              0.000038  \n",
       "35                              0.000038  "
      ]
     },
     "execution_count": 29,
     "metadata": {},
     "output_type": "execute_result"
    }
   ],
   "source": [
    "pij_lndu_forests_primary =  df_inputs_example[[i for i in df_inputs_example.columns if \"pij_lndu_forests_primary_to\" in i]].columns\n",
    "df_inputs_raw_complete[pij_lndu_forests_primary].tail()"
   ]
  },
  {
   "cell_type": "code",
   "execution_count": 30,
   "id": "dd4ef046",
   "metadata": {},
   "outputs": [
    {
     "data": {
      "text/plain": [
       "<Axes: >"
      ]
     },
     "execution_count": 30,
     "metadata": {},
     "output_type": "execute_result"
    },
    {
     "data": {
      "image/png": "[encoded data removed]",
      "text/plain": [
       "<Figure size 640x480 with 1 Axes>"
      ]
     },
     "metadata": {},
     "output_type": "display_data"
    }
   ],
   "source": [
    "df_inputs_raw_complete['pij_lndu_forests_primary_to_forests_primary'].plot()"
   ]
  },
  {
   "cell_type": "code",
   "execution_count": 31,
   "id": "bfbbf28e",
   "metadata": {},
   "outputs": [
    {
     "data": {
      "text/plain": [
       "<Axes: >"
      ]
     },
     "execution_count": 31,
     "metadata": {},
     "output_type": "execute_result"
    },
    {
     "data": {
      "image/png": "[encoded data removed]",
      "text/plain": [
       "<Figure size 640x480 with 1 Axes>"
      ]
     },
     "metadata": {},
     "output_type": "display_data"
    }
   ],
   "source": [
    "df_inputs_raw_complete['pij_lndu_forests_primary_to_forests_primary'].plot()"
   ]
  },
  {
   "cell_type": "code",
   "execution_count": 32,
   "id": "1d856385",
   "metadata": {},
   "outputs": [
    {
     "data": {
      "text/plain": [
       "<Axes: >"
      ]
     },
     "execution_count": 32,
     "metadata": {},
     "output_type": "execute_result"
    },
    {
     "data": {
      "image/png": "[encoded data removed]",
      "text/plain": [
       "<Figure size 640x480 with 1 Axes>"
      ]
     },
     "metadata": {},
     "output_type": "display_data"
    }
   ],
   "source": [
    "df_inputs_raw_complete[pij_lndu_forests_primary].plot()"
   ]
  },
  {
   "cell_type": "markdown",
   "id": "87b179e3",
   "metadata": {},
   "source": [
    "## Let's Modify the  LNDU Reallocation factor"
   ]
  },
  {
   "cell_type": "code",
   "execution_count": 33,
   "id": "48d97b6c",
   "metadata": {},
   "outputs": [
    {
     "data": {
      "text/plain": [
       "0.0"
      ]
     },
     "execution_count": 33,
     "metadata": {},
     "output_type": "execute_result"
    }
   ],
   "source": [
    "if set_lndu_reallocation_factor_to_zero_flag:\n",
    "    df_inputs_raw_complete['lndu_reallocation_factor'] = 0\n",
    "\n",
    "df_inputs_raw_complete['lndu_reallocation_factor'].mean()"
   ]
  },
  {
   "cell_type": "code",
   "execution_count": 34,
   "id": "8ddab74c",
   "metadata": {},
   "outputs": [],
   "source": [
    "# Número de pasos entre time_period 20 y 35 (inclusive)\n",
    "start, end = 10, 35\n",
    "n_steps = end - start + 1\n",
    "\n",
    "# Generar la serie progresiva lineal de 0 a 0.02\n",
    "series = np.linspace(0, 0.0026666, n_steps)\n",
    "\n",
    "# Asignar los valores a la columna lndu_reallocation_factor para los time_period deseados\n",
    "df_inputs_raw_complete.loc[\n",
    "    df_inputs_raw_complete[\"time_period\"].between(start, end), \n",
    "    \"lndu_reallocation_factor\"\n",
    "] = series"
   ]
  },
  {
   "cell_type": "code",
   "execution_count": 35,
   "id": "626ddf48",
   "metadata": {},
   "outputs": [
    {
     "data": {
      "text/html": [
       "<div>\n",
       "<style scoped>\n",
       "    .dataframe tbody tr th:only-of-type {\n",
       "        vertical-align: middle;\n",
       "    }\n",
       "\n",
       "    .dataframe tbody tr th {\n",
       "        vertical-align: top;\n",
       "    }\n",
       "\n",
       "    .dataframe thead th {\n",
       "        text-align: right;\n",
       "    }\n",
       "</style>\n",
       "<table border=\"1\" class=\"dataframe\">\n",
       "  <thead>\n",
       "    <tr style=\"text-align: right;\">\n",
       "      <th></th>\n",
       "      <th>time_period</th>\n",
       "      <th>lndu_reallocation_factor</th>\n",
       "    </tr>\n",
       "  </thead>\n",
       "  <tbody>\n",
       "    <tr>\n",
       "      <th>26</th>\n",
       "      <td>26</td>\n",
       "      <td>0.001707</td>\n",
       "    </tr>\n",
       "    <tr>\n",
       "      <th>27</th>\n",
       "      <td>27</td>\n",
       "      <td>0.001813</td>\n",
       "    </tr>\n",
       "    <tr>\n",
       "      <th>28</th>\n",
       "      <td>28</td>\n",
       "      <td>0.001920</td>\n",
       "    </tr>\n",
       "    <tr>\n",
       "      <th>29</th>\n",
       "      <td>29</td>\n",
       "      <td>0.002027</td>\n",
       "    </tr>\n",
       "    <tr>\n",
       "      <th>30</th>\n",
       "      <td>30</td>\n",
       "      <td>0.002133</td>\n",
       "    </tr>\n",
       "    <tr>\n",
       "      <th>31</th>\n",
       "      <td>31</td>\n",
       "      <td>0.002240</td>\n",
       "    </tr>\n",
       "    <tr>\n",
       "      <th>32</th>\n",
       "      <td>32</td>\n",
       "      <td>0.002347</td>\n",
       "    </tr>\n",
       "    <tr>\n",
       "      <th>33</th>\n",
       "      <td>33</td>\n",
       "      <td>0.002453</td>\n",
       "    </tr>\n",
       "    <tr>\n",
       "      <th>34</th>\n",
       "      <td>34</td>\n",
       "      <td>0.002560</td>\n",
       "    </tr>\n",
       "    <tr>\n",
       "      <th>35</th>\n",
       "      <td>35</td>\n",
       "      <td>0.002667</td>\n",
       "    </tr>\n",
       "  </tbody>\n",
       "</table>\n",
       "</div>"
      ],
      "text/plain": [
       "    time_period  lndu_reallocation_factor\n",
       "26           26                  0.001707\n",
       "27           27                  0.001813\n",
       "28           28                  0.001920\n",
       "29           29                  0.002027\n",
       "30           30                  0.002133\n",
       "31           31                  0.002240\n",
       "32           32                  0.002347\n",
       "33           33                  0.002453\n",
       "34           34                  0.002560\n",
       "35           35                  0.002667"
      ]
     },
     "execution_count": 35,
     "metadata": {},
     "output_type": "execute_result"
    }
   ],
   "source": [
    "df_inputs_raw_complete[['time_period','lndu_reallocation_factor']].tail(10)"
   ]
  },
  {
   "cell_type": "markdown",
   "id": "2c102f1e",
   "metadata": {},
   "source": [
    "## Evolution gdp_mmm_usd BaU Scenario"
   ]
  },
  {
   "cell_type": "code",
   "execution_count": 36,
   "id": "97363250",
   "metadata": {},
   "outputs": [
    {
     "data": {
      "text/plain": [
       "31    443.314127\n",
       "32    483.212399\n",
       "33    526.701514\n",
       "34    574.104651\n",
       "35    625.774069\n",
       "Name: gdp_mmm_usd, dtype: float64"
      ]
     },
     "execution_count": 36,
     "metadata": {},
     "output_type": "execute_result"
    }
   ],
   "source": [
    "df_inputs_raw_complete['gdp_mmm_usd'].tail()"
   ]
  },
  {
   "cell_type": "code",
   "execution_count": 37,
   "id": "77243117",
   "metadata": {},
   "outputs": [],
   "source": [
    "df_inputs_raw_complete = df_inputs_raw_complete.sort_values(\"time_period\")\n",
    "df_inputs_raw_complete[\"gdp_mmm_usd_pct_change\"] = df_inputs_raw_complete[\"gdp_mmm_usd\"].pct_change() * 100"
   ]
  },
  {
   "cell_type": "code",
   "execution_count": 38,
   "id": "f2c148ea",
   "metadata": {},
   "outputs": [
    {
     "data": {
      "text/html": [
       "<div>\n",
       "<style scoped>\n",
       "    .dataframe tbody tr th:only-of-type {\n",
       "        vertical-align: middle;\n",
       "    }\n",
       "\n",
       "    .dataframe tbody tr th {\n",
       "        vertical-align: top;\n",
       "    }\n",
       "\n",
       "    .dataframe thead th {\n",
       "        text-align: right;\n",
       "    }\n",
       "</style>\n",
       "<table border=\"1\" class=\"dataframe\">\n",
       "  <thead>\n",
       "    <tr style=\"text-align: right;\">\n",
       "      <th></th>\n",
       "      <th>time_period</th>\n",
       "      <th>gdp_mmm_usd</th>\n",
       "      <th>gdp_mmm_usd_pct_change</th>\n",
       "    </tr>\n",
       "  </thead>\n",
       "  <tbody>\n",
       "    <tr>\n",
       "      <th>31</th>\n",
       "      <td>31</td>\n",
       "      <td>443.314127</td>\n",
       "      <td>9.0</td>\n",
       "    </tr>\n",
       "    <tr>\n",
       "      <th>32</th>\n",
       "      <td>32</td>\n",
       "      <td>483.212399</td>\n",
       "      <td>9.0</td>\n",
       "    </tr>\n",
       "    <tr>\n",
       "      <th>33</th>\n",
       "      <td>33</td>\n",
       "      <td>526.701514</td>\n",
       "      <td>9.0</td>\n",
       "    </tr>\n",
       "    <tr>\n",
       "      <th>34</th>\n",
       "      <td>34</td>\n",
       "      <td>574.104651</td>\n",
       "      <td>9.0</td>\n",
       "    </tr>\n",
       "    <tr>\n",
       "      <th>35</th>\n",
       "      <td>35</td>\n",
       "      <td>625.774069</td>\n",
       "      <td>9.0</td>\n",
       "    </tr>\n",
       "  </tbody>\n",
       "</table>\n",
       "</div>"
      ],
      "text/plain": [
       "    time_period  gdp_mmm_usd  gdp_mmm_usd_pct_change\n",
       "31           31   443.314127                     9.0\n",
       "32           32   483.212399                     9.0\n",
       "33           33   526.701514                     9.0\n",
       "34           34   574.104651                     9.0\n",
       "35           35   625.774069                     9.0"
      ]
     },
     "execution_count": 38,
     "metadata": {},
     "output_type": "execute_result"
    }
   ],
   "source": [
    "df_inputs_raw_complete[['time_period','gdp_mmm_usd','gdp_mmm_usd_pct_change']].tail()"
   ]
  },
  {
   "cell_type": "code",
   "execution_count": 39,
   "id": "122761d3",
   "metadata": {},
   "outputs": [
    {
     "data": {
      "image/png": "[encoded data removed]",
      "text/plain": [
       "<Figure size 1000x600 with 1 Axes>"
      ]
     },
     "metadata": {},
     "output_type": "display_data"
    }
   ],
   "source": [
    "plt.figure(figsize=(10,6))\n",
    "plt.plot(df_inputs_raw_complete[\"time_period\"], df_inputs_raw_complete[\"gdp_mmm_usd_pct_change\"], marker='o', linestyle='-')\n",
    "\n",
    "plt.xlabel(\"Time Period\")\n",
    "plt.ylabel(\"Annual Change in GDP (millions of USD)\")\n",
    "plt.title(\"Annual Variation in GDP (Absolute Change)\")\n",
    "plt.axhline(0, color='black', linestyle='--')  # Línea base\n",
    "plt.grid(True)\n",
    "plt.tight_layout()\n",
    "plt.show()\n",
    "\n",
    "plt.show()"
   ]
  },
  {
   "cell_type": "code",
   "execution_count": 40,
   "id": "3f92d6e8",
   "metadata": {},
   "outputs": [
    {
     "data": {
      "image/png": "[encoded data removed]",
      "text/plain": [
       "<Figure size 1000x600 with 1 Axes>"
      ]
     },
     "metadata": {},
     "output_type": "display_data"
    }
   ],
   "source": [
    "plt.figure(figsize=(10, 6))\n",
    "plt.plot(df_inputs_raw_complete[\"time_period\"], df_inputs_raw_complete[\"gdp_mmm_usd\"], marker='o')\n",
    "plt.show()"
   ]
  },
  {
   "cell_type": "code",
   "execution_count": 41,
   "id": "593018fd",
   "metadata": {},
   "outputs": [
    {
     "data": {
      "text/plain": [
       "Index(['pop_lvst_initial_chickens', 'pop_lvst_initial_goats',\n",
       "       'pop_lvst_initial_cattle_nondairy', 'pop_lvst_initial_horses',\n",
       "       'pop_lvst_initial_mules', 'pop_lvst_initial_cattle_dairy',\n",
       "       'pop_lvst_initial_sheep', 'pop_lvst_initial_pigs',\n",
       "       'pop_lvst_initial_buffalo'],\n",
       "      dtype='object')"
      ]
     },
     "execution_count": 41,
     "metadata": {},
     "output_type": "execute_result"
    }
   ],
   "source": [
    "pop_lvst_initial =  df_inputs_raw_complete[[i for i in df_inputs_raw_complete.columns if \"pop_lvst_initial\" in i]].columns\n",
    "pop_lvst_initial \n",
    "\n",
    "pop_lvst_initial"
   ]
  },
  {
   "cell_type": "code",
   "execution_count": 42,
   "id": "c6075426",
   "metadata": {},
   "outputs": [
    {
     "data": {
      "text/html": [
       "<div>\n",
       "<style scoped>\n",
       "    .dataframe tbody tr th:only-of-type {\n",
       "        vertical-align: middle;\n",
       "    }\n",
       "\n",
       "    .dataframe tbody tr th {\n",
       "        vertical-align: top;\n",
       "    }\n",
       "\n",
       "    .dataframe thead th {\n",
       "        text-align: right;\n",
       "    }\n",
       "</style>\n",
       "<table border=\"1\" class=\"dataframe\">\n",
       "  <thead>\n",
       "    <tr style=\"text-align: right;\">\n",
       "      <th></th>\n",
       "      <th>pop_lvst_initial_chickens</th>\n",
       "      <th>pop_lvst_initial_goats</th>\n",
       "      <th>pop_lvst_initial_cattle_nondairy</th>\n",
       "      <th>pop_lvst_initial_horses</th>\n",
       "      <th>pop_lvst_initial_mules</th>\n",
       "      <th>pop_lvst_initial_cattle_dairy</th>\n",
       "      <th>pop_lvst_initial_sheep</th>\n",
       "      <th>pop_lvst_initial_pigs</th>\n",
       "      <th>pop_lvst_initial_buffalo</th>\n",
       "    </tr>\n",
       "  </thead>\n",
       "  <tbody>\n",
       "    <tr>\n",
       "      <th>0</th>\n",
       "      <td>33246</td>\n",
       "      <td>14272733</td>\n",
       "      <td>14031000</td>\n",
       "      <td>0</td>\n",
       "      <td>0</td>\n",
       "      <td>14031000</td>\n",
       "      <td>1918651</td>\n",
       "      <td>2461661</td>\n",
       "      <td>0</td>\n",
       "    </tr>\n",
       "    <tr>\n",
       "      <th>1</th>\n",
       "      <td>33941</td>\n",
       "      <td>15806305</td>\n",
       "      <td>14368000</td>\n",
       "      <td>0</td>\n",
       "      <td>0</td>\n",
       "      <td>14368000</td>\n",
       "      <td>2066324</td>\n",
       "      <td>2479272</td>\n",
       "      <td>0</td>\n",
       "    </tr>\n",
       "    <tr>\n",
       "      <th>2</th>\n",
       "      <td>35041</td>\n",
       "      <td>16235658</td>\n",
       "      <td>14189000</td>\n",
       "      <td>0</td>\n",
       "      <td>0</td>\n",
       "      <td>14189000</td>\n",
       "      <td>2116855</td>\n",
       "      <td>2501459</td>\n",
       "      <td>0</td>\n",
       "    </tr>\n",
       "    <tr>\n",
       "      <th>3</th>\n",
       "      <td>34137</td>\n",
       "      <td>16491153</td>\n",
       "      <td>14572000</td>\n",
       "      <td>0</td>\n",
       "      <td>0</td>\n",
       "      <td>14572000</td>\n",
       "      <td>2154474</td>\n",
       "      <td>2526885</td>\n",
       "      <td>0</td>\n",
       "    </tr>\n",
       "    <tr>\n",
       "      <th>4</th>\n",
       "      <td>34942</td>\n",
       "      <td>15920638</td>\n",
       "      <td>14785000</td>\n",
       "      <td>0</td>\n",
       "      <td>0</td>\n",
       "      <td>14785000</td>\n",
       "      <td>2086461</td>\n",
       "      <td>2516546</td>\n",
       "      <td>0</td>\n",
       "    </tr>\n",
       "  </tbody>\n",
       "</table>\n",
       "</div>"
      ],
      "text/plain": [
       "   pop_lvst_initial_chickens  pop_lvst_initial_goats  \\\n",
       "0                      33246                14272733   \n",
       "1                      33941                15806305   \n",
       "2                      35041                16235658   \n",
       "3                      34137                16491153   \n",
       "4                      34942                15920638   \n",
       "\n",
       "   pop_lvst_initial_cattle_nondairy  pop_lvst_initial_horses  \\\n",
       "0                          14031000                        0   \n",
       "1                          14368000                        0   \n",
       "2                          14189000                        0   \n",
       "3                          14572000                        0   \n",
       "4                          14785000                        0   \n",
       "\n",
       "   pop_lvst_initial_mules  pop_lvst_initial_cattle_dairy  \\\n",
       "0                       0                       14031000   \n",
       "1                       0                       14368000   \n",
       "2                       0                       14189000   \n",
       "3                       0                       14572000   \n",
       "4                       0                       14785000   \n",
       "\n",
       "   pop_lvst_initial_sheep  pop_lvst_initial_pigs  pop_lvst_initial_buffalo  \n",
       "0                 1918651                2461661                         0  \n",
       "1                 2066324                2479272                         0  \n",
       "2                 2116855                2501459                         0  \n",
       "3                 2154474                2526885                         0  \n",
       "4                 2086461                2516546                         0  "
      ]
     },
     "execution_count": 42,
     "metadata": {},
     "output_type": "execute_result"
    }
   ],
   "source": [
    "df_inputs_raw_complete[pop_lvst_initial].head()"
   ]
  },
  {
   "cell_type": "code",
   "execution_count": 43,
   "id": "1cee8b5a",
   "metadata": {},
   "outputs": [
    {
     "data": {
      "text/html": [
       "<div>\n",
       "<style scoped>\n",
       "    .dataframe tbody tr th:only-of-type {\n",
       "        vertical-align: middle;\n",
       "    }\n",
       "\n",
       "    .dataframe tbody tr th {\n",
       "        vertical-align: top;\n",
       "    }\n",
       "\n",
       "    .dataframe thead th {\n",
       "        text-align: right;\n",
       "    }\n",
       "</style>\n",
       "<table border=\"1\" class=\"dataframe\">\n",
       "  <thead>\n",
       "    <tr style=\"text-align: right;\">\n",
       "      <th></th>\n",
       "      <th>pop_lvst_initial_chickens</th>\n",
       "      <th>pop_lvst_initial_goats</th>\n",
       "      <th>pop_lvst_initial_cattle_nondairy</th>\n",
       "      <th>pop_lvst_initial_horses</th>\n",
       "      <th>pop_lvst_initial_mules</th>\n",
       "      <th>pop_lvst_initial_cattle_dairy</th>\n",
       "      <th>pop_lvst_initial_sheep</th>\n",
       "      <th>pop_lvst_initial_pigs</th>\n",
       "      <th>pop_lvst_initial_buffalo</th>\n",
       "    </tr>\n",
       "  </thead>\n",
       "  <tbody>\n",
       "    <tr>\n",
       "      <th>0</th>\n",
       "      <td>46039000.0</td>\n",
       "      <td>15312000.0</td>\n",
       "      <td>14031000.0</td>\n",
       "      <td>0.0</td>\n",
       "      <td>19220.0</td>\n",
       "      <td>14031000.0</td>\n",
       "      <td>3842000.0</td>\n",
       "      <td>3916000.0</td>\n",
       "      <td>0.0</td>\n",
       "    </tr>\n",
       "    <tr>\n",
       "      <th>1</th>\n",
       "      <td>46291000.0</td>\n",
       "      <td>15725000.0</td>\n",
       "      <td>14368000.0</td>\n",
       "      <td>0.0</td>\n",
       "      <td>19247.0</td>\n",
       "      <td>14368000.0</td>\n",
       "      <td>4198000.0</td>\n",
       "      <td>4037000.0</td>\n",
       "      <td>0.0</td>\n",
       "    </tr>\n",
       "    <tr>\n",
       "      <th>2</th>\n",
       "      <td>47578000.0</td>\n",
       "      <td>16034000.0</td>\n",
       "      <td>14189000.0</td>\n",
       "      <td>0.0</td>\n",
       "      <td>19277.0</td>\n",
       "      <td>14189000.0</td>\n",
       "      <td>4445000.0</td>\n",
       "      <td>4109000.0</td>\n",
       "      <td>0.0</td>\n",
       "    </tr>\n",
       "    <tr>\n",
       "      <th>3</th>\n",
       "      <td>48901000.0</td>\n",
       "      <td>16419000.0</td>\n",
       "      <td>14572000.0</td>\n",
       "      <td>0.0</td>\n",
       "      <td>19310.0</td>\n",
       "      <td>14572000.0</td>\n",
       "      <td>4584000.0</td>\n",
       "      <td>4245000.0</td>\n",
       "      <td>0.0</td>\n",
       "    </tr>\n",
       "    <tr>\n",
       "      <th>4</th>\n",
       "      <td>43121000.0</td>\n",
       "      <td>16945000.0</td>\n",
       "      <td>14785000.0</td>\n",
       "      <td>0.0</td>\n",
       "      <td>19343.0</td>\n",
       "      <td>14785000.0</td>\n",
       "      <td>4666000.0</td>\n",
       "      <td>4411000.0</td>\n",
       "      <td>0.0</td>\n",
       "    </tr>\n",
       "  </tbody>\n",
       "</table>\n",
       "</div>"
      ],
      "text/plain": [
       "   pop_lvst_initial_chickens  pop_lvst_initial_goats  \\\n",
       "0                 46039000.0              15312000.0   \n",
       "1                 46291000.0              15725000.0   \n",
       "2                 47578000.0              16034000.0   \n",
       "3                 48901000.0              16419000.0   \n",
       "4                 43121000.0              16945000.0   \n",
       "\n",
       "   pop_lvst_initial_cattle_nondairy  pop_lvst_initial_horses  \\\n",
       "0                        14031000.0                      0.0   \n",
       "1                        14368000.0                      0.0   \n",
       "2                        14189000.0                      0.0   \n",
       "3                        14572000.0                      0.0   \n",
       "4                        14785000.0                      0.0   \n",
       "\n",
       "   pop_lvst_initial_mules  pop_lvst_initial_cattle_dairy  \\\n",
       "0                 19220.0                     14031000.0   \n",
       "1                 19247.0                     14368000.0   \n",
       "2                 19277.0                     14189000.0   \n",
       "3                 19310.0                     14572000.0   \n",
       "4                 19343.0                     14785000.0   \n",
       "\n",
       "   pop_lvst_initial_sheep  pop_lvst_initial_pigs  pop_lvst_initial_buffalo  \n",
       "0               3842000.0              3916000.0                       0.0  \n",
       "1               4198000.0              4037000.0                       0.0  \n",
       "2               4445000.0              4109000.0                       0.0  \n",
       "3               4584000.0              4245000.0                       0.0  \n",
       "4               4666000.0              4411000.0                       0.0  "
      ]
     },
     "execution_count": 43,
     "metadata": {},
     "output_type": "execute_result"
    }
   ],
   "source": [
    "tony = pd.read_csv(os.path.join(dir_data, \"UGA_real_data_20250429.csv\"))\n",
    "tony[pop_lvst_initial].head()"
   ]
  },
  {
   "cell_type": "code",
   "execution_count": 44,
   "id": "26433969",
   "metadata": {},
   "outputs": [],
   "source": [
    "df_inputs_raw_complete[pop_lvst_initial] = tony[pop_lvst_initial]"
   ]
  },
  {
   "cell_type": "code",
   "execution_count": 45,
   "id": "e24adf57",
   "metadata": {},
   "outputs": [
    {
     "data": {
      "text/html": [
       "<div>\n",
       "<style scoped>\n",
       "    .dataframe tbody tr th:only-of-type {\n",
       "        vertical-align: middle;\n",
       "    }\n",
       "\n",
       "    .dataframe tbody tr th {\n",
       "        vertical-align: top;\n",
       "    }\n",
       "\n",
       "    .dataframe thead th {\n",
       "        text-align: right;\n",
       "    }\n",
       "</style>\n",
       "<table border=\"1\" class=\"dataframe\">\n",
       "  <thead>\n",
       "    <tr style=\"text-align: right;\">\n",
       "      <th></th>\n",
       "      <th>pop_lvst_initial_chickens</th>\n",
       "      <th>pop_lvst_initial_goats</th>\n",
       "      <th>pop_lvst_initial_cattle_nondairy</th>\n",
       "      <th>pop_lvst_initial_horses</th>\n",
       "      <th>pop_lvst_initial_mules</th>\n",
       "      <th>pop_lvst_initial_cattle_dairy</th>\n",
       "      <th>pop_lvst_initial_sheep</th>\n",
       "      <th>pop_lvst_initial_pigs</th>\n",
       "      <th>pop_lvst_initial_buffalo</th>\n",
       "    </tr>\n",
       "  </thead>\n",
       "  <tbody>\n",
       "    <tr>\n",
       "      <th>0</th>\n",
       "      <td>46039000.0</td>\n",
       "      <td>15312000.0</td>\n",
       "      <td>14031000.0</td>\n",
       "      <td>0.0</td>\n",
       "      <td>19220.0</td>\n",
       "      <td>14031000.0</td>\n",
       "      <td>3842000.0</td>\n",
       "      <td>3916000.0</td>\n",
       "      <td>0.0</td>\n",
       "    </tr>\n",
       "    <tr>\n",
       "      <th>1</th>\n",
       "      <td>46291000.0</td>\n",
       "      <td>15725000.0</td>\n",
       "      <td>14368000.0</td>\n",
       "      <td>0.0</td>\n",
       "      <td>19247.0</td>\n",
       "      <td>14368000.0</td>\n",
       "      <td>4198000.0</td>\n",
       "      <td>4037000.0</td>\n",
       "      <td>0.0</td>\n",
       "    </tr>\n",
       "    <tr>\n",
       "      <th>2</th>\n",
       "      <td>47578000.0</td>\n",
       "      <td>16034000.0</td>\n",
       "      <td>14189000.0</td>\n",
       "      <td>0.0</td>\n",
       "      <td>19277.0</td>\n",
       "      <td>14189000.0</td>\n",
       "      <td>4445000.0</td>\n",
       "      <td>4109000.0</td>\n",
       "      <td>0.0</td>\n",
       "    </tr>\n",
       "    <tr>\n",
       "      <th>3</th>\n",
       "      <td>48901000.0</td>\n",
       "      <td>16419000.0</td>\n",
       "      <td>14572000.0</td>\n",
       "      <td>0.0</td>\n",
       "      <td>19310.0</td>\n",
       "      <td>14572000.0</td>\n",
       "      <td>4584000.0</td>\n",
       "      <td>4245000.0</td>\n",
       "      <td>0.0</td>\n",
       "    </tr>\n",
       "    <tr>\n",
       "      <th>4</th>\n",
       "      <td>43121000.0</td>\n",
       "      <td>16945000.0</td>\n",
       "      <td>14785000.0</td>\n",
       "      <td>0.0</td>\n",
       "      <td>19343.0</td>\n",
       "      <td>14785000.0</td>\n",
       "      <td>4666000.0</td>\n",
       "      <td>4411000.0</td>\n",
       "      <td>0.0</td>\n",
       "    </tr>\n",
       "  </tbody>\n",
       "</table>\n",
       "</div>"
      ],
      "text/plain": [
       "   pop_lvst_initial_chickens  pop_lvst_initial_goats  \\\n",
       "0                 46039000.0              15312000.0   \n",
       "1                 46291000.0              15725000.0   \n",
       "2                 47578000.0              16034000.0   \n",
       "3                 48901000.0              16419000.0   \n",
       "4                 43121000.0              16945000.0   \n",
       "\n",
       "   pop_lvst_initial_cattle_nondairy  pop_lvst_initial_horses  \\\n",
       "0                        14031000.0                      0.0   \n",
       "1                        14368000.0                      0.0   \n",
       "2                        14189000.0                      0.0   \n",
       "3                        14572000.0                      0.0   \n",
       "4                        14785000.0                      0.0   \n",
       "\n",
       "   pop_lvst_initial_mules  pop_lvst_initial_cattle_dairy  \\\n",
       "0                 19220.0                     14031000.0   \n",
       "1                 19247.0                     14368000.0   \n",
       "2                 19277.0                     14189000.0   \n",
       "3                 19310.0                     14572000.0   \n",
       "4                 19343.0                     14785000.0   \n",
       "\n",
       "   pop_lvst_initial_sheep  pop_lvst_initial_pigs  pop_lvst_initial_buffalo  \n",
       "0               3842000.0              3916000.0                       0.0  \n",
       "1               4198000.0              4037000.0                       0.0  \n",
       "2               4445000.0              4109000.0                       0.0  \n",
       "3               4584000.0              4245000.0                       0.0  \n",
       "4               4666000.0              4411000.0                       0.0  "
      ]
     },
     "execution_count": 45,
     "metadata": {},
     "output_type": "execute_result"
    }
   ],
   "source": [
    "df_inputs_raw_complete[pop_lvst_initial].head()"
   ]
  },
  {
   "cell_type": "markdown",
   "id": "ba612e91",
   "metadata": {},
   "source": [
    "## Modify Transportation Demand Elasticities"
   ]
  },
  {
   "cell_type": "code",
   "execution_count": 46,
   "id": "3361cf0a",
   "metadata": {},
   "outputs": [
    {
     "name": "stdout",
     "output_type": "stream",
     "text": [
      "['elasticity_trde_pkm_to_gdppc_private_and_public', 'elasticity_trde_pkm_to_gdppc_regional']\n",
      "['elasticity_trde_mtkm_to_gdp_freight']\n"
     ]
    }
   ],
   "source": [
    "modvar_passenger = matt.get_variable(\"Elasticity of Passenger-Kilometer Demand per Capita to GDP per Capita\")\n",
    "modvar_freight = matt.get_variable(\"Elasticity of Megatonne-Kilometer Demand to GDP\")\n",
    "print(modvar_passenger.fields)\n",
    "print(modvar_freight.fields)"
   ]
  },
  {
   "cell_type": "code",
   "execution_count": 47,
   "id": "4fd4ff90",
   "metadata": {},
   "outputs": [],
   "source": [
    "def modify_input_with_ramp(modvar, df_inputs, target_val, r_0=5):\n",
    "    arr_elasticities = matt.extract_model_variable(\n",
    "        df_inputs,\n",
    "        modvar,\n",
    "        return_type = \"array_base\"\n",
    "    )\n",
    "\n",
    "    print(\"Variables Array Shape: \", arr_elasticities.shape)\n",
    "\n",
    "    vec_ramp = sf.ramp_vector(\n",
    "        df_inputs.shape[0],\n",
    "        r_0 = r_0,\n",
    "    )\n",
    "\n",
    "    print(\"Scaling Ramp Vector Shape: \", vec_ramp.shape)\n",
    "\n",
    "    \n",
    "    arr_new = (\n",
    "        arr_elasticities.transpose() * (1 - vec_ramp) + vec_ramp * target_val\n",
    "    ).transpose()\n",
    "\n",
    "    \n",
    "\n",
    "    # if arr_new is a 1D array, convert it to a 2D array with one column\n",
    "    if arr_new.ndim == 1:\n",
    "        arr_new = arr_new.reshape(-1, 1)\n",
    "\n",
    "    print(\"Final Variables Array Shape: \", arr_new.shape)\n",
    "    \n",
    "    return arr_new\n",
    "\n",
    "def print_df_head_and_tail(df, columns):\n",
    "    print(\"Head:\")\n",
    "    print(df[columns].head())\n",
    "    print(\"\\nTail:\")\n",
    "    print(df[columns].tail())"
   ]
  },
  {
   "cell_type": "code",
   "execution_count": 48,
   "id": "6de54eb6",
   "metadata": {},
   "outputs": [
    {
     "name": "stdout",
     "output_type": "stream",
     "text": [
      "Head:\n",
      "   elasticity_trde_pkm_to_gdppc_private_and_public  \\\n",
      "0                                             1.12   \n",
      "1                                             1.12   \n",
      "2                                             1.12   \n",
      "3                                             1.12   \n",
      "4                                             1.12   \n",
      "\n",
      "   elasticity_trde_pkm_to_gdppc_regional  \n",
      "0                                   2.64  \n",
      "1                                   2.64  \n",
      "2                                   2.64  \n",
      "3                                   2.64  \n",
      "4                                   2.64  \n",
      "\n",
      "Tail:\n",
      "    elasticity_trde_pkm_to_gdppc_private_and_public  \\\n",
      "31                                             1.12   \n",
      "32                                             1.12   \n",
      "33                                             1.12   \n",
      "34                                             1.12   \n",
      "35                                             1.12   \n",
      "\n",
      "    elasticity_trde_pkm_to_gdppc_regional  \n",
      "31                                   2.64  \n",
      "32                                   2.64  \n",
      "33                                   2.64  \n",
      "34                                   2.64  \n",
      "35                                   2.64  \n"
     ]
    }
   ],
   "source": [
    "print_df_head_and_tail(df_inputs_raw_complete, modvar_passenger.fields)"
   ]
  },
  {
   "cell_type": "code",
   "execution_count": 49,
   "id": "0f9a5e55",
   "metadata": {},
   "outputs": [
    {
     "name": "stdout",
     "output_type": "stream",
     "text": [
      "Variables Array Shape:  (36, 2)\n",
      "Scaling Ramp Vector Shape:  (36,)\n",
      "Final Variables Array Shape:  (36, 2)\n",
      "Head:\n",
      "   elasticity_trde_pkm_to_gdppc_private_and_public  \\\n",
      "0                                             1.12   \n",
      "1                                             1.12   \n",
      "2                                             1.12   \n",
      "3                                             1.12   \n",
      "4                                             1.12   \n",
      "\n",
      "   elasticity_trde_pkm_to_gdppc_regional  \n",
      "0                                   2.64  \n",
      "1                                   2.64  \n",
      "2                                   2.64  \n",
      "3                                   2.64  \n",
      "4                                   2.64  \n",
      "\n",
      "Tail:\n",
      "    elasticity_trde_pkm_to_gdppc_private_and_public  \\\n",
      "31                                         0.149333   \n",
      "32                                         0.112000   \n",
      "33                                         0.074667   \n",
      "34                                         0.037333   \n",
      "35                                         0.000000   \n",
      "\n",
      "    elasticity_trde_pkm_to_gdppc_regional  \n",
      "31                                  0.352  \n",
      "32                                  0.264  \n",
      "33                                  0.176  \n",
      "34                                  0.088  \n",
      "35                                  0.000  \n"
     ]
    }
   ],
   "source": [
    "df_inputs_raw_complete[modvar_passenger.fields] = modify_input_with_ramp(modvar_passenger, df_inputs_raw_complete, 0.0)\n",
    "print_df_head_and_tail(df_inputs_raw_complete, modvar_passenger.fields)"
   ]
  },
  {
   "cell_type": "code",
   "execution_count": 50,
   "id": "57f3b14b",
   "metadata": {},
   "outputs": [
    {
     "name": "stdout",
     "output_type": "stream",
     "text": [
      "Head:\n",
      "   elasticity_trde_mtkm_to_gdp_freight\n",
      "0                                    1\n",
      "1                                    1\n",
      "2                                    1\n",
      "3                                    1\n",
      "4                                    1\n",
      "\n",
      "Tail:\n",
      "    elasticity_trde_mtkm_to_gdp_freight\n",
      "31                                    1\n",
      "32                                    1\n",
      "33                                    1\n",
      "34                                    1\n",
      "35                                    1\n"
     ]
    }
   ],
   "source": [
    "print_df_head_and_tail(df_inputs_raw_complete, modvar_freight.fields)"
   ]
  },
  {
   "cell_type": "code",
   "execution_count": 51,
   "id": "b521f497",
   "metadata": {},
   "outputs": [
    {
     "name": "stdout",
     "output_type": "stream",
     "text": [
      "Variables Array Shape:  (36,)\n",
      "Scaling Ramp Vector Shape:  (36,)\n",
      "Final Variables Array Shape:  (36, 1)\n",
      "Head:\n",
      "   elasticity_trde_mtkm_to_gdp_freight\n",
      "0                                  1.0\n",
      "1                                  1.0\n",
      "2                                  1.0\n",
      "3                                  1.0\n",
      "4                                  1.0\n",
      "\n",
      "Tail:\n",
      "    elasticity_trde_mtkm_to_gdp_freight\n",
      "31                             0.133333\n",
      "32                             0.100000\n",
      "33                             0.066667\n",
      "34                             0.033333\n",
      "35                             0.000000\n"
     ]
    }
   ],
   "source": [
    "df_inputs_raw_complete[modvar_freight.fields] = modify_input_with_ramp(modvar_freight, df_inputs_raw_complete, 0.0)\n",
    "print_df_head_and_tail(df_inputs_raw_complete, modvar_freight.fields)\n",
    " \n"
   ]
  },
  {
   "cell_type": "code",
   "execution_count": null,
   "id": "d46031d0",
   "metadata": {},
   "outputs": [],
   "source": []
  },
  {
   "cell_type": "markdown",
   "id": "91491c34-78de-4bf9-bed3-3d69613bace7",
   "metadata": {},
   "source": [
    "#  Let's try building transformations using this\n"
   ]
  },
  {
   "cell_type": "code",
   "execution_count": 52,
   "id": "8f21339f-7e93-4123-aa07-8a12f0316756",
   "metadata": {},
   "outputs": [],
   "source": [
    "transformers = trf.transformers.Transformers(\n",
    "    {},\n",
    "    df_input = df_inputs_raw_complete,\n",
    ")"
   ]
  },
  {
   "cell_type": "markdown",
   "id": "d93521f1-0fa0-4f09-9b6e-def5662df3d8",
   "metadata": {},
   "source": [
    "##  Instantiate some transformations. Make sure to run this cell to create the transformations folder for the first time or if you wish to overwrite"
   ]
  },
  {
   "cell_type": "code",
   "execution_count": 53,
   "id": "e85aa9b2-412c-44f7-b75f-3bc486202843",
   "metadata": {},
   "outputs": [
    {
     "name": "stdout",
     "output_type": "stream",
     "text": [
      "Directory /home/tony-ubuntu/decision_sciences/ssp_uganda_private/ssp_modeling/transformations already exists. Skipping instantiation.\n"
     ]
    }
   ],
   "source": [
    "# set an ouput path and instantiate\n",
    "if not dir_transformations.exists():\n",
    "    trf.instantiate_default_strategy_directory(\n",
    "        transformers,\n",
    "        dir_transformations,\n",
    "    )\n",
    "else:\n",
    "    print(f\"Directory {dir_transformations} already exists. Skipping instantiation.\")\n"
   ]
  },
  {
   "cell_type": "markdown",
   "id": "14522780-2f45-4402-8889-365f1d319303",
   "metadata": {},
   "source": [
    "##  --HERE, CUSTOMIZE YOUR TRANSFORMATIONS AND STRATEGIES--"
   ]
  },
  {
   "cell_type": "markdown",
   "id": "03361640",
   "metadata": {},
   "source": [
    "### Customizing transformations and strategies files using TransformationUtils.py classes"
   ]
  },
  {
   "cell_type": "code",
   "execution_count": 54,
   "id": "cd47d570",
   "metadata": {},
   "outputs": [
    {
     "name": "stdout",
     "output_type": "stream",
     "text": [
      "/home/tony-ubuntu/decision_sciences/ssp_uganda_private/ssp_modeling/scenario_mapping/ssp_uganda_transformation_cw_bau.xlsx\n"
     ]
    }
   ],
   "source": [
    "# Generate new transformation files based on the excel mapping file. \n",
    "# Make sure to have the most updated format for the excel file, check the one used in this notebook for reference.\n",
    "\n",
    "cw_file_path = os.path.join(dir_scenario_mapping, ssp_transformation_cw)\n",
    "print(cw_file_path)\n",
    "excel_yaml_handler = TransformationYamlProcessor(scenario_mapping_excel_path=cw_file_path, yaml_dir_path=dir_transformations)"
   ]
  },
  {
   "cell_type": "code",
   "execution_count": 55,
   "id": "ddac9676",
   "metadata": {},
   "outputs": [
    {
     "name": "stdout",
     "output_type": "stream",
     "text": [
      "YAML file transformation_agrc_inc_conservation_agriculture.yaml already exist for strategy strategy_NDC. Please check it manually.\n",
      "YAML file transformation_agrc_inc_conservation_agriculture.yaml already exist for strategy strategy_NZ. Please check it manually.\n",
      "YAML file transformation_inen_shift_fuel_heat.yaml already exist for strategy strategy_NZ. Please check it manually.\n",
      "YAML file transformation_lsmm_inc_management_cattle_pigs.yaml already exist for strategy strategy_NDC. Please check it manually.\n",
      "YAML file transformation_lsmm_inc_management_cattle_pigs.yaml already exist for strategy strategy_NZ. Please check it manually.\n",
      "YAML file transformation_lsmm_inc_management_other.yaml already exist for strategy strategy_NDC. Please check it manually.\n",
      "YAML file transformation_lsmm_inc_management_other.yaml already exist for strategy strategy_NZ. Please check it manually.\n",
      "YAML file transformation_lsmm_inc_management_poultry.yaml already exist for strategy strategy_NDC. Please check it manually.\n",
      "YAML file transformation_lsmm_inc_management_poultry.yaml already exist for strategy strategy_NZ. Please check it manually.\n",
      "YAML file transformation_lvst_dec_enteric_fermentation.yaml already exist for strategy strategy_NZ. Please check it manually.\n",
      "YAML file transformation_pflo_inc_ind_ccs.yaml already exist for strategy strategy_NZ. Please check it manually.\n",
      "YAML file transformation_trns_shift_mode_regional.yaml already exist for strategy strategy_NDC. Please check it manually.\n",
      "YAML file transformation_trns_shift_mode_regional.yaml already exist for strategy strategy_NZ. Please check it manually.\n",
      "YAML file transformation_wali_inc_treatment_industrial.yaml already exist for strategy strategy_NDC. Please check it manually.\n",
      "YAML file transformation_wali_inc_treatment_industrial.yaml already exist for strategy strategy_NZ. Please check it manually.\n",
      "YAML file transformation_wali_inc_treatment_rural.yaml already exist for strategy strategy_NDC. Please check it manually.\n",
      "YAML file transformation_wali_inc_treatment_rural.yaml already exist for strategy strategy_NZ. Please check it manually.\n",
      "YAML file transformation_wali_inc_treatment_urban.yaml already exist for strategy strategy_NDC. Please check it manually.\n",
      "YAML file transformation_wali_inc_treatment_urban.yaml already exist for strategy strategy_NZ. Please check it manually.\n",
      "YAML file transformation_waso_inc_anaerobic_and_compost.yaml already exist for strategy strategy_NZ. Please check it manually.\n"
     ]
    }
   ],
   "source": [
    "# This creates transformation yaml files for each strategy in the excel file\n",
    "excel_yaml_handler.process_yaml_files()"
   ]
  },
  {
   "cell_type": "code",
   "execution_count": 56,
   "id": "d42f66a2",
   "metadata": {},
   "outputs": [
    {
     "data": {
      "text/plain": [
       "{'strategy_NDC': ['TX:AGRC:DEC_CH4_RICE_STRATEGY_NDC',\n",
       "  'TX:AGRC:INC_CONSERVATION_AGRICULTURE_STRATEGY_NDC',\n",
       "  'TX:AGRC:INC_PRODUCTIVITY_STRATEGY_NDC',\n",
       "  'TX:ENTC:DEC_LOSSES_STRATEGY_NDC',\n",
       "  'TX:ENTC:TARGET_CLEAN_HYDROGEN_STRATEGY_NDC',\n",
       "  'TX:ENTC:TARGET_RENEWABLE_ELEC_STRATEGY_NDC',\n",
       "  'TX:INEN:INC_EFFICIENCY_ENERGY_STRATEGY_NDC',\n",
       "  'TX:INEN:INC_EFFICIENCY_PRODUCTION_STRATEGY_NDC',\n",
       "  'TX:IPPU:DEC_CLINKER_STRATEGY_NDC',\n",
       "  'TX:IPPU:DEC_DEMAND_STRATEGY_NDC',\n",
       "  'TX:IPPU:DEC_HFCS_STRATEGY_NDC',\n",
       "  'TX:LNDU:DEC_DEFORESTATION_STRATEGY_NDC',\n",
       "  'TX:LNDU:INC_REFORESTATION_STRATEGY_NDC',\n",
       "  'TX:LSMM:INC_CAPTURE_BIOGAS_STRATEGY_NDC',\n",
       "  'TX:LSMM:INC_MANAGEMENT_CATTLE_PIGS_STRATEGY_NDC',\n",
       "  'TX:LSMM:INC_MANAGEMENT_OTHER_STRATEGY_NDC',\n",
       "  'TX:LSMM:INC_MANAGEMENT_POULTRY_STRATEGY_NDC',\n",
       "  'TX:LVST:INC_PRODUCTIVITY_STRATEGY_NDC',\n",
       "  'TX:SOIL:DEC_LIME_APPLIED_STRATEGY_NDC',\n",
       "  'TX:SOIL:DEC_N_APPLIED_STRATEGY_NDC',\n",
       "  'TX:TRDE:DEC_DEMAND_STRATEGY_NDC',\n",
       "  'TX:TRNS:INC_EFFICIENCY_ELECTRIC_STRATEGY_NDC',\n",
       "  'TX:TRNS:INC_EFFICIENCY_NON_ELECTRIC_STRATEGY_NDC',\n",
       "  'TX:TRNS:SHIFT_FUEL_MARITIME_STRATEGY_NDC',\n",
       "  'TX:TRNS:SHIFT_FUEL_MEDIUM_DUTY_STRATEGY_NDC',\n",
       "  'TX:TRNS:SHIFT_MODE_FREIGHT_STRATEGY_NDC',\n",
       "  'TX:TRNS:SHIFT_MODE_PASSENGER_STRATEGY_NDC',\n",
       "  'TX:TRNS:SHIFT_MODE_REGIONAL_STRATEGY_NDC',\n",
       "  'TX:TRWW:INC_COMPLIANCE_SEPTIC_STRATEGY_NDC',\n",
       "  'TX:WALI:INC_TREATMENT_INDUSTRIAL_STRATEGY_NDC',\n",
       "  'TX:WALI:INC_TREATMENT_RURAL_STRATEGY_NDC',\n",
       "  'TX:WALI:INC_TREATMENT_URBAN_STRATEGY_NDC',\n",
       "  'TX:WASO:DEC_CONSUMER_FOOD_WASTE_STRATEGY_NDC',\n",
       "  'TX:WASO:INC_CAPTURE_BIOGAS_STRATEGY_NDC',\n",
       "  'TX:WASO:INC_ENERGY_FROM_BIOGAS_STRATEGY_NDC',\n",
       "  'TX:WASO:INC_ENERGY_FROM_INCINERATION_STRATEGY_NDC',\n",
       "  'TX:WASO:INC_LANDFILLING_STRATEGY_NDC',\n",
       "  'TX:WASO:INC_RECYCLING_STRATEGY_NDC'],\n",
       " 'strategy_NZ': ['TX:AGRC:DEC_CH4_RICE_STRATEGY_NZ',\n",
       "  'TX:AGRC:DEC_EXPORTS_STRATEGY_NZ',\n",
       "  'TX:AGRC:DEC_LOSSES_SUPPLY_CHAIN_STRATEGY_NZ',\n",
       "  'TX:AGRC:INC_CONSERVATION_AGRICULTURE_STRATEGY_NZ',\n",
       "  'TX:AGRC:INC_PRODUCTIVITY_STRATEGY_NZ',\n",
       "  'TX:CCSQ:INC_CAPTURE_STRATEGY_NZ',\n",
       "  'TX:ENTC:DEC_LOSSES_STRATEGY_NZ',\n",
       "  'TX:ENTC:TARGET_CLEAN_HYDROGEN_STRATEGY_NZ',\n",
       "  'TX:ENTC:TARGET_RENEWABLE_ELEC_STRATEGY_NZ',\n",
       "  'TX:FGTV:DEC_LEAKS_STRATEGY_NZ',\n",
       "  'TX:FGTV:INC_FLARE_STRATEGY_NZ',\n",
       "  'TX:INEN:INC_EFFICIENCY_ENERGY_STRATEGY_NZ',\n",
       "  'TX:INEN:INC_EFFICIENCY_PRODUCTION_STRATEGY_NZ',\n",
       "  'TX:INEN:SHIFT_FUEL_HEAT_STRATEGY_NZ',\n",
       "  'TX:IPPU:DEC_CLINKER_STRATEGY_NZ',\n",
       "  'TX:IPPU:DEC_DEMAND_STRATEGY_NZ',\n",
       "  'TX:IPPU:DEC_HFCS_STRATEGY_NZ',\n",
       "  'TX:IPPU:DEC_N2O_STRATEGY_NZ',\n",
       "  'TX:IPPU:DEC_OTHER_FCS_STRATEGY_NZ',\n",
       "  'TX:IPPU:DEC_PFCS_STRATEGY_NZ',\n",
       "  'TX:LNDU:DEC_DEFORESTATION_STRATEGY_NZ',\n",
       "  'TX:LNDU:INC_REFORESTATION_STRATEGY_NZ',\n",
       "  'TX:LSMM:INC_CAPTURE_BIOGAS_STRATEGY_NZ',\n",
       "  'TX:LSMM:INC_MANAGEMENT_CATTLE_PIGS_STRATEGY_NZ',\n",
       "  'TX:LSMM:INC_MANAGEMENT_OTHER_STRATEGY_NZ',\n",
       "  'TX:LSMM:INC_MANAGEMENT_POULTRY_STRATEGY_NZ',\n",
       "  'TX:LVST:DEC_ENTERIC_FERMENTATION_STRATEGY_NZ',\n",
       "  'TX:LVST:DEC_EXPORTS_STRATEGY_NZ',\n",
       "  'TX:LVST:INC_PRODUCTIVITY_STRATEGY_NZ',\n",
       "  'TX:PFLO:INC_IND_CCS_STRATEGY_NZ',\n",
       "  'TX:SCOE:DEC_DEMAND_HEAT_STRATEGY_NZ',\n",
       "  'TX:SCOE:INC_EFFICIENCY_APPLIANCE_STRATEGY_NZ',\n",
       "  'TX:SCOE:SHIFT_FUEL_HEAT_STRATEGY_NZ',\n",
       "  'TX:SOIL:DEC_LIME_APPLIED_STRATEGY_NZ',\n",
       "  'TX:SOIL:DEC_N_APPLIED_STRATEGY_NZ',\n",
       "  'TX:TRDE:DEC_DEMAND_STRATEGY_NZ',\n",
       "  'TX:TRNS:INC_EFFICIENCY_ELECTRIC_STRATEGY_NZ',\n",
       "  'TX:TRNS:INC_EFFICIENCY_NON_ELECTRIC_STRATEGY_NZ',\n",
       "  'TX:TRNS:INC_OCCUPANCY_LIGHT_DUTY_STRATEGY_NZ',\n",
       "  'TX:TRNS:SHIFT_FUEL_LIGHT_DUTY_STRATEGY_NZ',\n",
       "  'TX:TRNS:SHIFT_FUEL_MARITIME_STRATEGY_NZ',\n",
       "  'TX:TRNS:SHIFT_FUEL_MEDIUM_DUTY_STRATEGY_NZ',\n",
       "  'TX:TRNS:SHIFT_FUEL_RAIL_STRATEGY_NZ',\n",
       "  'TX:TRNS:SHIFT_MODE_FREIGHT_STRATEGY_NZ',\n",
       "  'TX:TRNS:SHIFT_MODE_PASSENGER_STRATEGY_NZ',\n",
       "  'TX:TRNS:SHIFT_MODE_REGIONAL_STRATEGY_NZ',\n",
       "  'TX:TRWW:INC_CAPTURE_BIOGAS_STRATEGY_NZ',\n",
       "  'TX:TRWW:INC_COMPLIANCE_SEPTIC_STRATEGY_NZ',\n",
       "  'TX:WALI:INC_TREATMENT_INDUSTRIAL_STRATEGY_NZ',\n",
       "  'TX:WALI:INC_TREATMENT_RURAL_STRATEGY_NZ',\n",
       "  'TX:WALI:INC_TREATMENT_URBAN_STRATEGY_NZ',\n",
       "  'TX:WASO:DEC_CONSUMER_FOOD_WASTE_STRATEGY_NZ',\n",
       "  'TX:WASO:INC_ANAEROBIC_AND_COMPOST_STRATEGY_NZ',\n",
       "  'TX:WASO:INC_CAPTURE_BIOGAS_STRATEGY_NZ',\n",
       "  'TX:WASO:INC_ENERGY_FROM_BIOGAS_STRATEGY_NZ',\n",
       "  'TX:WASO:INC_ENERGY_FROM_INCINERATION_STRATEGY_NZ',\n",
       "  'TX:WASO:INC_LANDFILLING_STRATEGY_NZ',\n",
       "  'TX:WASO:INC_RECYCLING_STRATEGY_NZ'],\n",
       " 'strategy_BAU': ['TX:AGRC:INC_PRODUCTIVITY_STRATEGY_BAU',\n",
       "  'TX:LVST:INC_PRODUCTIVITY_STRATEGY_BAU']}"
      ]
     },
     "execution_count": 56,
     "metadata": {},
     "output_type": "execute_result"
    }
   ],
   "source": [
    "# Load the transformations per strategy dictionary so we can pass it to the strategy handler\n",
    "# You can also check here if the transformations in each strategy are correct\n",
    "transformation_per_strategy_dict = excel_yaml_handler.get_transformations_per_strategy_dict()\n",
    "transformation_per_strategy_dict"
   ]
  },
  {
   "cell_type": "code",
   "execution_count": 57,
   "id": "958fcda4",
   "metadata": {},
   "outputs": [
    {
     "data": {
      "text/plain": [
       "dict_keys(['strategy_NDC', 'strategy_NZ', 'strategy_BAU'])"
      ]
     },
     "execution_count": 57,
     "metadata": {},
     "output_type": "execute_result"
    }
   ],
   "source": [
    "transformation_per_strategy_dict.keys()"
   ]
  },
  {
   "cell_type": "markdown",
   "id": "cb689de1",
   "metadata": {},
   "source": [
    "### Creating new strategies\n",
    "- You can create new strategies from scratch.\n",
    "- You can also update existing ones."
   ]
  },
  {
   "cell_type": "code",
   "execution_count": 58,
   "id": "ea277ea6",
   "metadata": {},
   "outputs": [
    {
     "name": "stdout",
     "output_type": "stream",
     "text": [
      "INFO: Strategy code PFLO:NDC already exists in the strategy definitions. Strategy will be updated...\n",
      "Updated row with strategy_code PFLO:NDC\n",
      "INFO: Strategy code PFLO:NZ already exists in the strategy definitions. Strategy will be updated...\n",
      "Updated row with strategy_code PFLO:NZ\n",
      "INFO: Strategy code PFLO:BAU already exists in the strategy definitions. Strategy will be updated...\n",
      "Updated row with strategy_code PFLO:BAU\n"
     ]
    }
   ],
   "source": [
    "# Creating new strategies by updating the strategy_definitions file.\n",
    "# You can edit this to add yours, as many as you want.\n",
    "csv_handler = StrategyCSVHandler(strategies_definitions_file_path, dir_transformations, strategy_mapping_file_path, transformation_per_strategy_dict)\n",
    "\n",
    "#csv_handler.add_strategy(strategy_group='PFLO', description='NDC BaU', yaml_file_suffix='BaU')\n",
    "csv_handler.add_strategy(strategy_group='PFLO', description='NDC', yaml_file_suffix='NDC')\n",
    "csv_handler.add_strategy(strategy_group='PFLO', description='Net Zero', yaml_file_suffix='NZ')\n",
    "csv_handler.add_strategy(strategy_group='PFLO', description='S BAU', yaml_file_suffix='BAU')\n"
   ]
  },
  {
   "cell_type": "code",
   "execution_count": 59,
   "id": "cf8763ef",
   "metadata": {},
   "outputs": [],
   "source": [
    "# Set up the strategy codes you wish to run in ssp\n",
    "strategies_to_run = [0, 6003, 6004, 6005]"
   ]
  },
  {
   "cell_type": "markdown",
   "id": "4285850f",
   "metadata": {},
   "source": [
    "# Manual modification YAML"
   ]
  },
  {
   "cell_type": "markdown",
   "id": "c6b20f6b",
   "metadata": {},
   "source": [
    "## TX:LNDU:DEC_DEFORESTATION"
   ]
  },
  {
   "cell_type": "code",
   "execution_count": 60,
   "id": "6829823d",
   "metadata": {},
   "outputs": [],
   "source": [
    "\n",
    "import yaml\n",
    "\n",
    "with open(os.path.join(dir_transformations, 'transformation_lndu_dec_deforestation_strategy_NZ.yaml'), 'r') as file:\n",
    "    data = yaml.safe_load(file)\n",
    "\n",
    "\n",
    "data['parameters']['magnitude'] = 0.9999999   \n",
    "\n",
    "\n",
    "with open(os.path.join(dir_transformations, 'transformation_lndu_dec_deforestation_strategy_NZ.yaml'), 'w') as file:\n",
    "    yaml.dump(data, file, sort_keys=False)\n",
    "\n",
    "  "
   ]
  },
  {
   "cell_type": "code",
   "execution_count": 61,
   "id": "9e7643c8",
   "metadata": {},
   "outputs": [],
   "source": [
    "\n",
    "with open(os.path.join(dir_transformations, 'transformation_lndu_dec_deforestation_strategy_NDC.yaml'), 'r') as file:\n",
    "    data = yaml.safe_load(file)\n",
    "\n",
    "\n",
    "data['parameters']['magnitude'] = 0.996\n",
    "\n",
    "\n",
    "with open(os.path.join(dir_transformations, 'transformation_lndu_dec_deforestation_strategy_NDC.yaml'), 'w') as file:\n",
    "    yaml.dump(data, file, sort_keys=False) "
   ]
  },
  {
   "cell_type": "markdown",
   "id": "02060a95",
   "metadata": {},
   "source": [
    "## TX:AGRC:INC_CONSERVATION_AGRICULTURE"
   ]
  },
  {
   "cell_type": "code",
   "execution_count": 62,
   "id": "a0b49930",
   "metadata": {},
   "outputs": [],
   "source": [
    "with open(os.path.join(dir_transformations, 'transformation_agrc_inc_conservation_agriculture_strategy_NZ.yaml'), 'r') as file:\n",
    "    data = yaml.safe_load(file)\n",
    "\n",
    "\n",
    "data['parameters']['magnitude_burned'] = 0.8\n",
    "data['parameters']['magnitude_removed'] = 0.8   \n",
    "\n",
    "\n",
    "with open(os.path.join(dir_transformations, 'transformation_agrc_inc_conservation_agriculture_strategy_NZ.yaml'), 'w') as file:\n",
    "    yaml.dump(data, file, sort_keys=False) "
   ]
  },
  {
   "cell_type": "code",
   "execution_count": 63,
   "id": "aadbc8fa",
   "metadata": {},
   "outputs": [],
   "source": [
    "with open(os.path.join(dir_transformations, 'transformation_agrc_inc_conservation_agriculture_strategy_NDC.yaml'), 'r') as file:\n",
    "    data = yaml.safe_load(file)\n",
    "\n",
    "\n",
    "data['parameters']['magnitude_burned'] = 0.6\n",
    "data['parameters']['magnitude_removed'] = 0.6   \n",
    "\n",
    "\n",
    "with open(os.path.join(dir_transformations, 'transformation_agrc_inc_conservation_agriculture_strategy_NDC.yaml'), 'w') as file:\n",
    "    yaml.dump(data, file, sort_keys=False) "
   ]
  },
  {
   "cell_type": "markdown",
   "id": "5b7c7b74",
   "metadata": {},
   "source": [
    "### We finished adding new transformation files and strategies so lets load them back"
   ]
  },
  {
   "cell_type": "code",
   "execution_count": 64,
   "id": "57bd1a2f-4f3e-4c78-b9a6-b00446ee44ad",
   "metadata": {},
   "outputs": [],
   "source": [
    "# then, you can load this back in after modifying (play around with it)\n",
    "transformations = trf.Transformations(\n",
    "    dir_transformations,\n",
    "    transformers = transformers,\n",
    ")\n",
    "tab = transformations.attribute_transformation.table"
   ]
  },
  {
   "cell_type": "code",
   "execution_count": 65,
   "id": "d20cd07a-feb1-4b4c-a755-43d0f639e3c7",
   "metadata": {},
   "outputs": [
    {
     "name": "stdout",
     "output_type": "stream",
     "text": [
      "Strategies defined at /home/tony-ubuntu/decision_sciences/ssp_uganda_private/ssp_modeling/transformations initialized in 4.22 seconds\n"
     ]
    }
   ],
   "source": [
    "#  build the strategies -- will export to path\n",
    "t0 = time.time()\n",
    "strategies = trf.Strategies(\n",
    "    transformations,\n",
    "    export_path = \"transformations\",\n",
    "    prebuild = True,\n",
    ")\n",
    "\n",
    "t_elapse = sf.get_time_elapsed(t0)\n",
    "print(f\"Strategies defined at {strategies.transformations.dir_init} initialized in {t_elapse} seconds\")"
   ]
  },
  {
   "cell_type": "code",
   "execution_count": 66,
   "id": "937acf95-47c5-42d2-bec4-1960ca8bb3b1",
   "metadata": {},
   "outputs": [
    {
     "data": {
      "text/html": [
       "<div>\n",
       "<style scoped>\n",
       "    .dataframe tbody tr th:only-of-type {\n",
       "        vertical-align: middle;\n",
       "    }\n",
       "\n",
       "    .dataframe tbody tr th {\n",
       "        vertical-align: top;\n",
       "    }\n",
       "\n",
       "    .dataframe thead th {\n",
       "        text-align: right;\n",
       "    }\n",
       "</style>\n",
       "<table border=\"1\" class=\"dataframe\">\n",
       "  <thead>\n",
       "    <tr style=\"text-align: right;\">\n",
       "      <th></th>\n",
       "      <th>strategy_id</th>\n",
       "      <th>strategy_code</th>\n",
       "      <th>strategy</th>\n",
       "      <th>description</th>\n",
       "      <th>transformation_specification</th>\n",
       "      <th>baseline_strategy_id</th>\n",
       "    </tr>\n",
       "  </thead>\n",
       "  <tbody>\n",
       "    <tr>\n",
       "      <th>0</th>\n",
       "      <td>0</td>\n",
       "      <td>BASE</td>\n",
       "      <td>Strategy TX:BASE</td>\n",
       "      <td>NaN</td>\n",
       "      <td>TX:BASE</td>\n",
       "      <td>1</td>\n",
       "    </tr>\n",
       "    <tr>\n",
       "      <th>1</th>\n",
       "      <td>1000</td>\n",
       "      <td>AGRC:DEC_CH4_RICE</td>\n",
       "      <td>Singleton - Default Value - AGRC: Improve rice...</td>\n",
       "      <td>NaN</td>\n",
       "      <td>TX:AGRC:DEC_CH4_RICE</td>\n",
       "      <td>0</td>\n",
       "    </tr>\n",
       "    <tr>\n",
       "      <th>2</th>\n",
       "      <td>1001</td>\n",
       "      <td>AGRC:DEC_EXPORTS</td>\n",
       "      <td>Singleton - Default Value - AGRC: Decrease Exp...</td>\n",
       "      <td>NaN</td>\n",
       "      <td>TX:AGRC:DEC_EXPORTS</td>\n",
       "      <td>0</td>\n",
       "    </tr>\n",
       "    <tr>\n",
       "      <th>3</th>\n",
       "      <td>1002</td>\n",
       "      <td>AGRC:DEC_LOSSES_SUPPLY_CHAIN</td>\n",
       "      <td>Singleton - Default Value - AGRC: Reduce suppl...</td>\n",
       "      <td>NaN</td>\n",
       "      <td>TX:AGRC:DEC_LOSSES_SUPPLY_CHAIN</td>\n",
       "      <td>0</td>\n",
       "    </tr>\n",
       "    <tr>\n",
       "      <th>4</th>\n",
       "      <td>1003</td>\n",
       "      <td>AGRC:INC_CONSERVATION_AGRICULTURE</td>\n",
       "      <td>Singleton - Default Value - AGRC: Expand conse...</td>\n",
       "      <td>NaN</td>\n",
       "      <td>TX:AGRC:INC_CONSERVATION_AGRICULTURE</td>\n",
       "      <td>0</td>\n",
       "    </tr>\n",
       "    <tr>\n",
       "      <th>...</th>\n",
       "      <td>...</td>\n",
       "      <td>...</td>\n",
       "      <td>...</td>\n",
       "      <td>...</td>\n",
       "      <td>...</td>\n",
       "      <td>...</td>\n",
       "    </tr>\n",
       "    <tr>\n",
       "      <th>68</th>\n",
       "      <td>6002</td>\n",
       "      <td>PFLO:ALL</td>\n",
       "      <td>All Actions</td>\n",
       "      <td>All actions (unique by transformer)</td>\n",
       "      <td>TX:AGRC:DEC_CH4_RICE|TX:AGRC:DEC_EXPORTS|TX:AG...</td>\n",
       "      <td>0</td>\n",
       "    </tr>\n",
       "    <tr>\n",
       "      <th>69</th>\n",
       "      <td>6003</td>\n",
       "      <td>PFLO:NDC</td>\n",
       "      <td>NDC</td>\n",
       "      <td>NDC</td>\n",
       "      <td>TX:INEN:INC_EFFICIENCY_PRODUCTION_STRATEGY_NDC...</td>\n",
       "      <td>0</td>\n",
       "    </tr>\n",
       "    <tr>\n",
       "      <th>70</th>\n",
       "      <td>6004</td>\n",
       "      <td>PFLO:NZ</td>\n",
       "      <td>NZ</td>\n",
       "      <td>Net Zero</td>\n",
       "      <td>TX:WASO:INC_RECYCLING_STRATEGY_NZ|TX:WALI:INC_...</td>\n",
       "      <td>0</td>\n",
       "    </tr>\n",
       "    <tr>\n",
       "      <th>71</th>\n",
       "      <td>6005</td>\n",
       "      <td>PFLO:BAU</td>\n",
       "      <td>BAU</td>\n",
       "      <td>S BAU</td>\n",
       "      <td>TX:LVST:INC_PRODUCTIVITY_STRATEGY_BAU|TX:AGRC:...</td>\n",
       "      <td>0</td>\n",
       "    </tr>\n",
       "    <tr>\n",
       "      <th>72</th>\n",
       "      <td>6006</td>\n",
       "      <td>PFLO:ASP</td>\n",
       "      <td>ASP</td>\n",
       "      <td>S ASP</td>\n",
       "      <td>TX:LVST:INC_PRODUCTIVITY_STRATEGY_ASP|TX:AGRC:...</td>\n",
       "      <td>0</td>\n",
       "    </tr>\n",
       "  </tbody>\n",
       "</table>\n",
       "<p>73 rows × 6 columns</p>\n",
       "</div>"
      ],
      "text/plain": [
       "    strategy_id                      strategy_code  \\\n",
       "0             0                               BASE   \n",
       "1          1000                  AGRC:DEC_CH4_RICE   \n",
       "2          1001                   AGRC:DEC_EXPORTS   \n",
       "3          1002       AGRC:DEC_LOSSES_SUPPLY_CHAIN   \n",
       "4          1003  AGRC:INC_CONSERVATION_AGRICULTURE   \n",
       "..          ...                                ...   \n",
       "68         6002                           PFLO:ALL   \n",
       "69         6003                           PFLO:NDC   \n",
       "70         6004                            PFLO:NZ   \n",
       "71         6005                           PFLO:BAU   \n",
       "72         6006                           PFLO:ASP   \n",
       "\n",
       "                                             strategy  \\\n",
       "0                                    Strategy TX:BASE   \n",
       "1   Singleton - Default Value - AGRC: Improve rice...   \n",
       "2   Singleton - Default Value - AGRC: Decrease Exp...   \n",
       "3   Singleton - Default Value - AGRC: Reduce suppl...   \n",
       "4   Singleton - Default Value - AGRC: Expand conse...   \n",
       "..                                                ...   \n",
       "68                                        All Actions   \n",
       "69                                                NDC   \n",
       "70                                                 NZ   \n",
       "71                                                BAU   \n",
       "72                                                ASP   \n",
       "\n",
       "                            description  \\\n",
       "0                                   NaN   \n",
       "1                                   NaN   \n",
       "2                                   NaN   \n",
       "3                                   NaN   \n",
       "4                                   NaN   \n",
       "..                                  ...   \n",
       "68  All actions (unique by transformer)   \n",
       "69                                  NDC   \n",
       "70                             Net Zero   \n",
       "71                                S BAU   \n",
       "72                                S ASP   \n",
       "\n",
       "                         transformation_specification  baseline_strategy_id  \n",
       "0                                             TX:BASE                     1  \n",
       "1                                TX:AGRC:DEC_CH4_RICE                     0  \n",
       "2                                 TX:AGRC:DEC_EXPORTS                     0  \n",
       "3                     TX:AGRC:DEC_LOSSES_SUPPLY_CHAIN                     0  \n",
       "4                TX:AGRC:INC_CONSERVATION_AGRICULTURE                     0  \n",
       "..                                                ...                   ...  \n",
       "68  TX:AGRC:DEC_CH4_RICE|TX:AGRC:DEC_EXPORTS|TX:AG...                     0  \n",
       "69  TX:INEN:INC_EFFICIENCY_PRODUCTION_STRATEGY_NDC...                     0  \n",
       "70  TX:WASO:INC_RECYCLING_STRATEGY_NZ|TX:WALI:INC_...                     0  \n",
       "71  TX:LVST:INC_PRODUCTIVITY_STRATEGY_BAU|TX:AGRC:...                     0  \n",
       "72  TX:LVST:INC_PRODUCTIVITY_STRATEGY_ASP|TX:AGRC:...                     0  \n",
       "\n",
       "[73 rows x 6 columns]"
      ]
     },
     "execution_count": 66,
     "metadata": {},
     "output_type": "execute_result"
    }
   ],
   "source": [
    "strategies.attribute_table"
   ]
  },
  {
   "cell_type": "markdown",
   "id": "960373ce-9c92-4998-87e1-79563b4b7800",
   "metadata": {},
   "source": [
    "##  Build our templates\n",
    "- let's use the default variable groupings for LHS"
   ]
  },
  {
   "cell_type": "code",
   "execution_count": 67,
   "id": "fb46000c-f47a-4fcd-ae46-44bf7fab2e99",
   "metadata": {},
   "outputs": [
    {
     "name": "stdout",
     "output_type": "stream",
     "text": [
      "starting strat 6003 with input shape (36, 2220)\n",
      "strat 6003 with output shape (36, 2220)\n",
      "here = 6003\n",
      "starting strat 6004 with input shape (36, 2220)\n",
      "strat 6004 with output shape (36, 2220)\n",
      "here = 6004\n",
      "starting strat 6005 with input shape (36, 2220)\n",
      "strat 6005 with output shape (36, 2220)\n",
      "here = 6005\n"
     ]
    },
    {
     "data": {
      "text/plain": [
       "0"
      ]
     },
     "execution_count": 67,
     "metadata": {},
     "output_type": "execute_result"
    }
   ],
   "source": [
    "# Building excel templates, make sure to include the strategies ids in the strategies attribute as well as the baseline (0)\n",
    "df_vargroups = examples(\"variable_trajectory_group_specification\")\n",
    "\n",
    "strategies.build_strategies_to_templates(\n",
    "    df_trajgroup = df_vargroups,\n",
    "    include_simplex_group_as_trajgroup = True,\n",
    "    strategies = strategies_to_run,\n",
    ")"
   ]
  },
  {
   "cell_type": "markdown",
   "id": "dec04da7-dd23-437c-bcc2-fd63541c44f5",
   "metadata": {},
   "source": [
    "# Finally, load SISEPUEDE so that we can run it"
   ]
  },
  {
   "cell_type": "code",
   "execution_count": 68,
   "id": "749d1cae-41a3-4344-b0ff-db9d8d41a619",
   "metadata": {
    "collapsed": true,
    "jupyter": {
     "outputs_hidden": true
    }
   },
   "outputs": [
    {
     "name": "stderr",
     "output_type": "stream",
     "text": [
      "2025-05-13 16:56:50,215 - INFO - Successfully initialized SISEPUEDEFileStructure.\n",
      "2025-05-13 16:56:50,218 - WARNING - Missing key dict_dimensional_keys: key time_series not found. Tables that rely on the time_series will not have index checking.\n",
      "2025-05-13 16:56:50,218 - INFO - \tSetting export engine to 'csv'.\n",
      "2025-05-13 16:56:50,222 - WARNING - No index fields defined. Index field values will not be checked when writing to tables.\n",
      "2025-05-13 16:56:50,222 - INFO - Successfully instantiated table ANALYSIS_METADATA\n",
      "2025-05-13 16:56:50,223 - WARNING - No index fields found in ATTRIBUTE_DESIGN. Initializing index fields.\n",
      "2025-05-13 16:56:50,223 - INFO - Successfully instantiated table ATTRIBUTE_DESIGN\n",
      "2025-05-13 16:56:50,224 - WARNING - No index fields found in ATTRIBUTE_LHC_SAMPLES_EXOGENOUS_UNCERTAINTIES. Initializing index fields.\n",
      "2025-05-13 16:56:50,225 - INFO - Successfully instantiated table ATTRIBUTE_LHC_SAMPLES_EXOGENOUS_UNCERTAINTIES\n",
      "2025-05-13 16:56:50,225 - WARNING - No index fields found in ATTRIBUTE_LHC_SAMPLES_LEVER_EFFECTS. Initializing index fields.\n",
      "2025-05-13 16:56:50,226 - INFO - Successfully instantiated table ATTRIBUTE_LHC_SAMPLES_LEVER_EFFECTS\n",
      "2025-05-13 16:56:50,226 - WARNING - No index fields found in ATTRIBUTE_PRIMARY. Initializing index fields.\n",
      "2025-05-13 16:56:50,227 - INFO - Successfully instantiated table ATTRIBUTE_PRIMARY\n",
      "2025-05-13 16:56:50,227 - WARNING - No index fields found in ATTRIBUTE_STRATEGY. Initializing index fields.\n",
      "2025-05-13 16:56:50,228 - INFO - Successfully instantiated table ATTRIBUTE_STRATEGY\n",
      "2025-05-13 16:56:50,228 - WARNING - No index fields found in MODEL_BASE_INPUT_DATABASE. Initializing index fields.\n",
      "2025-05-13 16:56:50,230 - INFO - Successfully instantiated table MODEL_BASE_INPUT_DATABASE\n",
      "2025-05-13 16:56:50,231 - WARNING - No index fields found in MODEL_INPUT. Initializing index fields.\n",
      "2025-05-13 16:56:50,232 - INFO - Successfully instantiated table MODEL_INPUT\n",
      "2025-05-13 16:56:50,232 - WARNING - No index fields found in MODEL_OUTPUT. Initializing index fields.\n",
      "2025-05-13 16:56:50,233 - INFO - Successfully instantiated table MODEL_OUTPUT\n",
      "2025-05-13 16:56:50,233 - INFO - SISEPUEDEOutputDatabase successfully initialized IterativeDatabase.\n",
      "2025-05-13 16:56:50,234 - INFO - Successfully initialized database with:\n",
      "\ttype:\tcsv\n",
      "\tanalysis id:\tsisepuede_run_2025-05-13T16:56:49.454912\n",
      "\tfp_base_output:\t/home/tony-ubuntu/anaconda3/envs/ssp_uganda/lib/python3.11/site-packages/sisepuede/out/sisepuede_run_2025-05-13T16;56;49.454912/sisepuede_run_2025-05-13T16;56;49.454912_output_database\n",
      "2025-05-13 16:56:50,234 - INFO - Running SISEPUEDE under template data mode 'calibrated'.\n",
      "2025-05-13 16:56:50,235 - INFO - Initializing BaseInputDatabase\n",
      "2025-05-13 16:56:50,840 - INFO - Initializing FutureTrajectories\n",
      "2025-05-13 16:56:54,987 - INFO - Instantiating 1502 sampling units.\n",
      "2025-05-13 16:56:55,015 - INFO - Iteration 0 complete.\n",
      "2025-05-13 16:57:01,151 - INFO - Iteration 250 complete.\n",
      "2025-05-13 16:57:05,181 - INFO - Iteration 500 complete.\n",
      "2025-05-13 16:57:09,052 - INFO - Iteration 750 complete.\n",
      "2025-05-13 16:57:13,170 - INFO - Iteration 1000 complete.\n",
      "2025-05-13 16:57:16,967 - INFO - Iteration 1250 complete.\n",
      "2025-05-13 16:57:20,915 - INFO - Iteration 1500 complete.\n",
      "2025-05-13 16:57:20,932 - INFO - \t1502 sampling units complete in 25.94 seconds.\n",
      "2025-05-13 16:57:20,941 - INFO - \tFutureTrajectories for 'uganda' complete.\n",
      "2025-05-13 16:57:20,942 - INFO - Initializing LHSDesign\n",
      "2025-05-13 16:57:20,942 - INFO - LHSDesign.fields_factors_l reset successful.\n",
      "2025-05-13 16:57:20,943 - INFO - LHSDesign.fields_factors_x reset successful.\n",
      "2025-05-13 16:57:20,961 - INFO - \tLHSDesign for region 'uganda' complete.\n",
      "2025-05-13 16:57:20,962 - INFO - Generating primary keys (values of primary_id)...\n",
      "2025-05-13 16:57:20,963 - INFO - Successfully initialized SISEPUEDEExperimentalManager.\n",
      "2025-05-13 16:57:20,963 - INFO - Successfully initialized NemoMod temporary database path as /home/tony-ubuntu/anaconda3/envs/ssp_uganda/lib/python3.11/site-packages/sisepuede/tmp/nemomod_intermediate_database.sqlite.\n",
      "2025-05-13 16:57:20,964 - INFO - Set Julia directory for modules and environment to '/home/tony-ubuntu/anaconda3/envs/ssp_uganda/lib/python3.11/site-packages/sisepuede/julia'.\n",
      "2025-05-13 16:57:21,054 - INFO - Successfully read NemoMod input table data from /home/tony-ubuntu/anaconda3/envs/ssp_uganda/lib/python3.11/site-packages/sisepuede/ref/nemo_mod/AvailabilityFactor.csv\n",
      "2025-05-13 16:57:21,059 - INFO - Successfully read NemoMod input table data from /home/tony-ubuntu/anaconda3/envs/ssp_uganda/lib/python3.11/site-packages/sisepuede/ref/nemo_mod/SpecifiedDemandProfile.csv\n",
      "2025-05-13 16:57:21,166 - INFO - Importing Julia...\n"
     ]
    },
    {
     "name": "stdout",
     "output_type": "stream",
     "text": [
      "Detected IPython. Loading juliacall extension. See https://juliapy.github.io/PythonCall.jl/stable/compat/#IPython\n"
     ]
    },
    {
     "name": "stderr",
     "output_type": "stream",
     "text": [
      "Precompiling NemoMod...\n",
      "Info Given NemoMod was explicitly requested, output will be shown live \u001b[0K\n",
      "\u001b[0KWARNING: Method definition parse_line(String) in module ConfParser at /home/tony-ubuntu/.julia/packages/ConfParser/b2fge/src/ConfParser.jl:95 overwritten in module NemoMod at /home/tony-ubuntu/.julia/packages/NemoMod/p49Bn/src/other_functions.jl:35.\n",
      "\u001b[0KERROR: Method overwriting is not permitted during Module precompilation. Use `__precompile__(false)` to opt-out of precompilation.\n",
      "   4102.1 ms  ? NemoMod\n",
      "[ Info: Precompiling NemoMod [a3c327a0-d2f0-11e8-37fd-d12fd35c3c72] \n",
      "WARNING: Method definition parse_line(String) in module ConfParser at /home/tony-ubuntu/.julia/packages/ConfParser/b2fge/src/ConfParser.jl:95 overwritten in module NemoMod at /home/tony-ubuntu/.julia/packages/NemoMod/p49Bn/src/other_functions.jl:35.\n",
      "ERROR: Method overwriting is not permitted during Module precompilation. Use `__precompile__(false)` to opt-out of precompilation.\n",
      "┌ Info: Skipping precompilation due to precompilable error. Importing NemoMod [a3c327a0-d2f0-11e8-37fd-d12fd35c3c72].\n",
      "└   exception = Error when precompiling module, potentially caused by a __precompile__(false) declaration in the module.\n",
      "2025-05-13 16:57:55,037 - INFO - Successfully initialized JuMP optimizer from solver module HiGHS.\n",
      "2025-05-13 16:57:55,064 - INFO - Successfully initialized SISEPUEDEModels.\n",
      "2025-05-13 16:57:55,075 - INFO - Table ANALYSIS_METADATA successfully written to /home/tony-ubuntu/anaconda3/envs/ssp_uganda/lib/python3.11/site-packages/sisepuede/out/sisepuede_run_2025-05-13T16;56;49.454912/sisepuede_run_2025-05-13T16;56;49.454912_output_database/ANALYSIS_METADATA.csv.\n",
      "2025-05-13 16:57:55,078 - INFO - Table ATTRIBUTE_DESIGN successfully written to /home/tony-ubuntu/anaconda3/envs/ssp_uganda/lib/python3.11/site-packages/sisepuede/out/sisepuede_run_2025-05-13T16;56;49.454912/sisepuede_run_2025-05-13T16;56;49.454912_output_database/ATTRIBUTE_DESIGN.csv.\n",
      "2025-05-13 16:57:55,081 - INFO - Table ATTRIBUTE_STRATEGY successfully written to /home/tony-ubuntu/anaconda3/envs/ssp_uganda/lib/python3.11/site-packages/sisepuede/out/sisepuede_run_2025-05-13T16;56;49.454912/sisepuede_run_2025-05-13T16;56;49.454912_output_database/ATTRIBUTE_STRATEGY.csv.\n",
      "2025-05-13 16:57:55,273 - INFO - Table MODEL_BASE_INPUT_DATABASE successfully written to /home/tony-ubuntu/anaconda3/envs/ssp_uganda/lib/python3.11/site-packages/sisepuede/out/sisepuede_run_2025-05-13T16;56;49.454912/sisepuede_run_2025-05-13T16;56;49.454912_output_database/MODEL_BASE_INPUT_DATABASE.csv.\n"
     ]
    }
   ],
   "source": [
    "import sisepuede as si\n",
    "# timestamp_str = datetime.now().strftime(\"%Y-%m-%d %H:%M:%S\")\n",
    "ssp = si.SISEPUEDE(\n",
    "    \"calibrated\",\n",
    "    db_type = \"csv\",\n",
    "    # id_str = f\"sisepuede_run_2024-11-04T09:23:26.721580\",\n",
    "    initialize_as_dummy = not(energy_model_flag), # no connection to Julia is initialized if set to True\n",
    "    regions = [country_name],\n",
    "    strategies = strategies,\n",
    "    try_exogenous_xl_types_in_variable_specification = True,\n",
    ")"
   ]
  },
  {
   "cell_type": "code",
   "execution_count": 69,
   "id": "ace8ea38",
   "metadata": {},
   "outputs": [
    {
     "data": {
      "text/plain": [
       "False"
      ]
     },
     "execution_count": 69,
     "metadata": {},
     "output_type": "execute_result"
    }
   ],
   "source": [
    "not(energy_model_flag)"
   ]
  },
  {
   "cell_type": "code",
   "execution_count": 70,
   "id": "3e24634e-19a9-457f-909f-be5696f1ed14",
   "metadata": {
    "collapsed": true,
    "jupyter": {
     "outputs_hidden": true
    }
   },
   "outputs": [
    {
     "name": "stderr",
     "output_type": "stream",
     "text": [
      "2025-05-13 16:57:55,376 - INFO - \n",
      "***\tSTARTING REGION uganda\t***\n",
      "\n",
      "2025-05-13 16:57:59,362 - INFO - Trying run primary_id = 0 in region uganda\n",
      "2025-05-13 16:57:59,363 - INFO - Running AFOLU model\n",
      "2025-05-13 16:57:59,677 - INFO - AFOLU model run successfully completed\n",
      "2025-05-13 16:57:59,678 - INFO - Running CircularEconomy model\n",
      "2025-05-13 16:57:59,769 - INFO - CircularEconomy model run successfully completed\n",
      "2025-05-13 16:57:59,770 - INFO - Running IPPU model\n",
      "2025-05-13 16:57:59,927 - INFO - IPPU model run successfully completed\n",
      "2025-05-13 16:57:59,928 - INFO - Running Energy model (EnergyConsumption without Fugitive Emissions)\n",
      "2025-05-13 16:57:59,983 - DEBUG - Missing elasticity information found in 'project_energy_consumption_by_fuel_from_effvars': using specified future demands.\n",
      "2025-05-13 16:58:00,104 - INFO - EnergyConsumption without Fugitive Emissions model run successfully completed\n",
      "2025-05-13 16:58:00,105 - INFO - Running Energy model (Electricity and Fuel Production: trying to call Julia)\n",
      "2025-05-13 16:58:00,180 - INFO - \tPath to temporary NemoMod database '/home/tony-ubuntu/anaconda3/envs/ssp_uganda/lib/python3.11/site-packages/sisepuede/tmp/nemomod_intermediate_database.sqlite' not found. Creating...\n"
     ]
    },
    {
     "name": "stdout",
     "output_type": "stream",
     "text": [
      "2025-13-May 16:58:00.935 Opened SQLite database at /home/tony-ubuntu/anaconda3/envs/ssp_uganda/lib/python3.11/site-packages/sisepuede/tmp/nemomod_intermediate_database.sqlite.\n",
      "2025-13-May 16:58:01.366 Added NEMO structure to SQLite database at /home/tony-ubuntu/anaconda3/envs/ssp_uganda/lib/python3.11/site-packages/sisepuede/tmp/nemomod_intermediate_database.sqlite.\n",
      "2025-13-May 16:58:22.801 Started modeling scenario. NEMO version = 2.0.0, solver = HiGHS.\n"
     ]
    },
    {
     "name": "stderr",
     "output_type": "stream",
     "text": [
      "┌ Warning: Model period emission limits (ModelPeriodEmissionLimit parameter) are not enforced when modeling selected years.\n",
      "└ @ NemoMod ~/.julia/packages/NemoMod/p49Bn/src/scenario_calculation.jl:6112\n"
     ]
    },
    {
     "name": "stdout",
     "output_type": "stream",
     "text": [
      "2025-13-May 16:59:24.511 Finished modeling scenario.\n"
     ]
    },
    {
     "name": "stderr",
     "output_type": "stream",
     "text": [
      "2025-05-13 16:59:24,918 - INFO - NemoMod ran successfully with the following status: OPTIMAL\n",
      "2025-05-13 16:59:25,016 - INFO - EnergyProduction model run successfully completed\n",
      "2025-05-13 16:59:25,018 - INFO - Running Energy (Fugitive Emissions)\n",
      "2025-05-13 16:59:25,140 - INFO - Fugitive Emissions from Energy model run successfully completed\n",
      "2025-05-13 16:59:25,141 - INFO - Appending Socioeconomic outputs\n",
      "2025-05-13 16:59:25,177 - INFO - Socioeconomic outputs successfully appended.\n",
      "2025-05-13 16:59:25,189 - INFO - Model run for primary_id = 0 successfully completed in 85.83 seconds (n_tries = 1).\n",
      "2025-05-13 16:59:25,249 - INFO - Trying run primary_id = 69069 in region uganda\n",
      "2025-05-13 16:59:25,250 - INFO - Running AFOLU model\n",
      "2025-05-13 16:59:25,540 - INFO - AFOLU model run successfully completed\n",
      "2025-05-13 16:59:25,541 - INFO - Running CircularEconomy model\n",
      "2025-05-13 16:59:25,623 - INFO - CircularEconomy model run successfully completed\n",
      "2025-05-13 16:59:25,624 - INFO - Running IPPU model\n",
      "2025-05-13 16:59:25,736 - INFO - IPPU model run successfully completed\n",
      "2025-05-13 16:59:25,737 - INFO - Running Energy model (EnergyConsumption without Fugitive Emissions)\n",
      "2025-05-13 16:59:25,760 - DEBUG - Missing elasticity information found in 'project_energy_consumption_by_fuel_from_effvars': using specified future demands.\n",
      "2025-05-13 16:59:25,889 - INFO - EnergyConsumption without Fugitive Emissions model run successfully completed\n",
      "2025-05-13 16:59:25,890 - INFO - Running Energy model (Electricity and Fuel Production: trying to call Julia)\n"
     ]
    },
    {
     "name": "stdout",
     "output_type": "stream",
     "text": [
      "2025-13-May 16:59:30.104 Started modeling scenario. NEMO version = 2.0.0, solver = HiGHS.\n",
      "2025-13-May 17:00:45.226 Finished modeling scenario.\n"
     ]
    },
    {
     "name": "stderr",
     "output_type": "stream",
     "text": [
      "┌ Warning: Model period emission limits (ModelPeriodEmissionLimit parameter) are not enforced when modeling selected years.\n",
      "└ @ NemoMod ~/.julia/packages/NemoMod/p49Bn/src/scenario_calculation.jl:6112\n",
      "2025-05-13 17:00:45,437 - INFO - NemoMod ran successfully with the following status: OPTIMAL\n",
      "2025-05-13 17:00:45,457 - INFO - EnergyProduction model run successfully completed\n",
      "2025-05-13 17:00:45,457 - INFO - Running Energy (Fugitive Emissions)\n",
      "2025-05-13 17:00:45,508 - INFO - Fugitive Emissions from Energy model run successfully completed\n",
      "2025-05-13 17:00:45,509 - INFO - Appending Socioeconomic outputs\n",
      "2025-05-13 17:00:45,520 - INFO - Socioeconomic outputs successfully appended.\n",
      "2025-05-13 17:00:45,524 - INFO - Model run for primary_id = 69069 successfully completed in 80.27 seconds (n_tries = 1).\n",
      "2025-05-13 17:00:45,533 - INFO - Trying run primary_id = 70070 in region uganda\n",
      "2025-05-13 17:00:45,534 - INFO - Running AFOLU model\n",
      "2025-05-13 17:00:45,761 - INFO - AFOLU model run successfully completed\n",
      "2025-05-13 17:00:45,762 - INFO - Running CircularEconomy model\n",
      "2025-05-13 17:00:45,820 - INFO - CircularEconomy model run successfully completed\n",
      "2025-05-13 17:00:45,821 - INFO - Running IPPU model\n",
      "2025-05-13 17:00:45,918 - INFO - IPPU model run successfully completed\n",
      "2025-05-13 17:00:45,919 - INFO - Running Energy model (EnergyConsumption without Fugitive Emissions)\n",
      "2025-05-13 17:00:45,945 - DEBUG - Missing elasticity information found in 'project_energy_consumption_by_fuel_from_effvars': using specified future demands.\n",
      "2025-05-13 17:00:46,070 - INFO - EnergyConsumption without Fugitive Emissions model run successfully completed\n",
      "2025-05-13 17:00:46,071 - INFO - Running Energy model (Electricity and Fuel Production: trying to call Julia)\n"
     ]
    },
    {
     "name": "stdout",
     "output_type": "stream",
     "text": [
      "2025-13-May 17:00:48.182 Started modeling scenario. NEMO version = 2.0.0, solver = HiGHS.\n"
     ]
    },
    {
     "name": "stderr",
     "output_type": "stream",
     "text": [
      "┌ Warning: Model period emission limits (ModelPeriodEmissionLimit parameter) are not enforced when modeling selected years.\n",
      "└ @ NemoMod ~/.julia/packages/NemoMod/p49Bn/src/scenario_calculation.jl:6112\n"
     ]
    },
    {
     "name": "stdout",
     "output_type": "stream",
     "text": [
      "2025-13-May 17:01:57.973 Finished modeling scenario.\n"
     ]
    },
    {
     "name": "stderr",
     "output_type": "stream",
     "text": [
      "2025-05-13 17:01:58,195 - INFO - NemoMod ran successfully with the following status: OPTIMAL\n",
      "2025-05-13 17:01:58,216 - INFO - EnergyProduction model run successfully completed\n",
      "2025-05-13 17:01:58,217 - INFO - Running Energy (Fugitive Emissions)\n",
      "2025-05-13 17:01:58,265 - INFO - Fugitive Emissions from Energy model run successfully completed\n",
      "2025-05-13 17:01:58,266 - INFO - Appending Socioeconomic outputs\n",
      "2025-05-13 17:01:58,275 - INFO - Socioeconomic outputs successfully appended.\n",
      "2025-05-13 17:01:58,280 - INFO - Model run for primary_id = 70070 successfully completed in 72.75 seconds (n_tries = 1).\n",
      "2025-05-13 17:01:58,289 - INFO - Trying run primary_id = 71071 in region uganda\n",
      "2025-05-13 17:01:58,290 - INFO - Running AFOLU model\n",
      "2025-05-13 17:01:58,547 - INFO - AFOLU model run successfully completed\n",
      "2025-05-13 17:01:58,548 - INFO - Running CircularEconomy model\n",
      "2025-05-13 17:01:58,630 - INFO - CircularEconomy model run successfully completed\n",
      "2025-05-13 17:01:58,631 - INFO - Running IPPU model\n",
      "2025-05-13 17:01:58,763 - INFO - IPPU model run successfully completed\n",
      "2025-05-13 17:01:58,764 - INFO - Running Energy model (EnergyConsumption without Fugitive Emissions)\n",
      "2025-05-13 17:01:58,813 - DEBUG - Missing elasticity information found in 'project_energy_consumption_by_fuel_from_effvars': using specified future demands.\n",
      "2025-05-13 17:01:58,937 - INFO - EnergyConsumption without Fugitive Emissions model run successfully completed\n",
      "2025-05-13 17:01:58,938 - INFO - Running Energy model (Electricity and Fuel Production: trying to call Julia)\n"
     ]
    },
    {
     "name": "stdout",
     "output_type": "stream",
     "text": [
      "2025-13-May 17:02:01.014 Started modeling scenario. NEMO version = 2.0.0, solver = HiGHS.\n"
     ]
    },
    {
     "name": "stderr",
     "output_type": "stream",
     "text": [
      "┌ Warning: Model period emission limits (ModelPeriodEmissionLimit parameter) are not enforced when modeling selected years.\n",
      "└ @ NemoMod ~/.julia/packages/NemoMod/p49Bn/src/scenario_calculation.jl:6112\n"
     ]
    },
    {
     "name": "stdout",
     "output_type": "stream",
     "text": [
      "2025-13-May 17:02:32.773 Finished modeling scenario.\n"
     ]
    },
    {
     "name": "stderr",
     "output_type": "stream",
     "text": [
      "2025-05-13 17:02:33,040 - INFO - NemoMod ran successfully with the following status: OPTIMAL\n",
      "2025-05-13 17:02:33,066 - INFO - EnergyProduction model run successfully completed\n",
      "2025-05-13 17:02:33,068 - INFO - Running Energy (Fugitive Emissions)\n",
      "2025-05-13 17:02:33,179 - INFO - Fugitive Emissions from Energy model run successfully completed\n",
      "2025-05-13 17:02:33,180 - INFO - Appending Socioeconomic outputs\n",
      "2025-05-13 17:02:33,226 - INFO - Socioeconomic outputs successfully appended.\n",
      "2025-05-13 17:02:33,237 - INFO - Model run for primary_id = 71071 successfully completed in 34.95 seconds (n_tries = 1).\n",
      "2025-05-13 17:02:33,244 - INFO - \n",
      "***\t REGION uganda COMPLETE\t***\n",
      "\n",
      "2025-05-13 17:02:33,475 - INFO - Table MODEL_OUTPUT successfully written to /home/tony-ubuntu/anaconda3/envs/ssp_uganda/lib/python3.11/site-packages/sisepuede/out/sisepuede_run_2025-05-13T16;56;49.454912/sisepuede_run_2025-05-13T16;56;49.454912_output_database/MODEL_OUTPUT.csv.\n",
      "2025-05-13 17:02:33,483 - INFO - Table ATTRIBUTE_PRIMARY successfully written to /home/tony-ubuntu/anaconda3/envs/ssp_uganda/lib/python3.11/site-packages/sisepuede/out/sisepuede_run_2025-05-13T16;56;49.454912/sisepuede_run_2025-05-13T16;56;49.454912_output_database/ATTRIBUTE_PRIMARY.csv.\n",
      "2025-05-13 17:02:33,760 - INFO - Table MODEL_INPUT successfully written to /home/tony-ubuntu/anaconda3/envs/ssp_uganda/lib/python3.11/site-packages/sisepuede/out/sisepuede_run_2025-05-13T16;56;49.454912/sisepuede_run_2025-05-13T16;56;49.454912_output_database/MODEL_INPUT.csv.\n"
     ]
    },
    {
     "data": {
      "text/plain": [
       "{'uganda': [0, 69069, 70070, 71071]}"
      ]
     },
     "execution_count": 70,
     "metadata": {},
     "output_type": "execute_result"
    }
   ],
   "source": [
    "# This runs the model, make sure you edit key_stretegy with the strategy ids you want to execute include baseline (0)\n",
    "dict_scens = {\n",
    "    ssp.key_design: [0],\n",
    "    ssp.key_future: [0],\n",
    "    ssp.key_strategy: strategies_to_run,\n",
    "}\n",
    "\n",
    "ssp.project_scenarios(\n",
    "    dict_scens,\n",
    "    save_inputs = True,\n",
    "    include_electricity_in_energy = energy_model_flag\n",
    ")"
   ]
  },
  {
   "cell_type": "code",
   "execution_count": 71,
   "id": "618f54b8-82f4-47e0-99a0-47b894039ccc",
   "metadata": {},
   "outputs": [],
   "source": [
    "# Read input and output files\n",
    "df_out = ssp.read_output(None)\n",
    "df_in = ssp.read_input(None)"
   ]
  },
  {
   "cell_type": "code",
   "execution_count": 72,
   "id": "ff754903",
   "metadata": {},
   "outputs": [
    {
     "data": {
      "text/plain": [
       "['emission_co2e_subsector_total_agrc',\n",
       " 'emission_co2e_subsector_total_frst',\n",
       " 'emission_co2e_subsector_total_lndu',\n",
       " 'emission_co2e_subsector_total_lsmm',\n",
       " 'emission_co2e_subsector_total_lvst',\n",
       " 'emission_co2e_subsector_total_soil',\n",
       " 'emission_co2e_subsector_total_waso',\n",
       " 'emission_co2e_subsector_total_trww',\n",
       " 'emission_co2e_subsector_total_ccsq',\n",
       " 'emission_co2e_subsector_total_entc',\n",
       " 'emission_co2e_subsector_total_fgtv',\n",
       " 'emission_co2e_subsector_total_inen',\n",
       " 'emission_co2e_subsector_total_scoe',\n",
       " 'emission_co2e_subsector_total_trns',\n",
       " 'emission_co2e_subsector_total_ippu']"
      ]
     },
     "execution_count": 72,
     "metadata": {},
     "output_type": "execute_result"
    }
   ],
   "source": [
    "matt.get_all_subsector_emission_total_fields()"
   ]
  },
  {
   "cell_type": "code",
   "execution_count": 73,
   "id": "8f765f81",
   "metadata": {},
   "outputs": [],
   "source": [
    "bau_out_df = df_out[df_out['primary_id'] == 71071]\n",
    "ndc_out_df = df_out[df_out['primary_id'] == 69069]\n",
    "nz_out_df = df_out[df_out['primary_id'] == 70070]"
   ]
  },
  {
   "cell_type": "code",
   "execution_count": 74,
   "id": "b75faa05",
   "metadata": {},
   "outputs": [
    {
     "data": {
      "text/plain": [
       "['efficfactor_ccsq_heat_energy_direct_air_capture_geothermal',\n",
       " 'efficfactor_ccsq_heat_energy_direct_air_capture_hydrogen',\n",
       " 'efficfactor_ccsq_heat_energy_direct_air_capture_natural_gas',\n",
       " 'energy_intensity_ccsq_direct_air_capture_gj_per_tonne_co2',\n",
       " 'frac_ccsq_energydem_direct_air_capture_electricity',\n",
       " 'frac_ccsq_energydem_direct_air_capture_heat',\n",
       " 'frac_ccsq_heat_energy_direct_air_capture_geothermal',\n",
       " 'frac_ccsq_heat_energy_direct_air_capture_hydrogen',\n",
       " 'frac_ccsq_heat_energy_direct_air_capture_natural_gas',\n",
       " 'qty_ccsq_mt_co2_captured_sequestered_by_direct_air_capture']"
      ]
     },
     "execution_count": 74,
     "metadata": {},
     "output_type": "execute_result"
    }
   ],
   "source": [
    "[col for col in df_in.columns if \"ccsq\" in col]"
   ]
  },
  {
   "cell_type": "markdown",
   "id": "ba37c192",
   "metadata": {},
   "source": [
    "## Check Energy outputs"
   ]
  },
  {
   "cell_type": "code",
   "execution_count": 75,
   "id": "7b1f5d42",
   "metadata": {},
   "outputs": [
    {
     "data": {
      "text/html": [
       "<div>\n",
       "<style scoped>\n",
       "    .dataframe tbody tr th:only-of-type {\n",
       "        vertical-align: middle;\n",
       "    }\n",
       "\n",
       "    .dataframe tbody tr th {\n",
       "        vertical-align: top;\n",
       "    }\n",
       "\n",
       "    .dataframe thead th {\n",
       "        text-align: right;\n",
       "    }\n",
       "</style>\n",
       "<table border=\"1\" class=\"dataframe\">\n",
       "  <thead>\n",
       "    <tr style=\"text-align: right;\">\n",
       "      <th></th>\n",
       "      <th>elasticity_trde_mtkm_to_gdp_freight</th>\n",
       "      <th>elasticity_trde_pkm_to_gdppc_private_and_public</th>\n",
       "      <th>elasticity_trde_pkm_to_gdppc_regional</th>\n",
       "    </tr>\n",
       "  </thead>\n",
       "  <tbody>\n",
       "    <tr>\n",
       "      <th>0</th>\n",
       "      <td>1.000000</td>\n",
       "      <td>1.120000</td>\n",
       "      <td>2.640</td>\n",
       "    </tr>\n",
       "    <tr>\n",
       "      <th>1</th>\n",
       "      <td>1.000000</td>\n",
       "      <td>1.120000</td>\n",
       "      <td>2.640</td>\n",
       "    </tr>\n",
       "    <tr>\n",
       "      <th>2</th>\n",
       "      <td>1.000000</td>\n",
       "      <td>1.120000</td>\n",
       "      <td>2.640</td>\n",
       "    </tr>\n",
       "    <tr>\n",
       "      <th>3</th>\n",
       "      <td>1.000000</td>\n",
       "      <td>1.120000</td>\n",
       "      <td>2.640</td>\n",
       "    </tr>\n",
       "    <tr>\n",
       "      <th>4</th>\n",
       "      <td>1.000000</td>\n",
       "      <td>1.120000</td>\n",
       "      <td>2.640</td>\n",
       "    </tr>\n",
       "    <tr>\n",
       "      <th>5</th>\n",
       "      <td>1.000000</td>\n",
       "      <td>1.120000</td>\n",
       "      <td>2.640</td>\n",
       "    </tr>\n",
       "    <tr>\n",
       "      <th>6</th>\n",
       "      <td>0.966667</td>\n",
       "      <td>1.082667</td>\n",
       "      <td>2.552</td>\n",
       "    </tr>\n",
       "    <tr>\n",
       "      <th>7</th>\n",
       "      <td>0.933333</td>\n",
       "      <td>1.045333</td>\n",
       "      <td>2.464</td>\n",
       "    </tr>\n",
       "    <tr>\n",
       "      <th>8</th>\n",
       "      <td>0.900000</td>\n",
       "      <td>1.008000</td>\n",
       "      <td>2.376</td>\n",
       "    </tr>\n",
       "    <tr>\n",
       "      <th>9</th>\n",
       "      <td>0.866667</td>\n",
       "      <td>0.970667</td>\n",
       "      <td>2.288</td>\n",
       "    </tr>\n",
       "    <tr>\n",
       "      <th>10</th>\n",
       "      <td>0.833333</td>\n",
       "      <td>0.933333</td>\n",
       "      <td>2.200</td>\n",
       "    </tr>\n",
       "    <tr>\n",
       "      <th>11</th>\n",
       "      <td>0.800000</td>\n",
       "      <td>0.896000</td>\n",
       "      <td>2.112</td>\n",
       "    </tr>\n",
       "    <tr>\n",
       "      <th>12</th>\n",
       "      <td>0.766667</td>\n",
       "      <td>0.858667</td>\n",
       "      <td>2.024</td>\n",
       "    </tr>\n",
       "    <tr>\n",
       "      <th>13</th>\n",
       "      <td>0.733333</td>\n",
       "      <td>0.821333</td>\n",
       "      <td>1.936</td>\n",
       "    </tr>\n",
       "    <tr>\n",
       "      <th>14</th>\n",
       "      <td>0.700000</td>\n",
       "      <td>0.784000</td>\n",
       "      <td>1.848</td>\n",
       "    </tr>\n",
       "    <tr>\n",
       "      <th>15</th>\n",
       "      <td>0.666667</td>\n",
       "      <td>0.746667</td>\n",
       "      <td>1.760</td>\n",
       "    </tr>\n",
       "    <tr>\n",
       "      <th>16</th>\n",
       "      <td>0.633333</td>\n",
       "      <td>0.709333</td>\n",
       "      <td>1.672</td>\n",
       "    </tr>\n",
       "    <tr>\n",
       "      <th>17</th>\n",
       "      <td>0.600000</td>\n",
       "      <td>0.672000</td>\n",
       "      <td>1.584</td>\n",
       "    </tr>\n",
       "    <tr>\n",
       "      <th>18</th>\n",
       "      <td>0.566667</td>\n",
       "      <td>0.634667</td>\n",
       "      <td>1.496</td>\n",
       "    </tr>\n",
       "    <tr>\n",
       "      <th>19</th>\n",
       "      <td>0.533333</td>\n",
       "      <td>0.597333</td>\n",
       "      <td>1.408</td>\n",
       "    </tr>\n",
       "    <tr>\n",
       "      <th>20</th>\n",
       "      <td>0.500000</td>\n",
       "      <td>0.560000</td>\n",
       "      <td>1.320</td>\n",
       "    </tr>\n",
       "    <tr>\n",
       "      <th>21</th>\n",
       "      <td>0.466667</td>\n",
       "      <td>0.522667</td>\n",
       "      <td>1.232</td>\n",
       "    </tr>\n",
       "    <tr>\n",
       "      <th>22</th>\n",
       "      <td>0.433333</td>\n",
       "      <td>0.485333</td>\n",
       "      <td>1.144</td>\n",
       "    </tr>\n",
       "    <tr>\n",
       "      <th>23</th>\n",
       "      <td>0.400000</td>\n",
       "      <td>0.448000</td>\n",
       "      <td>1.056</td>\n",
       "    </tr>\n",
       "    <tr>\n",
       "      <th>24</th>\n",
       "      <td>0.366667</td>\n",
       "      <td>0.410667</td>\n",
       "      <td>0.968</td>\n",
       "    </tr>\n",
       "    <tr>\n",
       "      <th>25</th>\n",
       "      <td>0.333333</td>\n",
       "      <td>0.373333</td>\n",
       "      <td>0.880</td>\n",
       "    </tr>\n",
       "    <tr>\n",
       "      <th>26</th>\n",
       "      <td>0.300000</td>\n",
       "      <td>0.336000</td>\n",
       "      <td>0.792</td>\n",
       "    </tr>\n",
       "    <tr>\n",
       "      <th>27</th>\n",
       "      <td>0.266667</td>\n",
       "      <td>0.298667</td>\n",
       "      <td>0.704</td>\n",
       "    </tr>\n",
       "    <tr>\n",
       "      <th>28</th>\n",
       "      <td>0.233333</td>\n",
       "      <td>0.261333</td>\n",
       "      <td>0.616</td>\n",
       "    </tr>\n",
       "    <tr>\n",
       "      <th>29</th>\n",
       "      <td>0.200000</td>\n",
       "      <td>0.224000</td>\n",
       "      <td>0.528</td>\n",
       "    </tr>\n",
       "    <tr>\n",
       "      <th>30</th>\n",
       "      <td>0.166667</td>\n",
       "      <td>0.186667</td>\n",
       "      <td>0.440</td>\n",
       "    </tr>\n",
       "    <tr>\n",
       "      <th>31</th>\n",
       "      <td>0.133333</td>\n",
       "      <td>0.149333</td>\n",
       "      <td>0.352</td>\n",
       "    </tr>\n",
       "    <tr>\n",
       "      <th>32</th>\n",
       "      <td>0.100000</td>\n",
       "      <td>0.112000</td>\n",
       "      <td>0.264</td>\n",
       "    </tr>\n",
       "    <tr>\n",
       "      <th>33</th>\n",
       "      <td>0.066667</td>\n",
       "      <td>0.074667</td>\n",
       "      <td>0.176</td>\n",
       "    </tr>\n",
       "    <tr>\n",
       "      <th>34</th>\n",
       "      <td>0.033333</td>\n",
       "      <td>0.037333</td>\n",
       "      <td>0.088</td>\n",
       "    </tr>\n",
       "  </tbody>\n",
       "</table>\n",
       "</div>"
      ],
      "text/plain": [
       "    elasticity_trde_mtkm_to_gdp_freight  \\\n",
       "0                              1.000000   \n",
       "1                              1.000000   \n",
       "2                              1.000000   \n",
       "3                              1.000000   \n",
       "4                              1.000000   \n",
       "5                              1.000000   \n",
       "6                              0.966667   \n",
       "7                              0.933333   \n",
       "8                              0.900000   \n",
       "9                              0.866667   \n",
       "10                             0.833333   \n",
       "11                             0.800000   \n",
       "12                             0.766667   \n",
       "13                             0.733333   \n",
       "14                             0.700000   \n",
       "15                             0.666667   \n",
       "16                             0.633333   \n",
       "17                             0.600000   \n",
       "18                             0.566667   \n",
       "19                             0.533333   \n",
       "20                             0.500000   \n",
       "21                             0.466667   \n",
       "22                             0.433333   \n",
       "23                             0.400000   \n",
       "24                             0.366667   \n",
       "25                             0.333333   \n",
       "26                             0.300000   \n",
       "27                             0.266667   \n",
       "28                             0.233333   \n",
       "29                             0.200000   \n",
       "30                             0.166667   \n",
       "31                             0.133333   \n",
       "32                             0.100000   \n",
       "33                             0.066667   \n",
       "34                             0.033333   \n",
       "\n",
       "    elasticity_trde_pkm_to_gdppc_private_and_public  \\\n",
       "0                                          1.120000   \n",
       "1                                          1.120000   \n",
       "2                                          1.120000   \n",
       "3                                          1.120000   \n",
       "4                                          1.120000   \n",
       "5                                          1.120000   \n",
       "6                                          1.082667   \n",
       "7                                          1.045333   \n",
       "8                                          1.008000   \n",
       "9                                          0.970667   \n",
       "10                                         0.933333   \n",
       "11                                         0.896000   \n",
       "12                                         0.858667   \n",
       "13                                         0.821333   \n",
       "14                                         0.784000   \n",
       "15                                         0.746667   \n",
       "16                                         0.709333   \n",
       "17                                         0.672000   \n",
       "18                                         0.634667   \n",
       "19                                         0.597333   \n",
       "20                                         0.560000   \n",
       "21                                         0.522667   \n",
       "22                                         0.485333   \n",
       "23                                         0.448000   \n",
       "24                                         0.410667   \n",
       "25                                         0.373333   \n",
       "26                                         0.336000   \n",
       "27                                         0.298667   \n",
       "28                                         0.261333   \n",
       "29                                         0.224000   \n",
       "30                                         0.186667   \n",
       "31                                         0.149333   \n",
       "32                                         0.112000   \n",
       "33                                         0.074667   \n",
       "34                                         0.037333   \n",
       "\n",
       "    elasticity_trde_pkm_to_gdppc_regional  \n",
       "0                                   2.640  \n",
       "1                                   2.640  \n",
       "2                                   2.640  \n",
       "3                                   2.640  \n",
       "4                                   2.640  \n",
       "5                                   2.640  \n",
       "6                                   2.552  \n",
       "7                                   2.464  \n",
       "8                                   2.376  \n",
       "9                                   2.288  \n",
       "10                                  2.200  \n",
       "11                                  2.112  \n",
       "12                                  2.024  \n",
       "13                                  1.936  \n",
       "14                                  1.848  \n",
       "15                                  1.760  \n",
       "16                                  1.672  \n",
       "17                                  1.584  \n",
       "18                                  1.496  \n",
       "19                                  1.408  \n",
       "20                                  1.320  \n",
       "21                                  1.232  \n",
       "22                                  1.144  \n",
       "23                                  1.056  \n",
       "24                                  0.968  \n",
       "25                                  0.880  \n",
       "26                                  0.792  \n",
       "27                                  0.704  \n",
       "28                                  0.616  \n",
       "29                                  0.528  \n",
       "30                                  0.440  \n",
       "31                                  0.352  \n",
       "32                                  0.264  \n",
       "33                                  0.176  \n",
       "34                                  0.088  "
      ]
     },
     "execution_count": 75,
     "metadata": {},
     "output_type": "execute_result"
    }
   ],
   "source": [
    "df_in[[col for col in df_in.columns if \"elasticity_trde\" in col]].head(35)"
   ]
  },
  {
   "cell_type": "code",
   "execution_count": 76,
   "id": "1694ec41",
   "metadata": {},
   "outputs": [],
   "source": [
    "def plot_columns(df, time_col, value_cols):\n",
    "    \"\"\"\n",
    "    Plots a line plot for the specified columns in a DataFrame.\n",
    "\n",
    "    Parameters:\n",
    "    - df (pd.DataFrame): The DataFrame containing the data.\n",
    "    - time_col (str): The column to use for the X-axis (e.g., time_period).\n",
    "    - value_cols (list of str): The columns to plot as lines.\n",
    "\n",
    "    Returns:\n",
    "    - None\n",
    "    \"\"\"\n",
    "    plt.figure(figsize=(10, 6))\n",
    "    for col in value_cols:\n",
    "        plt.plot(df[time_col], df[col], label=col)\n",
    "    \n",
    "    plt.xlabel(time_col)\n",
    "    plt.ylabel(\"Values\")\n",
    "    plt.title(\"Line Plot of Selected Columns\")\n",
    "    plt.legend()\n",
    "    plt.grid(True)\n",
    "    plt.tight_layout()\n",
    "    plt.show()"
   ]
  },
  {
   "cell_type": "code",
   "execution_count": 77,
   "id": "9f46f4ba",
   "metadata": {},
   "outputs": [],
   "source": [
    "electricity_cols = [\n",
    "    \"emission_co2e_subsector_total_trns\"\n",
    "]"
   ]
  },
  {
   "cell_type": "code",
   "execution_count": 93,
   "id": "f6085032",
   "metadata": {},
   "outputs": [
    {
     "data": {
      "text/html": [
       "<div>\n",
       "<style scoped>\n",
       "    .dataframe tbody tr th:only-of-type {\n",
       "        vertical-align: middle;\n",
       "    }\n",
       "\n",
       "    .dataframe tbody tr th {\n",
       "        vertical-align: top;\n",
       "    }\n",
       "\n",
       "    .dataframe thead th {\n",
       "        text-align: right;\n",
       "    }\n",
       "</style>\n",
       "<table border=\"1\" class=\"dataframe\">\n",
       "  <thead>\n",
       "    <tr style=\"text-align: right;\">\n",
       "      <th></th>\n",
       "      <th>gdp_per_capita_usd</th>\n",
       "      <th>population_gnrl_total</th>\n",
       "    </tr>\n",
       "  </thead>\n",
       "  <tbody>\n",
       "    <tr>\n",
       "      <th>108</th>\n",
       "      <td>847.267626</td>\n",
       "      <td>3.822545e+07</td>\n",
       "    </tr>\n",
       "    <tr>\n",
       "      <th>109</th>\n",
       "      <td>855.897173</td>\n",
       "      <td>3.964917e+07</td>\n",
       "    </tr>\n",
       "    <tr>\n",
       "      <th>110</th>\n",
       "      <td>850.162195</td>\n",
       "      <td>4.116659e+07</td>\n",
       "    </tr>\n",
       "    <tr>\n",
       "      <th>111</th>\n",
       "      <td>870.708737</td>\n",
       "      <td>4.272903e+07</td>\n",
       "    </tr>\n",
       "    <tr>\n",
       "      <th>112</th>\n",
       "      <td>894.520364</td>\n",
       "      <td>4.426959e+07</td>\n",
       "    </tr>\n",
       "    <tr>\n",
       "      <th>113</th>\n",
       "      <td>891.295901</td>\n",
       "      <td>4.574100e+07</td>\n",
       "    </tr>\n",
       "    <tr>\n",
       "      <th>114</th>\n",
       "      <td>900.977642</td>\n",
       "      <td>4.684976e+07</td>\n",
       "    </tr>\n",
       "    <tr>\n",
       "      <th>115</th>\n",
       "      <td>915.192067</td>\n",
       "      <td>4.823820e+07</td>\n",
       "    </tr>\n",
       "    <tr>\n",
       "      <th>116</th>\n",
       "      <td>937.064121</td>\n",
       "      <td>4.962664e+07</td>\n",
       "    </tr>\n",
       "    <tr>\n",
       "      <th>117</th>\n",
       "      <td>1056.498908</td>\n",
       "      <td>5.101508e+07</td>\n",
       "    </tr>\n",
       "    <tr>\n",
       "      <th>118</th>\n",
       "      <td>1192.039390</td>\n",
       "      <td>5.240352e+07</td>\n",
       "    </tr>\n",
       "    <tr>\n",
       "      <th>119</th>\n",
       "      <td>1342.841356</td>\n",
       "      <td>5.391502e+07</td>\n",
       "    </tr>\n",
       "    <tr>\n",
       "      <th>120</th>\n",
       "      <td>1513.910775</td>\n",
       "      <td>5.542652e+07</td>\n",
       "    </tr>\n",
       "    <tr>\n",
       "      <th>121</th>\n",
       "      <td>1708.043573</td>\n",
       "      <td>5.693802e+07</td>\n",
       "    </tr>\n",
       "    <tr>\n",
       "      <th>122</th>\n",
       "      <td>1928.429529</td>\n",
       "      <td>5.844953e+07</td>\n",
       "    </tr>\n",
       "    <tr>\n",
       "      <th>123</th>\n",
       "      <td>2178.708493</td>\n",
       "      <td>5.996103e+07</td>\n",
       "    </tr>\n",
       "    <tr>\n",
       "      <th>124</th>\n",
       "      <td>2274.484411</td>\n",
       "      <td>6.157154e+07</td>\n",
       "    </tr>\n",
       "    <tr>\n",
       "      <th>125</th>\n",
       "      <td>2376.096302</td>\n",
       "      <td>6.318206e+07</td>\n",
       "    </tr>\n",
       "    <tr>\n",
       "      <th>126</th>\n",
       "      <td>2483.861540</td>\n",
       "      <td>6.479257e+07</td>\n",
       "    </tr>\n",
       "    <tr>\n",
       "      <th>127</th>\n",
       "      <td>2598.119581</td>\n",
       "      <td>6.640308e+07</td>\n",
       "    </tr>\n",
       "    <tr>\n",
       "      <th>128</th>\n",
       "      <td>2719.233060</td>\n",
       "      <td>6.801359e+07</td>\n",
       "    </tr>\n",
       "    <tr>\n",
       "      <th>129</th>\n",
       "      <td>2861.238587</td>\n",
       "      <td>6.967979e+07</td>\n",
       "    </tr>\n",
       "    <tr>\n",
       "      <th>130</th>\n",
       "      <td>3012.382478</td>\n",
       "      <td>7.134599e+07</td>\n",
       "    </tr>\n",
       "    <tr>\n",
       "      <th>131</th>\n",
       "      <td>3173.241173</td>\n",
       "      <td>7.301218e+07</td>\n",
       "    </tr>\n",
       "    <tr>\n",
       "      <th>132</th>\n",
       "      <td>3344.431330</td>\n",
       "      <td>7.467838e+07</td>\n",
       "    </tr>\n",
       "    <tr>\n",
       "      <th>133</th>\n",
       "      <td>3526.612444</td>\n",
       "      <td>7.634458e+07</td>\n",
       "    </tr>\n",
       "    <tr>\n",
       "      <th>134</th>\n",
       "      <td>3746.868296</td>\n",
       "      <td>7.803642e+07</td>\n",
       "    </tr>\n",
       "    <tr>\n",
       "      <th>135</th>\n",
       "      <td>3982.752315</td>\n",
       "      <td>7.972826e+07</td>\n",
       "    </tr>\n",
       "    <tr>\n",
       "      <th>136</th>\n",
       "      <td>4235.393572</td>\n",
       "      <td>8.142010e+07</td>\n",
       "    </tr>\n",
       "    <tr>\n",
       "      <th>137</th>\n",
       "      <td>4506.006408</td>\n",
       "      <td>8.311194e+07</td>\n",
       "    </tr>\n",
       "    <tr>\n",
       "      <th>138</th>\n",
       "      <td>4795.896856</td>\n",
       "      <td>8.480379e+07</td>\n",
       "    </tr>\n",
       "    <tr>\n",
       "      <th>139</th>\n",
       "      <td>5125.392185</td>\n",
       "      <td>8.649370e+07</td>\n",
       "    </tr>\n",
       "    <tr>\n",
       "      <th>140</th>\n",
       "      <td>5479.616779</td>\n",
       "      <td>8.818361e+07</td>\n",
       "    </tr>\n",
       "    <tr>\n",
       "      <th>141</th>\n",
       "      <td>5860.474652</td>\n",
       "      <td>8.987352e+07</td>\n",
       "    </tr>\n",
       "    <tr>\n",
       "      <th>142</th>\n",
       "      <td>6270.020692</td>\n",
       "      <td>9.156344e+07</td>\n",
       "    </tr>\n",
       "    <tr>\n",
       "      <th>143</th>\n",
       "      <td>6710.472729</td>\n",
       "      <td>9.325335e+07</td>\n",
       "    </tr>\n",
       "  </tbody>\n",
       "</table>\n",
       "</div>"
      ],
      "text/plain": [
       "     gdp_per_capita_usd  population_gnrl_total\n",
       "108          847.267626           3.822545e+07\n",
       "109          855.897173           3.964917e+07\n",
       "110          850.162195           4.116659e+07\n",
       "111          870.708737           4.272903e+07\n",
       "112          894.520364           4.426959e+07\n",
       "113          891.295901           4.574100e+07\n",
       "114          900.977642           4.684976e+07\n",
       "115          915.192067           4.823820e+07\n",
       "116          937.064121           4.962664e+07\n",
       "117         1056.498908           5.101508e+07\n",
       "118         1192.039390           5.240352e+07\n",
       "119         1342.841356           5.391502e+07\n",
       "120         1513.910775           5.542652e+07\n",
       "121         1708.043573           5.693802e+07\n",
       "122         1928.429529           5.844953e+07\n",
       "123         2178.708493           5.996103e+07\n",
       "124         2274.484411           6.157154e+07\n",
       "125         2376.096302           6.318206e+07\n",
       "126         2483.861540           6.479257e+07\n",
       "127         2598.119581           6.640308e+07\n",
       "128         2719.233060           6.801359e+07\n",
       "129         2861.238587           6.967979e+07\n",
       "130         3012.382478           7.134599e+07\n",
       "131         3173.241173           7.301218e+07\n",
       "132         3344.431330           7.467838e+07\n",
       "133         3526.612444           7.634458e+07\n",
       "134         3746.868296           7.803642e+07\n",
       "135         3982.752315           7.972826e+07\n",
       "136         4235.393572           8.142010e+07\n",
       "137         4506.006408           8.311194e+07\n",
       "138         4795.896856           8.480379e+07\n",
       "139         5125.392185           8.649370e+07\n",
       "140         5479.616779           8.818361e+07\n",
       "141         5860.474652           8.987352e+07\n",
       "142         6270.020692           9.156344e+07\n",
       "143         6710.472729           9.325335e+07"
      ]
     },
     "execution_count": 93,
     "metadata": {},
     "output_type": "execute_result"
    }
   ],
   "source": [
    "bau_out_df[[col for col in bau_out_df.columns if \"gdp_mmm\" in col or 'population' in col or 'gdp_per_capita' in col]]"
   ]
  },
  {
   "cell_type": "code",
   "execution_count": 78,
   "id": "2b5c6278",
   "metadata": {},
   "outputs": [
    {
     "data": {
      "image/png": "[encoded data removed]",
      "text/plain": [
       "<Figure size 1000x600 with 1 Axes>"
      ]
     },
     "metadata": {},
     "output_type": "display_data"
    },
    {
     "data": {
      "image/png": "[encoded data removed]",
      "text/plain": [
       "<Figure size 1000x600 with 1 Axes>"
      ]
     },
     "metadata": {},
     "output_type": "display_data"
    },
    {
     "data": {
      "image/png": "[encoded data removed]",
      "text/plain": [
       "<Figure size 1000x600 with 1 Axes>"
      ]
     },
     "metadata": {},
     "output_type": "display_data"
    }
   ],
   "source": [
    "plot_columns(bau_out_df, 'time_period', electricity_cols)\n",
    "plot_columns(ndc_out_df, 'time_period', electricity_cols)\n",
    "plot_columns(nz_out_df, 'time_period', electricity_cols)"
   ]
  },
  {
   "cell_type": "code",
   "execution_count": 79,
   "id": "61862ffc",
   "metadata": {},
   "outputs": [],
   "source": [
    "# entc_output_cols = [col for col in bau_out_df.columns if \"emission\" in col and \"entc\" in col and not \"subsector_total\" in col]"
   ]
  },
  {
   "cell_type": "code",
   "execution_count": 80,
   "id": "ff49da47",
   "metadata": {},
   "outputs": [],
   "source": [
    "# plot_columns(bau_out_df, 'time_period', entc_output_cols)\n",
    "# plot_columns(ndc_out_df, 'time_period', entc_output_cols)\n",
    "# plot_columns(nz_out_df, 'time_period', entc_output_cols)"
   ]
  },
  {
   "cell_type": "markdown",
   "id": "5bf46be0-6ab4-4731-b922-eb21eeefef7b",
   "metadata": {},
   "source": [
    "# Export Wide File (Last Mandatory Step)"
   ]
  },
  {
   "cell_type": "code",
   "execution_count": 81,
   "id": "f8ac388d-9ff2-45fc-a49a-ad5af38a0b07",
   "metadata": {},
   "outputs": [],
   "source": [
    "df_out = ssp.read_output(None)\n",
    "df_in = ssp.read_input(None)\n",
    "\n",
    "\n",
    "all_primaries = sorted(list(df_out[ssp.key_primary].unique()))\n",
    "\n",
    "# build if unable to simply read the data frame\n",
    "if df_in is None:\n",
    "    df_in = []\n",
    "     \n",
    "    for region in ssp.regions:\n",
    "        for primary in all_primaries: \n",
    "            df_in_filt = ssp.generate_scenario_database_from_primary_key(primary)\n",
    "            df_in.append(df_in_filt.get(region))\n",
    "    \n",
    "    df_in = pd.concat(df_in, axis = 0).reset_index(drop = True)\n",
    "\n",
    "\n",
    "\n",
    "\n",
    "df_export = pd.merge(\n",
    "    df_out,\n",
    "    df_in,\n",
    "    how = \"left\",\n",
    ")\n",
    "\n",
    "\n",
    "\n",
    "# check output directory \n",
    "dir_pkg = os.path.join(\n",
    "    ssp.file_struct.dir_out, \n",
    "    f\"sisepuede_summary_results_run_{ssp.id_fs_safe}\"\n",
    ")\n",
    "os.makedirs(dir_pkg) if not os.path.exists(dir_pkg) else None\n",
    "\n",
    "\n",
    "for tab in [\"ATTRIBUTE_STRATEGY\"]:\n",
    "    table_df = ssp.database.db.read_table(tab)\n",
    "    if table_df is not None:\n",
    "        table_df.to_csv(\n",
    "            os.path.join(dir_pkg, f\"{tab}.csv\"),\n",
    "            index=None,\n",
    "            encoding=\"UTF-8\"\n",
    "        )\n",
    "    else:\n",
    "        print(f\"Warning: Table {tab} returned None.\")\n",
    "\n",
    "\n",
    "df_primary = (\n",
    "    ssp\n",
    "    .odpt_primary\n",
    "    .get_indexing_dataframe(\n",
    "        sorted(list(df_out[ssp.key_primary].unique()))\n",
    "    )\n",
    ")\n",
    "    \n",
    "df_primary.to_csv(\n",
    "    os.path.join(dir_pkg, f\"ATTRIBUTE_PRIMARY.csv\"),\n",
    "    index = None,\n",
    "    encoding = \"UTF-8\"\n",
    ")\n",
    "\n",
    "df_export.to_csv(\n",
    "    os.path.join(dir_pkg, f\"sisepuede_results_{ssp.id_fs_safe}_WIDE_INPUTS_OUTPUTS.csv\"),\n",
    "    index = None,\n",
    "    encoding = \"UTF-8\"\n",
    ")"
   ]
  },
  {
   "cell_type": "code",
   "execution_count": 82,
   "id": "4bc34b5e",
   "metadata": {},
   "outputs": [
    {
     "data": {
      "text/plain": [
       "'/home/tony-ubuntu/anaconda3/envs/ssp_uganda/lib/python3.11/site-packages/sisepuede/out'"
      ]
     },
     "execution_count": 82,
     "metadata": {},
     "output_type": "execute_result"
    }
   ],
   "source": [
    "# Getting the directory where the outputs are stored\n",
    "ssp.file_struct.dir_out"
   ]
  },
  {
   "cell_type": "code",
   "execution_count": 83,
   "id": "e3626cd0",
   "metadata": {},
   "outputs": [],
   "source": [
    "df_primary.to_csv(\n",
    "    os.path.join(dir_out, f\"ATTRIBUTE_PRIMARY.csv\"),\n",
    "    index = None,\n",
    "    encoding = \"UTF-8\"\n",
    ")\n",
    "\n",
    "df_export.to_csv(\n",
    "    os.path.join(dir_out, f\"sisepuede_results_sisepuede_bau_run.csv\"),\n",
    "    index = None,\n",
    "    encoding = \"UTF-8\"\n",
    ")\n",
    "\n",
    "for tab in [\"ATTRIBUTE_STRATEGY\"]:\n",
    "    table_df = ssp.database.db.read_table(tab)\n",
    "    if table_df is not None:\n",
    "        table_df.to_csv(\n",
    "            os.path.join(dir_out, f\"{tab}.csv\"),\n",
    "            index=None,\n",
    "            encoding=\"UTF-8\"\n",
    "        )\n",
    "    else:\n",
    "        print(f\"Warning: Table {tab} returned None.\")"
   ]
  },
  {
   "cell_type": "code",
   "execution_count": null,
   "id": "d1f127d3",
   "metadata": {},
   "outputs": [],
   "source": []
  }
 ],
 "metadata": {
  "kernelspec": {
   "display_name": "ssp_uganda",
   "language": "python",
   "name": "python3"
  },
  "language_info": {
   "codemirror_mode": {
    "name": "ipython",
    "version": 3
   },
   "file_extension": ".py",
   "mimetype": "text/x-python",
   "name": "python",
   "nbconvert_exporter": "python",
   "pygments_lexer": "ipython3",
   "version": "3.11.11"
  }
 },
 "nbformat": 4,
 "nbformat_minor": 5
}
