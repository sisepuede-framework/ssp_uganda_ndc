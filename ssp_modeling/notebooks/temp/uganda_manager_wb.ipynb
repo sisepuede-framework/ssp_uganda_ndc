{
 "cells": [
  {
   "cell_type": "code",
   "execution_count": 10,
   "id": "2a29eb0a-00ee-494d-9b3d-25da412bf1d5",
   "metadata": {},
   "outputs": [],
   "source": [
    "import copy\n",
    "import datetime as dt\n",
    "import importlib # needed so that we can reload packages\n",
    "import matplotlib.pyplot as plt\n",
    "import os, os.path\n",
    "import numpy as np\n",
    "import pandas as pd\n",
    "import pathlib\n",
    "import sys\n",
    "import time\n",
    "from typing import Union\n",
    "import warnings\n",
    "from datetime import datetime\n",
    "warnings.filterwarnings(\"ignore\")\n",
    "\n",
    "##  IMPORT SISEPUEDE EXAMPLES AND TRANSFORMERS\n",
    "\n",
    "from sisepuede.manager.sisepuede_examples import SISEPUEDEExamples\n",
    "from sisepuede.manager.sisepuede_file_structure import SISEPUEDEFileStructure\n",
    "import sisepuede.core.support_classes as sc\n",
    "import sisepuede.transformers as trf\n",
    "import sisepuede.utilities._plotting as spu\n",
    "import sisepuede.utilities._toolbox as sf"
   ]
  },
  {
   "cell_type": "code",
   "execution_count": 11,
   "id": "49d7c0b6",
   "metadata": {},
   "outputs": [
    {
     "name": "stdout",
     "output_type": "stream",
     "text": [
      "The autoreload extension is already loaded. To reload it, use:\n",
      "  %reload_ext autoreload\n"
     ]
    }
   ],
   "source": [
    "%load_ext autoreload\n",
    "%autoreload 2"
   ]
  },
  {
   "cell_type": "markdown",
   "id": "f0483f2b",
   "metadata": {},
   "source": [
    "### Initial Set up\n",
    "\n",
    "Make sure to edit the config yaml under croatia/config_files/croatia_config.yaml\n",
    "\n",
    "You can also create a new config yaml\n",
    "\n"
   ]
  },
  {
   "cell_type": "code",
   "execution_count": 12,
   "id": "aebcd791",
   "metadata": {},
   "outputs": [],
   "source": [
    "# Set up dir paths\n",
    "\n",
    "dir_cur = pathlib.Path(os.getcwd())\n",
    "dir_ssp_modeling = dir_cur.parent\n",
    "dir_project = dir_ssp_modeling.parent\n",
    "dir_data = dir_ssp_modeling.joinpath(\"input_data\")\n",
    "dir_scenario_mapping = dir_ssp_modeling.joinpath(\"scenario_mapping\")\n",
    "dir_config = dir_ssp_modeling.joinpath(\"config_files\")\n",
    "dir_transformations = dir_ssp_modeling.joinpath(\"transformations\")\n",
    "dir_misc = dir_ssp_modeling.joinpath(\"misc\")\n",
    "strategies_definitions_file_path = dir_transformations.joinpath(\"strategy_definitions.csv\")\n",
    "strategy_mapping_file_path = dir_misc.joinpath(\"strategy_mapping.yaml\")"
   ]
  },
  {
   "cell_type": "code",
   "execution_count": 13,
   "id": "ac941c9a",
   "metadata": {},
   "outputs": [],
   "source": [
    "from ssp_transformations_handler.GeneralUtils import GeneralUtils\n",
    "from ssp_transformations_handler.TransformationUtils import TransformationYamlProcessor, StrategyCSVHandler\n",
    "\n",
    "# Initialize general utilities\n",
    "g_utils = GeneralUtils()"
   ]
  },
  {
   "cell_type": "code",
   "execution_count": 14,
   "id": "53908ee6",
   "metadata": {},
   "outputs": [
    {
     "name": "stdout",
     "output_type": "stream",
     "text": [
      "Country name:  uganda\n",
      "SSP input file name:  ssp_inputs_uganda_BaU_Scenario.csv\n",
      "SSP transformation CW:  ssp_uganda_transformation_cw_2025_03_11.xlsx\n",
      "Energy model flag:  False\n",
      "Set lndu reallocation factor to zero flag:  True\n"
     ]
    }
   ],
   "source": [
    "# Load config file, double check your parameters are correct\n",
    "\n",
    "yaml_file_path = os.path.join(dir_config, \"config.yaml\")\n",
    "config_params = g_utils.read_yaml(yaml_file_path)\n",
    "\n",
    "country_name = config_params['country_name']\n",
    "ssp_input_file_name = config_params['ssp_input_file_name']\n",
    "ssp_transformation_cw = config_params['ssp_transformation_cw']\n",
    "energy_model_flag = config_params['energy_model_flag']\n",
    "set_lndu_reallocation_factor_to_zero_flag = config_params['set_lndu_reallocation_factor_to_zero']\n",
    "\n",
    "# Print config parameters\n",
    "print(\"Country name: \", country_name)\n",
    "print(\"SSP input file name: \", ssp_input_file_name)\n",
    "print(\"SSP transformation CW: \", ssp_transformation_cw)\n",
    "print(\"Energy model flag: \", energy_model_flag)\n",
    "print(\"Set lndu reallocation factor to zero flag: \", set_lndu_reallocation_factor_to_zero_flag)\n",
    "\n"
   ]
  },
  {
   "cell_type": "code",
   "execution_count": 15,
   "id": "62c6c558-ba2c-482b-8743-7c46bfb64924",
   "metadata": {},
   "outputs": [],
   "source": [
    "# Set up SSP objects\n",
    "\n",
    "fp_data_base = dir_data.joinpath(ssp_input_file_name)\n",
    "\n",
    "file_struct = SISEPUEDEFileStructure()\n",
    "\n",
    "matt = file_struct.model_attributes\n",
    "regions = sc.Regions(matt)\n",
    "time_periods = sc.TimePeriods(matt)"
   ]
  },
  {
   "cell_type": "markdown",
   "id": "10f64c6a",
   "metadata": {},
   "source": [
    "### Making sure our input file has the correct format and correct columns\n",
    "We use an example df with the complete fields and correct format to make sure our file is in the right shape"
   ]
  },
  {
   "cell_type": "code",
   "execution_count": 16,
   "id": "b8a1e26f-7946-4f4f-a3b1-ff398c9fe211",
   "metadata": {},
   "outputs": [],
   "source": [
    "##  BUILD BASE INPUTS\n",
    "df_inputs_raw = pd.read_csv(fp_data_base)\n",
    "\n",
    "# pull example data to fill in gaps\n",
    "examples = SISEPUEDEExamples()\n",
    "df_inputs_example = examples.input_data_frame"
   ]
  },
  {
   "cell_type": "code",
   "execution_count": 17,
   "id": "47b6786e",
   "metadata": {},
   "outputs": [
    {
     "data": {
      "text/plain": [
       "0     0.5\n",
       "1     0.5\n",
       "2     0.5\n",
       "3     0.5\n",
       "4     0.5\n",
       "5     0.5\n",
       "6     0.5\n",
       "7     0.5\n",
       "8     0.5\n",
       "9     0.5\n",
       "10    0.5\n",
       "11    0.5\n",
       "12    0.5\n",
       "13    0.5\n",
       "14    0.5\n",
       "15    0.5\n",
       "16    0.5\n",
       "17    0.5\n",
       "18    0.5\n",
       "19    0.5\n",
       "20    0.5\n",
       "21    0.5\n",
       "22    0.5\n",
       "23    0.5\n",
       "24    0.5\n",
       "25    0.5\n",
       "26    0.5\n",
       "27    0.5\n",
       "28    0.5\n",
       "29    0.5\n",
       "30    0.5\n",
       "31    0.5\n",
       "32    0.5\n",
       "33    0.5\n",
       "34    0.5\n",
       "35    0.5\n",
       "Name: lndu_reallocation_factor, dtype: float64"
      ]
     },
     "execution_count": 17,
     "metadata": {},
     "output_type": "execute_result"
    }
   ],
   "source": [
    "df_inputs_raw['lndu_reallocation_factor']"
   ]
  },
  {
   "cell_type": "code",
   "execution_count": 18,
   "id": "79cf8f16",
   "metadata": {},
   "outputs": [
    {
     "name": "stdout",
     "output_type": "stream",
     "text": [
      "\u001b[31mSignature:\u001b[39m g_utils.check_frac_groups(ssp_input_df, frac_vars_mapping_file_path)\n",
      "\u001b[31mDocstring:\u001b[39m\n",
      "Checks if the sum of fractional groups in the input DataFrame is within the range [0, 1].\n",
      "This function reads a mapping file to identify subgroups of columns in the input DataFrame.\n",
      "For each subgroup, it calculates the row-wise sum of the columns and checks if the sums are within the range [0, 1].\n",
      "If any row sum is outside this range, a message is printed indicating the issue.\n",
      "Args:\n",
      "    ssp_input_df (pd.DataFrame): The input DataFrame containing the data to be checked.\n",
      "    frac_vars_mapping_file_path (str): The file path to the Excel file containing the mapping of fractional variables.\n",
      "Returns:\n",
      "    None\n",
      "\u001b[31mFile:\u001b[39m      ~/anaconda3/envs/ssp_uganda/lib/python3.11/site-packages/ssp_transformations_handler/GeneralUtils.py\n",
      "\u001b[31mType:\u001b[39m      function"
     ]
    }
   ],
   "source": [
    "?g_utils.check_frac_groups"
   ]
  },
  {
   "cell_type": "code",
   "execution_count": 19,
   "id": "45e08290",
   "metadata": {},
   "outputs": [],
   "source": [
    "# Check frac variables in df_inputs_raw\n",
    "# g_utils.check_frac_groups(df_inputs_raw, os.path.join(dir_misc, \"energy_frac_vars.xlsx\"))"
   ]
  },
  {
   "cell_type": "code",
   "execution_count": 20,
   "id": "6334a5f1",
   "metadata": {},
   "outputs": [],
   "source": [
    "# g_utils.check_individual_frac_vars(df_inputs_raw)"
   ]
  },
  {
   "cell_type": "code",
   "execution_count": 21,
   "id": "0810a41f",
   "metadata": {},
   "outputs": [
    {
     "name": "stdout",
     "output_type": "stream",
     "text": [
      "Columns in df_example but not in df_input: {'nemomod_entc_input_activity_ratio_fuel_production_fp_hydrogen_reformation_ccs_oil', 'nemomod_entc_capital_cost_fp_hydrogen_reformation_ccs_mm_usd_per_gw', 'frac_trns_fuelmix_water_borne_ammonia', 'energydensity_gravimetric_enfu_gj_per_tonne_fuel_water', 'nemomod_entc_fixed_cost_fp_hydrogen_reformation_ccs_mm_usd_per_gw', 'nemomod_entc_frac_min_share_production_fp_hydrogen_reformation_ccs', 'region', 'nemomod_entc_output_activity_ratio_fuel_production_fp_hydrogen_reformation_ccs_hydrogen', 'exports_enfu_pj_fuel_ammonia', 'nemomod_entc_input_activity_ratio_fuel_production_fp_hydrogen_reformation_ccs_natural_gas', 'nemomod_entc_grid_power_constraint_mmm_usd', 'strategy_id', 'energydensity_gravimetric_enfu_gj_per_tonne_fuel_ammonia', 'ef_enfu_combustion_tonne_co2_per_tj_fuel_ammonia', 'nemomod_entc_fixed_cost_fp_ammonia_production_mm_usd_per_gw', 'nemomod_entc_emissions_activity_ratio_fuel_production_fp_hydrogen_reformation_ccs_tonne_co2_per_tj', 'frac_enfu_fuel_demand_imported_pj_fuel_ammonia', 'nemomod_entc_input_activity_ratio_fuel_production_fp_ammonia_production_electricity', 'ef_enfu_stationary_combustion_tonne_n2o_per_tj_fuel_ammonia', 'ef_trns_mobile_combustion_water_borne_kg_n2o_per_tj_ammonia', 'ef_enfu_stationary_combustion_tonne_ch4_per_tj_fuel_ammonia', 'nemomod_entc_input_activity_ratio_fuel_production_fp_hydrogen_electrolysis_water', 'nemomod_entc_capital_cost_fp_ammonia_production_mm_usd_per_gw', 'nemomod_entc_output_activity_ratio_fuel_production_fp_ammonia_production_ammonia', 'cost_enfu_fuel_ammonia_usd_per_tonne', 'nemomod_entc_input_activity_ratio_fuel_production_fp_hydrogen_reformation_ccs_electricity', 'nemomod_entc_input_activity_ratio_fuel_production_fp_ammonia_production_hydrogen', 'nemomod_entc_emissions_activity_ratio_scalar_fp_hydrogen_reformation_ccs_co2'}\n",
      "Columns in df_input but not in df_example: {'demscalar_ippu_recycled_plastic', 'cost_enfu_fuel_hydrogen_usd_per_tonne', 'demscalar_ippu_recycled_glass', 'cost_enfu_fuel_coal_usd_per_m3', 'cost_enfu_fuel_biomass_usd_per_m3', 'va_mining_mmm_usd', 'nemomod_entc_variable_cost_pp_gas_mm_usd_per_mwh', 'va_industrial_mmm_usd', 'nemomod_entc_variable_cost_pp_waste_incineration_mm_usd_per_gw', 'demscalar_ippu_recycled_metals', 'nemomod_entc_variable_cost_pp_ocean_mm_usd_per_gw', 'nemomod_entc_variable_cost_pp_nuclear_mm_usd_per_gw', 'nemomod_entc_variable_cost_pp_hydropower_mm_usd_per_mwh', 'demscalar_ippu_recycled_rubber_and_leather', 'va_commercial_mmm_usd', 'nemomod_entc_variable_cost_pp_coal_mm_usd_per_mwh', 'Year', 'nemomod_entc_variable_cost_pp_nuclear_mm_usd_per_mwh', 'va_manufacturing_mmm_usd', 'nemomod_entc_variable_cost_pp_solar_mm_usd_per_mwh', 'nemomod_entc_variable_cost_pp_biogas_mm_usd_per_mwh', 'nemomod_entc_variable_cost_pp_biomass_mm_usd_per_gw', 'demscalar_ippu_recycled_textiles', 'demscalar_ippu_recycled_paper', 'nemomod_entc_variable_cost_pp_waste_incineration_mm_usd_per_mwh', 'nemomod_entc_variable_cost_pp_coal_mm_usd_per_gw', 'pop_lvst_initial_cattle_dairy.1', 'nemomod_entc_variable_cost_pp_oil_mm_usd_per_mwh', 'nemomod_entc_variable_cost_pp_wind_mm_usd_per_mwh', 'nemomod_entc_variable_cost_pp_biomass_mm_usd_per_mwh', 'cost_enfu_fuel_hydrocarbon_gas_liquids_usd_per_tonne', 'nemomod_entc_variable_cost_pp_geothermal_mm_usd_per_mwh', 'nemomod_entc_variable_cost_pp_gas_mm_usd_per_gw', 'nemomod_entc_variable_cost_pp_oil_mm_usd_per_gw', 'nemomod_entc_variable_cost_pp_solar_mm_usd_per_gw', 'demscalar_ippu_recycled_wood', 'nemomod_entc_variable_cost_pp_ocean_mm_usd_per_mwh', 'nemomod_entc_variable_cost_pp_wind_mm_usd_per_gw', 'iso_code3', 'nemomod_entc_variable_cost_pp_geothermal_mm_usd_per_gw', 'nemomod_entc_variable_cost_pp_hydropower_mm_usd_per_gw', 'nemomod_entc_variable_cost_pp_biogas_mm_usd_per_gw'}\n"
     ]
    }
   ],
   "source": [
    "# Checks if there are any differences in columns between the example df and our df\n",
    "g_utils.compare_dfs(df_inputs_example, df_inputs_raw)\n"
   ]
  },
  {
   "cell_type": "code",
   "execution_count": 22,
   "id": "24082bc3",
   "metadata": {},
   "outputs": [
    {
     "name": "stdout",
     "output_type": "stream",
     "text": [
      "[]\n"
     ]
    }
   ],
   "source": [
    "# Check for duplicated col names\n",
    "duplicated_columns = df_inputs_raw.columns[df_inputs_raw.columns.duplicated()].tolist()\n",
    "print(duplicated_columns)"
   ]
  },
  {
   "cell_type": "code",
   "execution_count": 23,
   "id": "1fc0a964",
   "metadata": {},
   "outputs": [
    {
     "name": "stdout",
     "output_type": "stream",
     "text": [
      "Help on function remove_additional_cols in module ssp_transformations_handler.GeneralUtils:\n",
      "\n",
      "remove_additional_cols(df_example, df_input)\n",
      "    Remove columns from df_input that are not present in df_example.\n",
      "    Parameters:\n",
      "    df_example (pandas.DataFrame): The reference DataFrame containing the desired columns.\n",
      "    df_input (pandas.DataFrame): The DataFrame from which additional columns will be removed.\n",
      "    Returns:\n",
      "    pandas.DataFrame: A DataFrame with only the columns present in df_example.\n",
      "\n"
     ]
    }
   ],
   "source": [
    "help(g_utils.remove_additional_cols)"
   ]
  },
  {
   "cell_type": "code",
   "execution_count": 24,
   "id": "8d18008b",
   "metadata": {},
   "outputs": [
    {
     "data": {
      "text/html": [
       "<div>\n",
       "<style scoped>\n",
       "    .dataframe tbody tr th:only-of-type {\n",
       "        vertical-align: middle;\n",
       "    }\n",
       "\n",
       "    .dataframe tbody tr th {\n",
       "        vertical-align: top;\n",
       "    }\n",
       "\n",
       "    .dataframe thead th {\n",
       "        text-align: right;\n",
       "    }\n",
       "</style>\n",
       "<table border=\"1\" class=\"dataframe\">\n",
       "  <thead>\n",
       "    <tr style=\"text-align: right;\">\n",
       "      <th></th>\n",
       "      <th>Year</th>\n",
       "      <th>frac_lvst_mm_sheep_anaerobic_lagoon</th>\n",
       "      <th>ef_lndu_conv_other_to_forests_primary_gg_co2_ha</th>\n",
       "      <th>ef_lndu_conv_other_to_forests_mangroves_gg_co2_ha</th>\n",
       "      <th>pij_lndu_other_to_forests_mangroves</th>\n",
       "      <th>frac_lvst_mm_cattle_nondairy_dry_lot</th>\n",
       "      <th>frac_lvst_mm_buffalo_paddock_pasture_range</th>\n",
       "      <th>pij_lndu_settlements_to_settlements</th>\n",
       "      <th>frac_lvst_mm_pigs_anaerobic_lagoon</th>\n",
       "      <th>frac_agrc_nuts_cl1_temperate</th>\n",
       "      <th>...</th>\n",
       "      <th>nemomod_entc_input_activity_ratio_fuel_production_fp_hydrogen_electrolysis_water</th>\n",
       "      <th>nemomod_entc_input_activity_ratio_fuel_production_fp_hydrogen_reformation_ccs_electricity</th>\n",
       "      <th>energydensity_gravimetric_enfu_gj_per_tonne_fuel_ammonia</th>\n",
       "      <th>energydensity_gravimetric_enfu_gj_per_tonne_fuel_water</th>\n",
       "      <th>frac_trns_fuelmix_water_borne_ammonia</th>\n",
       "      <th>nemomod_entc_output_activity_ratio_fuel_production_fp_ammonia_production_ammonia</th>\n",
       "      <th>nemomod_entc_output_activity_ratio_fuel_production_fp_hydrogen_reformation_ccs_hydrogen</th>\n",
       "      <th>nemomod_entc_frac_min_share_production_fp_hydrogen_reformation_ccs</th>\n",
       "      <th>nemomod_entc_input_activity_ratio_fuel_production_fp_hydrogen_reformation_ccs_natural_gas</th>\n",
       "      <th>nemomod_entc_input_activity_ratio_fuel_production_fp_hydrogen_reformation_ccs_oil</th>\n",
       "    </tr>\n",
       "  </thead>\n",
       "  <tbody>\n",
       "    <tr>\n",
       "      <th>0</th>\n",
       "      <td>2015</td>\n",
       "      <td>0</td>\n",
       "      <td>0</td>\n",
       "      <td>0</td>\n",
       "      <td>0</td>\n",
       "      <td>0.3</td>\n",
       "      <td>0.45</td>\n",
       "      <td>1</td>\n",
       "      <td>0.025</td>\n",
       "      <td>0.030468</td>\n",
       "      <td>...</td>\n",
       "      <td>0.000004</td>\n",
       "      <td>0</td>\n",
       "      <td>18.6</td>\n",
       "      <td>0.00005</td>\n",
       "      <td>0.0</td>\n",
       "      <td>1</td>\n",
       "      <td>1</td>\n",
       "      <td>0.0</td>\n",
       "      <td>1.315</td>\n",
       "      <td>0.0</td>\n",
       "    </tr>\n",
       "    <tr>\n",
       "      <th>1</th>\n",
       "      <td>2016</td>\n",
       "      <td>0</td>\n",
       "      <td>0</td>\n",
       "      <td>0</td>\n",
       "      <td>0</td>\n",
       "      <td>0.3</td>\n",
       "      <td>0.45</td>\n",
       "      <td>1</td>\n",
       "      <td>0.025</td>\n",
       "      <td>0.030468</td>\n",
       "      <td>...</td>\n",
       "      <td>0.000004</td>\n",
       "      <td>0</td>\n",
       "      <td>18.6</td>\n",
       "      <td>0.00005</td>\n",
       "      <td>0.0</td>\n",
       "      <td>1</td>\n",
       "      <td>1</td>\n",
       "      <td>0.0</td>\n",
       "      <td>1.315</td>\n",
       "      <td>0.0</td>\n",
       "    </tr>\n",
       "    <tr>\n",
       "      <th>2</th>\n",
       "      <td>2017</td>\n",
       "      <td>0</td>\n",
       "      <td>0</td>\n",
       "      <td>0</td>\n",
       "      <td>0</td>\n",
       "      <td>0.3</td>\n",
       "      <td>0.45</td>\n",
       "      <td>1</td>\n",
       "      <td>0.025</td>\n",
       "      <td>0.030468</td>\n",
       "      <td>...</td>\n",
       "      <td>0.000004</td>\n",
       "      <td>0</td>\n",
       "      <td>18.6</td>\n",
       "      <td>0.00005</td>\n",
       "      <td>0.0</td>\n",
       "      <td>1</td>\n",
       "      <td>1</td>\n",
       "      <td>0.0</td>\n",
       "      <td>1.315</td>\n",
       "      <td>0.0</td>\n",
       "    </tr>\n",
       "    <tr>\n",
       "      <th>3</th>\n",
       "      <td>2018</td>\n",
       "      <td>0</td>\n",
       "      <td>0</td>\n",
       "      <td>0</td>\n",
       "      <td>0</td>\n",
       "      <td>0.3</td>\n",
       "      <td>0.45</td>\n",
       "      <td>1</td>\n",
       "      <td>0.025</td>\n",
       "      <td>0.030468</td>\n",
       "      <td>...</td>\n",
       "      <td>0.000004</td>\n",
       "      <td>0</td>\n",
       "      <td>18.6</td>\n",
       "      <td>0.00005</td>\n",
       "      <td>0.0</td>\n",
       "      <td>1</td>\n",
       "      <td>1</td>\n",
       "      <td>0.0</td>\n",
       "      <td>1.315</td>\n",
       "      <td>0.0</td>\n",
       "    </tr>\n",
       "    <tr>\n",
       "      <th>4</th>\n",
       "      <td>2019</td>\n",
       "      <td>0</td>\n",
       "      <td>0</td>\n",
       "      <td>0</td>\n",
       "      <td>0</td>\n",
       "      <td>0.3</td>\n",
       "      <td>0.45</td>\n",
       "      <td>1</td>\n",
       "      <td>0.025</td>\n",
       "      <td>0.030468</td>\n",
       "      <td>...</td>\n",
       "      <td>0.000004</td>\n",
       "      <td>0</td>\n",
       "      <td>18.6</td>\n",
       "      <td>0.00005</td>\n",
       "      <td>0.0</td>\n",
       "      <td>1</td>\n",
       "      <td>1</td>\n",
       "      <td>0.0</td>\n",
       "      <td>1.315</td>\n",
       "      <td>0.0</td>\n",
       "    </tr>\n",
       "  </tbody>\n",
       "</table>\n",
       "<p>5 rows × 2260 columns</p>\n",
       "</div>"
      ],
      "text/plain": [
       "   Year  frac_lvst_mm_sheep_anaerobic_lagoon  \\\n",
       "0  2015                                    0   \n",
       "1  2016                                    0   \n",
       "2  2017                                    0   \n",
       "3  2018                                    0   \n",
       "4  2019                                    0   \n",
       "\n",
       "   ef_lndu_conv_other_to_forests_primary_gg_co2_ha  \\\n",
       "0                                                0   \n",
       "1                                                0   \n",
       "2                                                0   \n",
       "3                                                0   \n",
       "4                                                0   \n",
       "\n",
       "   ef_lndu_conv_other_to_forests_mangroves_gg_co2_ha  \\\n",
       "0                                                  0   \n",
       "1                                                  0   \n",
       "2                                                  0   \n",
       "3                                                  0   \n",
       "4                                                  0   \n",
       "\n",
       "   pij_lndu_other_to_forests_mangroves  frac_lvst_mm_cattle_nondairy_dry_lot  \\\n",
       "0                                    0                                   0.3   \n",
       "1                                    0                                   0.3   \n",
       "2                                    0                                   0.3   \n",
       "3                                    0                                   0.3   \n",
       "4                                    0                                   0.3   \n",
       "\n",
       "   frac_lvst_mm_buffalo_paddock_pasture_range  \\\n",
       "0                                        0.45   \n",
       "1                                        0.45   \n",
       "2                                        0.45   \n",
       "3                                        0.45   \n",
       "4                                        0.45   \n",
       "\n",
       "   pij_lndu_settlements_to_settlements  frac_lvst_mm_pigs_anaerobic_lagoon  \\\n",
       "0                                    1                               0.025   \n",
       "1                                    1                               0.025   \n",
       "2                                    1                               0.025   \n",
       "3                                    1                               0.025   \n",
       "4                                    1                               0.025   \n",
       "\n",
       "   frac_agrc_nuts_cl1_temperate  ...  \\\n",
       "0                      0.030468  ...   \n",
       "1                      0.030468  ...   \n",
       "2                      0.030468  ...   \n",
       "3                      0.030468  ...   \n",
       "4                      0.030468  ...   \n",
       "\n",
       "   nemomod_entc_input_activity_ratio_fuel_production_fp_hydrogen_electrolysis_water  \\\n",
       "0                                           0.000004                                  \n",
       "1                                           0.000004                                  \n",
       "2                                           0.000004                                  \n",
       "3                                           0.000004                                  \n",
       "4                                           0.000004                                  \n",
       "\n",
       "   nemomod_entc_input_activity_ratio_fuel_production_fp_hydrogen_reformation_ccs_electricity  \\\n",
       "0                                                  0                                           \n",
       "1                                                  0                                           \n",
       "2                                                  0                                           \n",
       "3                                                  0                                           \n",
       "4                                                  0                                           \n",
       "\n",
       "   energydensity_gravimetric_enfu_gj_per_tonne_fuel_ammonia  \\\n",
       "0                                               18.6          \n",
       "1                                               18.6          \n",
       "2                                               18.6          \n",
       "3                                               18.6          \n",
       "4                                               18.6          \n",
       "\n",
       "   energydensity_gravimetric_enfu_gj_per_tonne_fuel_water  \\\n",
       "0                                            0.00005        \n",
       "1                                            0.00005        \n",
       "2                                            0.00005        \n",
       "3                                            0.00005        \n",
       "4                                            0.00005        \n",
       "\n",
       "   frac_trns_fuelmix_water_borne_ammonia  \\\n",
       "0                                    0.0   \n",
       "1                                    0.0   \n",
       "2                                    0.0   \n",
       "3                                    0.0   \n",
       "4                                    0.0   \n",
       "\n",
       "   nemomod_entc_output_activity_ratio_fuel_production_fp_ammonia_production_ammonia  \\\n",
       "0                                                  1                                  \n",
       "1                                                  1                                  \n",
       "2                                                  1                                  \n",
       "3                                                  1                                  \n",
       "4                                                  1                                  \n",
       "\n",
       "   nemomod_entc_output_activity_ratio_fuel_production_fp_hydrogen_reformation_ccs_hydrogen  \\\n",
       "0                                                  1                                         \n",
       "1                                                  1                                         \n",
       "2                                                  1                                         \n",
       "3                                                  1                                         \n",
       "4                                                  1                                         \n",
       "\n",
       "   nemomod_entc_frac_min_share_production_fp_hydrogen_reformation_ccs  \\\n",
       "0                                                0.0                    \n",
       "1                                                0.0                    \n",
       "2                                                0.0                    \n",
       "3                                                0.0                    \n",
       "4                                                0.0                    \n",
       "\n",
       "   nemomod_entc_input_activity_ratio_fuel_production_fp_hydrogen_reformation_ccs_natural_gas  \\\n",
       "0                                              1.315                                           \n",
       "1                                              1.315                                           \n",
       "2                                              1.315                                           \n",
       "3                                              1.315                                           \n",
       "4                                              1.315                                           \n",
       "\n",
       "   nemomod_entc_input_activity_ratio_fuel_production_fp_hydrogen_reformation_ccs_oil  \n",
       "0                                                0.0                                  \n",
       "1                                                0.0                                  \n",
       "2                                                0.0                                  \n",
       "3                                                0.0                                  \n",
       "4                                                0.0                                  \n",
       "\n",
       "[5 rows x 2260 columns]"
      ]
     },
     "execution_count": 24,
     "metadata": {},
     "output_type": "execute_result"
    }
   ],
   "source": [
    "# Fixes differences and makes sure that our df is in the correct format.\n",
    "# Note: Edit this if you need more changes in your df\n",
    "\n",
    "df_inputs_raw = df_inputs_raw.rename(columns={'period':'time_period'})\n",
    "df_inputs_raw_complete = g_utils.add_missing_cols(df_inputs_example, df_inputs_raw.copy())\n",
    "# df_inputs_raw_complete = g_utils.remove_additional_cols(df_inputs_example, df_inputs_raw.copy())\n",
    "df_inputs_raw_complete = df_inputs_raw_complete.drop(columns='iso_code3', errors='ignore')\n",
    "df_inputs_raw_complete.head()"
   ]
  },
  {
   "cell_type": "code",
   "execution_count": 25,
   "id": "32f1d947",
   "metadata": {},
   "outputs": [
    {
     "name": "stdout",
     "output_type": "stream",
     "text": [
      "Columns in df_example but not in df_input: set()\n",
      "Columns in df_input but not in df_example: {'demscalar_ippu_recycled_plastic', 'cost_enfu_fuel_hydrogen_usd_per_tonne', 'demscalar_ippu_recycled_glass', 'cost_enfu_fuel_coal_usd_per_m3', 'cost_enfu_fuel_biomass_usd_per_m3', 'va_mining_mmm_usd', 'nemomod_entc_variable_cost_pp_gas_mm_usd_per_mwh', 'va_industrial_mmm_usd', 'nemomod_entc_variable_cost_pp_waste_incineration_mm_usd_per_gw', 'demscalar_ippu_recycled_metals', 'nemomod_entc_variable_cost_pp_ocean_mm_usd_per_gw', 'nemomod_entc_variable_cost_pp_nuclear_mm_usd_per_gw', 'nemomod_entc_variable_cost_pp_hydropower_mm_usd_per_mwh', 'demscalar_ippu_recycled_rubber_and_leather', 'va_commercial_mmm_usd', 'nemomod_entc_variable_cost_pp_coal_mm_usd_per_mwh', 'Year', 'nemomod_entc_variable_cost_pp_nuclear_mm_usd_per_mwh', 'va_manufacturing_mmm_usd', 'nemomod_entc_variable_cost_pp_solar_mm_usd_per_mwh', 'nemomod_entc_variable_cost_pp_biogas_mm_usd_per_mwh', 'nemomod_entc_variable_cost_pp_biomass_mm_usd_per_gw', 'demscalar_ippu_recycled_textiles', 'demscalar_ippu_recycled_paper', 'nemomod_entc_variable_cost_pp_waste_incineration_mm_usd_per_mwh', 'nemomod_entc_variable_cost_pp_coal_mm_usd_per_gw', 'pop_lvst_initial_cattle_dairy.1', 'nemomod_entc_variable_cost_pp_oil_mm_usd_per_mwh', 'nemomod_entc_variable_cost_pp_wind_mm_usd_per_mwh', 'nemomod_entc_variable_cost_pp_biomass_mm_usd_per_mwh', 'cost_enfu_fuel_hydrocarbon_gas_liquids_usd_per_tonne', 'nemomod_entc_variable_cost_pp_geothermal_mm_usd_per_mwh', 'nemomod_entc_variable_cost_pp_gas_mm_usd_per_gw', 'nemomod_entc_variable_cost_pp_oil_mm_usd_per_gw', 'nemomod_entc_variable_cost_pp_solar_mm_usd_per_gw', 'demscalar_ippu_recycled_wood', 'nemomod_entc_variable_cost_pp_ocean_mm_usd_per_mwh', 'nemomod_entc_variable_cost_pp_wind_mm_usd_per_gw', 'nemomod_entc_variable_cost_pp_geothermal_mm_usd_per_gw', 'nemomod_entc_variable_cost_pp_hydropower_mm_usd_per_gw', 'nemomod_entc_variable_cost_pp_biogas_mm_usd_per_gw'}\n"
     ]
    }
   ],
   "source": [
    "# Double checking that our df is in the correct shape (Empty sets should be printed to make sure everything is Ok!)\n",
    "g_utils.compare_dfs(df_inputs_example, df_inputs_raw_complete)"
   ]
  },
  {
   "cell_type": "code",
   "execution_count": 26,
   "id": "3a352757",
   "metadata": {},
   "outputs": [
    {
     "data": {
      "text/html": [
       "<div>\n",
       "<style scoped>\n",
       "    .dataframe tbody tr th:only-of-type {\n",
       "        vertical-align: middle;\n",
       "    }\n",
       "\n",
       "    .dataframe tbody tr th {\n",
       "        vertical-align: top;\n",
       "    }\n",
       "\n",
       "    .dataframe thead th {\n",
       "        text-align: right;\n",
       "    }\n",
       "</style>\n",
       "<table border=\"1\" class=\"dataframe\">\n",
       "  <thead>\n",
       "    <tr style=\"text-align: right;\">\n",
       "      <th></th>\n",
       "      <th>pop_lvst_initial_cattle_dairy</th>\n",
       "      <th>pop_lvst_initial_cattle_dairy.1</th>\n",
       "    </tr>\n",
       "  </thead>\n",
       "  <tbody>\n",
       "    <tr>\n",
       "      <th>0</th>\n",
       "      <td>14031000</td>\n",
       "      <td>14031000</td>\n",
       "    </tr>\n",
       "    <tr>\n",
       "      <th>1</th>\n",
       "      <td>14368000</td>\n",
       "      <td>14368000</td>\n",
       "    </tr>\n",
       "    <tr>\n",
       "      <th>2</th>\n",
       "      <td>14189000</td>\n",
       "      <td>14189000</td>\n",
       "    </tr>\n",
       "    <tr>\n",
       "      <th>3</th>\n",
       "      <td>14572000</td>\n",
       "      <td>14572000</td>\n",
       "    </tr>\n",
       "    <tr>\n",
       "      <th>4</th>\n",
       "      <td>14785000</td>\n",
       "      <td>14785000</td>\n",
       "    </tr>\n",
       "  </tbody>\n",
       "</table>\n",
       "</div>"
      ],
      "text/plain": [
       "   pop_lvst_initial_cattle_dairy  pop_lvst_initial_cattle_dairy.1\n",
       "0                       14031000                         14031000\n",
       "1                       14368000                         14368000\n",
       "2                       14189000                         14189000\n",
       "3                       14572000                         14572000\n",
       "4                       14785000                         14785000"
      ]
     },
     "execution_count": 26,
     "metadata": {},
     "output_type": "execute_result"
    }
   ],
   "source": [
    "df_inputs_raw_complete[[col for col in df_inputs_raw_complete.columns if 'pop_lvst_initial_cattle_dairy' in col]].head()"
   ]
  },
  {
   "cell_type": "code",
   "execution_count": 27,
   "id": "f0cbb6fd",
   "metadata": {},
   "outputs": [
    {
     "data": {
      "text/html": [
       "<div>\n",
       "<style scoped>\n",
       "    .dataframe tbody tr th:only-of-type {\n",
       "        vertical-align: middle;\n",
       "    }\n",
       "\n",
       "    .dataframe tbody tr th {\n",
       "        vertical-align: top;\n",
       "    }\n",
       "\n",
       "    .dataframe thead th {\n",
       "        text-align: right;\n",
       "    }\n",
       "</style>\n",
       "<table border=\"1\" class=\"dataframe\">\n",
       "  <thead>\n",
       "    <tr style=\"text-align: right;\">\n",
       "      <th></th>\n",
       "      <th>pop_lvst_initial_cattle_dairy</th>\n",
       "    </tr>\n",
       "  </thead>\n",
       "  <tbody>\n",
       "    <tr>\n",
       "      <th>0</th>\n",
       "      <td>14031000</td>\n",
       "    </tr>\n",
       "    <tr>\n",
       "      <th>1</th>\n",
       "      <td>14368000</td>\n",
       "    </tr>\n",
       "    <tr>\n",
       "      <th>2</th>\n",
       "      <td>14189000</td>\n",
       "    </tr>\n",
       "    <tr>\n",
       "      <th>3</th>\n",
       "      <td>14572000</td>\n",
       "    </tr>\n",
       "    <tr>\n",
       "      <th>4</th>\n",
       "      <td>14785000</td>\n",
       "    </tr>\n",
       "  </tbody>\n",
       "</table>\n",
       "</div>"
      ],
      "text/plain": [
       "   pop_lvst_initial_cattle_dairy\n",
       "0                       14031000\n",
       "1                       14368000\n",
       "2                       14189000\n",
       "3                       14572000\n",
       "4                       14785000"
      ]
     },
     "execution_count": 27,
     "metadata": {},
     "output_type": "execute_result"
    }
   ],
   "source": [
    "df_inputs_raw_complete = df_inputs_raw_complete.drop(columns='pop_lvst_initial_cattle_dairy.1')\n",
    "df_inputs_raw_complete[[col for col in df_inputs_raw_complete.columns if 'pop_lvst_initial_cattle_dairy' in col]].head()"
   ]
  },
  {
   "cell_type": "code",
   "execution_count": 28,
   "id": "7ad14109",
   "metadata": {},
   "outputs": [
    {
     "data": {
      "text/plain": [
       "0    costa_rica\n",
       "1    costa_rica\n",
       "2    costa_rica\n",
       "3    costa_rica\n",
       "4    costa_rica\n",
       "Name: region, dtype: object"
      ]
     },
     "execution_count": 28,
     "metadata": {},
     "output_type": "execute_result"
    }
   ],
   "source": [
    "# Checking region to avoid copy errors\n",
    "df_inputs_raw_complete['region'].head()"
   ]
  },
  {
   "cell_type": "code",
   "execution_count": 29,
   "id": "5a6d5d14",
   "metadata": {},
   "outputs": [
    {
     "data": {
      "text/plain": [
       "0    uganda\n",
       "1    uganda\n",
       "2    uganda\n",
       "3    uganda\n",
       "4    uganda\n",
       "Name: region, dtype: object"
      ]
     },
     "execution_count": 29,
     "metadata": {},
     "output_type": "execute_result"
    }
   ],
   "source": [
    "# Set region to country name\n",
    "df_inputs_raw_complete['region'] = country_name\n",
    "df_inputs_raw_complete['region'].head()"
   ]
  },
  {
   "cell_type": "code",
   "execution_count": 30,
   "id": "2c6674d0",
   "metadata": {},
   "outputs": [],
   "source": [
    "# g_utils.check_frac_groups(df_inputs_raw_complete, os.path.join(dir_misc, \"energy_frac_vars.xlsx\"))"
   ]
  },
  {
   "cell_type": "code",
   "execution_count": 31,
   "id": "10489686",
   "metadata": {},
   "outputs": [],
   "source": [
    "# g_utils.check_individual_frac_vars(df_inputs_raw_complete)"
   ]
  },
  {
   "cell_type": "markdown",
   "id": "2af6e79f",
   "metadata": {},
   "source": [
    "## Let's Modify the  LNDU Reallocation factor"
   ]
  },
  {
   "cell_type": "code",
   "execution_count": 32,
   "id": "acf0a74e",
   "metadata": {},
   "outputs": [
    {
     "data": {
      "text/plain": [
       "0.0"
      ]
     },
     "execution_count": 32,
     "metadata": {},
     "output_type": "execute_result"
    }
   ],
   "source": [
    "if set_lndu_reallocation_factor_to_zero_flag:\n",
    "    df_inputs_raw_complete['lndu_reallocation_factor'] = 0.0\n",
    "\n",
    "df_inputs_raw_complete['lndu_reallocation_factor'].mean()"
   ]
  },
  {
   "cell_type": "markdown",
   "id": "91491c34-78de-4bf9-bed3-3d69613bace7",
   "metadata": {},
   "source": [
    "#  Let's try building transformations using this\n"
   ]
  },
  {
   "cell_type": "code",
   "execution_count": 33,
   "id": "8f21339f-7e93-4123-aa07-8a12f0316756",
   "metadata": {},
   "outputs": [],
   "source": [
    "transformers = trf.transformers.Transformers(\n",
    "    {},\n",
    "    df_input = df_inputs_raw_complete,\n",
    ")"
   ]
  },
  {
   "cell_type": "markdown",
   "id": "d93521f1-0fa0-4f09-9b6e-def5662df3d8",
   "metadata": {},
   "source": [
    "##  Instantiate some transformations. Make sure to run this cell to create the transformations folder for the first time or if you wish to overwrite"
   ]
  },
  {
   "cell_type": "code",
   "execution_count": 34,
   "id": "e85aa9b2-412c-44f7-b75f-3bc486202843",
   "metadata": {},
   "outputs": [
    {
     "name": "stdout",
     "output_type": "stream",
     "text": [
      "Directory /home/tony-ubuntu/decision_sciences/ssp_uganda/ssp_modeling/transformations already exists. Skipping instantiation.\n"
     ]
    }
   ],
   "source": [
    "# set an ouput path and instantiate\n",
    "if not dir_transformations.exists():\n",
    "    trf.instantiate_default_strategy_directory(\n",
    "        transformers,\n",
    "        dir_transformations,\n",
    "    )\n",
    "else:\n",
    "    print(f\"Directory {dir_transformations} already exists. Skipping instantiation.\")\n"
   ]
  },
  {
   "cell_type": "markdown",
   "id": "14522780-2f45-4402-8889-365f1d319303",
   "metadata": {},
   "source": [
    "##  --HERE, CUSTOMIZE YOUR TRANSFORMATIONS AND STRATEGIES--"
   ]
  },
  {
   "cell_type": "markdown",
   "id": "03361640",
   "metadata": {},
   "source": [
    "### Customizing transformations and strategies files using TransformationUtils.py classes"
   ]
  },
  {
   "cell_type": "code",
   "execution_count": 35,
   "id": "9518b80c",
   "metadata": {},
   "outputs": [
    {
     "name": "stdout",
     "output_type": "stream",
     "text": [
      "\u001b[31mInit signature:\u001b[39m\n",
      "TransformationYamlProcessor(\n",
      "    scenario_mapping_excel_path,\n",
      "    yaml_dir_path,\n",
      "    sheet_name=\u001b[33m'yaml'\u001b[39m,\n",
      ")\n",
      "\u001b[31mDocstring:\u001b[39m     \n",
      "TransformationYamlProcessor is a class designed to handle the processing of YAML files based on scenario mappings provided in an Excel file. It provides methods to load scenario mappings, retrieve strategy names, load YAML data, save modified YAML files, and process YAML files according to specified transformations.\n",
      "Methods:\n",
      "    __init__(self, scenario_mapping_excel_path, yaml_dir_path, sheet_name='yaml'):\n",
      "        Initializes the TransformationYamlProcessor class with the given parameters.\n",
      "    load_scenario_mapping_excel(self):\n",
      "    load_yaml_data(self, yaml_file_path):\n",
      "    get_strategy_names(self):\n",
      "    save_yaml_file(self, yaml_content, yaml_name, column, transformation_code, subsector, transformation_name, scalar_val):\n",
      "    get_transformations_per_strategy_dict(self):\n",
      "    process_yaml_files(self):\n",
      "\u001b[31mInit docstring:\u001b[39m\n",
      "Initializes the TransformationUtils class with the given parameters.\n",
      "Args:\n",
      "    scenario_mapping_excel_path (str): The file path to the scenario mapping Excel file.\n",
      "    yaml_dir_path (str): The directory path where YAML files are stored.\n",
      "    sheet_name (str, optional): The name of the sheet in the Excel file to load. Defaults to 'yaml'.\n",
      "Attributes:\n",
      "    scenario_mapping_excel_path (str): Stores the file path to the scenario mapping Excel file.\n",
      "    sheet_name (str): Stores the name of the sheet in the Excel file to load.\n",
      "    yaml_dir_path (str): Stores the directory path where YAML files are stored.\n",
      "    mapping_df (DataFrame): DataFrame containing the loaded scenario mapping from the Excel file.\n",
      "\u001b[31mFile:\u001b[39m           ~/anaconda3/envs/ssp_uganda/lib/python3.11/site-packages/ssp_transformations_handler/TransformationUtils.py\n",
      "\u001b[31mType:\u001b[39m           type\n",
      "\u001b[31mSubclasses:\u001b[39m     "
     ]
    }
   ],
   "source": [
    "?TransformationYamlProcessor"
   ]
  },
  {
   "cell_type": "code",
   "execution_count": 36,
   "id": "cd47d570",
   "metadata": {},
   "outputs": [
    {
     "name": "stdout",
     "output_type": "stream",
     "text": [
      "/home/tony-ubuntu/decision_sciences/ssp_uganda/ssp_modeling/scenario_mapping/ssp_uganda_transformation_cw_2025_03_11.xlsx\n"
     ]
    }
   ],
   "source": [
    "# Generate new transformation files based on the excel mapping file. \n",
    "# Make sure to have the most updated format for the excel file, check the one used in this notebook for reference.\n",
    "\n",
    "cw_file_path = os.path.join(dir_scenario_mapping, ssp_transformation_cw)\n",
    "print(cw_file_path)\n",
    "excel_yaml_handler = TransformationYamlProcessor(scenario_mapping_excel_path=cw_file_path, yaml_dir_path=dir_transformations)"
   ]
  },
  {
   "cell_type": "code",
   "execution_count": 37,
   "id": "ddac9676",
   "metadata": {},
   "outputs": [
    {
     "name": "stdout",
     "output_type": "stream",
     "text": [
      "YAML file transformation_agrc_inc_conservation_agriculture.yaml already exist for strategy strategy_NDC. Please check it manually.\n",
      "YAML file transformation_agrc_inc_conservation_agriculture.yaml already exist for strategy strategy_NZ. Please check it manually.\n",
      "YAML file transformation_inen_shift_fuel_heat.yaml already exist for strategy strategy_NZ. Please check it manually.\n",
      "YAML file transformation_lsmm_inc_management_cattle_pigs.yaml already exist for strategy strategy_NZ. Please check it manually.\n",
      "YAML file transformation_lsmm_inc_management_other.yaml already exist for strategy strategy_NZ. Please check it manually.\n",
      "YAML file transformation_lsmm_inc_management_poultry.yaml already exist for strategy strategy_NZ. Please check it manually.\n",
      "YAML file transformation_lvst_dec_enteric_fermentation.yaml already exist for strategy strategy_NZ. Please check it manually.\n",
      "YAML file transformation_pflo_inc_healthier_diets.yaml already exist for strategy strategy_NZ. Please check it manually.\n",
      "YAML file transformation_pflo_inc_ind_ccs.yaml already exist for strategy strategy_NZ. Please check it manually.\n",
      "YAML file transformation_trns_shift_mode_regional.yaml already exist for strategy strategy_NDC. Please check it manually.\n",
      "YAML file transformation_trns_shift_mode_regional.yaml already exist for strategy strategy_NZ. Please check it manually.\n",
      "YAML file transformation_wali_inc_treatment_industrial.yaml already exist for strategy strategy_NDC. Please check it manually.\n",
      "YAML file transformation_wali_inc_treatment_industrial.yaml already exist for strategy strategy_NZ. Please check it manually.\n",
      "YAML file transformation_wali_inc_treatment_rural.yaml already exist for strategy strategy_NDC. Please check it manually.\n",
      "YAML file transformation_wali_inc_treatment_rural.yaml already exist for strategy strategy_NZ. Please check it manually.\n",
      "YAML file transformation_wali_inc_treatment_urban.yaml already exist for strategy strategy_NDC. Please check it manually.\n",
      "YAML file transformation_wali_inc_treatment_urban.yaml already exist for strategy strategy_NZ. Please check it manually.\n",
      "YAML file transformation_waso_inc_anaerobic_and_compost.yaml already exist for strategy strategy_NZ. Please check it manually.\n"
     ]
    }
   ],
   "source": [
    "# This creates transformation yaml files for each strategy in the excel file\n",
    "excel_yaml_handler.process_yaml_files()"
   ]
  },
  {
   "cell_type": "code",
   "execution_count": 38,
   "id": "d42f66a2",
   "metadata": {},
   "outputs": [
    {
     "data": {
      "text/plain": [
       "{'strategy_NDC': ['TX:AGRC:DEC_CH4_RICE_STRATEGY_NDC',\n",
       "  'TX:AGRC:INC_CONSERVATION_AGRICULTURE_STRATEGY_NDC',\n",
       "  'TX:AGRC:INC_PRODUCTIVITY_STRATEGY_NDC',\n",
       "  'TX:ENTC:DEC_LOSSES_STRATEGY_NDC',\n",
       "  'TX:ENTC:TARGET_CLEAN_HYDROGEN_STRATEGY_NDC',\n",
       "  'TX:ENTC:TARGET_RENEWABLE_ELEC_STRATEGY_NDC',\n",
       "  'TX:INEN:INC_EFFICIENCY_ENERGY_STRATEGY_NDC',\n",
       "  'TX:INEN:INC_EFFICIENCY_PRODUCTION_STRATEGY_NDC',\n",
       "  'TX:IPPU:DEC_CLINKER_STRATEGY_NDC',\n",
       "  'TX:IPPU:DEC_DEMAND_STRATEGY_NDC',\n",
       "  'TX:IPPU:DEC_HFCS_STRATEGY_NDC',\n",
       "  'TX:LNDU:DEC_DEFORESTATION_STRATEGY_NDC',\n",
       "  'TX:LNDU:DEC_SOC_LOSS_PASTURES_STRATEGY_NDC',\n",
       "  'TX:LNDU:INC_REFORESTATION_STRATEGY_NDC',\n",
       "  'TX:LNDU:INC_SILVOPASTURE_STRATEGY_NDC',\n",
       "  'TX:LVST:INC_PRODUCTIVITY_STRATEGY_NDC',\n",
       "  'TX:TRDE:DEC_DEMAND_STRATEGY_NDC',\n",
       "  'TX:TRNS:INC_EFFICIENCY_ELECTRIC_STRATEGY_NDC',\n",
       "  'TX:TRNS:INC_EFFICIENCY_NON_ELECTRIC_STRATEGY_NDC',\n",
       "  'TX:TRNS:SHIFT_FUEL_MARITIME_STRATEGY_NDC',\n",
       "  'TX:TRNS:SHIFT_FUEL_MEDIUM_DUTY_STRATEGY_NDC',\n",
       "  'TX:TRNS:SHIFT_MODE_FREIGHT_STRATEGY_NDC',\n",
       "  'TX:TRNS:SHIFT_MODE_PASSENGER_STRATEGY_NDC',\n",
       "  'TX:TRNS:SHIFT_MODE_REGIONAL_STRATEGY_NDC',\n",
       "  'TX:TRWW:INC_COMPLIANCE_SEPTIC_STRATEGY_NDC',\n",
       "  'TX:WALI:INC_TREATMENT_INDUSTRIAL_STRATEGY_NDC',\n",
       "  'TX:WALI:INC_TREATMENT_RURAL_STRATEGY_NDC',\n",
       "  'TX:WALI:INC_TREATMENT_URBAN_STRATEGY_NDC',\n",
       "  'TX:WASO:DEC_CONSUMER_FOOD_WASTE_STRATEGY_NDC',\n",
       "  'TX:WASO:INC_CAPTURE_BIOGAS_STRATEGY_NDC',\n",
       "  'TX:WASO:INC_ENERGY_FROM_BIOGAS_STRATEGY_NDC',\n",
       "  'TX:WASO:INC_ENERGY_FROM_INCINERATION_STRATEGY_NDC',\n",
       "  'TX:WASO:INC_LANDFILLING_STRATEGY_NDC',\n",
       "  'TX:WASO:INC_RECYCLING_STRATEGY_NDC'],\n",
       " 'strategy_NZ': ['TX:AGRC:DEC_CH4_RICE_STRATEGY_NZ',\n",
       "  'TX:AGRC:DEC_EXPORTS_STRATEGY_NZ',\n",
       "  'TX:AGRC:DEC_LOSSES_SUPPLY_CHAIN_STRATEGY_NZ',\n",
       "  'TX:AGRC:INC_CONSERVATION_AGRICULTURE_STRATEGY_NZ',\n",
       "  'TX:AGRC:INC_PRODUCTIVITY_STRATEGY_NZ',\n",
       "  'TX:CCSQ:INC_CAPTURE_STRATEGY_NZ',\n",
       "  'TX:ENTC:DEC_LOSSES_STRATEGY_NZ',\n",
       "  'TX:ENTC:TARGET_CLEAN_HYDROGEN_STRATEGY_NZ',\n",
       "  'TX:ENTC:TARGET_RENEWABLE_ELEC_STRATEGY_NZ',\n",
       "  'TX:FGTV:DEC_LEAKS_STRATEGY_NZ',\n",
       "  'TX:FGTV:INC_FLARE_STRATEGY_NZ',\n",
       "  'TX:INEN:INC_EFFICIENCY_ENERGY_STRATEGY_NZ',\n",
       "  'TX:INEN:INC_EFFICIENCY_PRODUCTION_STRATEGY_NZ',\n",
       "  'TX:INEN:SHIFT_FUEL_HEAT_STRATEGY_NZ',\n",
       "  'TX:IPPU:DEC_CLINKER_STRATEGY_NZ',\n",
       "  'TX:IPPU:DEC_DEMAND_STRATEGY_NZ',\n",
       "  'TX:IPPU:DEC_HFCS_STRATEGY_NZ',\n",
       "  'TX:IPPU:DEC_N2O_STRATEGY_NZ',\n",
       "  'TX:IPPU:DEC_OTHER_FCS_STRATEGY_NZ',\n",
       "  'TX:IPPU:DEC_PFCS_STRATEGY_NZ',\n",
       "  'TX:LNDU:DEC_DEFORESTATION_STRATEGY_NZ',\n",
       "  'TX:LNDU:DEC_SOC_LOSS_PASTURES_STRATEGY_NZ',\n",
       "  'TX:LNDU:INC_REFORESTATION_STRATEGY_NZ',\n",
       "  'TX:LNDU:INC_SILVOPASTURE_STRATEGY_NZ',\n",
       "  'TX:LSMM:INC_CAPTURE_BIOGAS_STRATEGY_NZ',\n",
       "  'TX:LSMM:INC_MANAGEMENT_CATTLE_PIGS_STRATEGY_NZ',\n",
       "  'TX:LSMM:INC_MANAGEMENT_OTHER_STRATEGY_NZ',\n",
       "  'TX:LSMM:INC_MANAGEMENT_POULTRY_STRATEGY_NZ',\n",
       "  'TX:LVST:DEC_ENTERIC_FERMENTATION_STRATEGY_NZ',\n",
       "  'TX:LVST:DEC_EXPORTS_STRATEGY_NZ',\n",
       "  'TX:LVST:INC_PRODUCTIVITY_STRATEGY_NZ',\n",
       "  'TX:PFLO:INC_HEALTHIER_DIETS_STRATEGY_NZ',\n",
       "  'TX:PFLO:INC_IND_CCS_STRATEGY_NZ',\n",
       "  'TX:SCOE:DEC_DEMAND_HEAT_STRATEGY_NZ',\n",
       "  'TX:SCOE:INC_EFFICIENCY_APPLIANCE_STRATEGY_NZ',\n",
       "  'TX:SCOE:SHIFT_FUEL_HEAT_STRATEGY_NZ',\n",
       "  'TX:SOIL:DEC_LIME_APPLIED_STRATEGY_NZ',\n",
       "  'TX:SOIL:DEC_N_APPLIED_STRATEGY_NZ',\n",
       "  'TX:TRDE:DEC_DEMAND_STRATEGY_NZ',\n",
       "  'TX:TRNS:INC_EFFICIENCY_ELECTRIC_STRATEGY_NZ',\n",
       "  'TX:TRNS:INC_EFFICIENCY_NON_ELECTRIC_STRATEGY_NZ',\n",
       "  'TX:TRNS:INC_OCCUPANCY_LIGHT_DUTY_STRATEGY_NZ',\n",
       "  'TX:TRNS:SHIFT_FUEL_LIGHT_DUTY_STRATEGY_NZ',\n",
       "  'TX:TRNS:SHIFT_FUEL_MARITIME_STRATEGY_NZ',\n",
       "  'TX:TRNS:SHIFT_FUEL_MEDIUM_DUTY_STRATEGY_NZ',\n",
       "  'TX:TRNS:SHIFT_FUEL_RAIL_STRATEGY_NZ',\n",
       "  'TX:TRNS:SHIFT_MODE_FREIGHT_STRATEGY_NZ',\n",
       "  'TX:TRNS:SHIFT_MODE_PASSENGER_STRATEGY_NZ',\n",
       "  'TX:TRNS:SHIFT_MODE_REGIONAL_STRATEGY_NZ',\n",
       "  'TX:TRWW:INC_CAPTURE_BIOGAS_STRATEGY_NZ',\n",
       "  'TX:TRWW:INC_COMPLIANCE_SEPTIC_STRATEGY_NZ',\n",
       "  'TX:WALI:INC_TREATMENT_INDUSTRIAL_STRATEGY_NZ',\n",
       "  'TX:WALI:INC_TREATMENT_RURAL_STRATEGY_NZ',\n",
       "  'TX:WALI:INC_TREATMENT_URBAN_STRATEGY_NZ',\n",
       "  'TX:WASO:DEC_CONSUMER_FOOD_WASTE_STRATEGY_NZ',\n",
       "  'TX:WASO:INC_ANAEROBIC_AND_COMPOST_STRATEGY_NZ',\n",
       "  'TX:WASO:INC_CAPTURE_BIOGAS_STRATEGY_NZ',\n",
       "  'TX:WASO:INC_ENERGY_FROM_BIOGAS_STRATEGY_NZ',\n",
       "  'TX:WASO:INC_ENERGY_FROM_INCINERATION_STRATEGY_NZ',\n",
       "  'TX:WASO:INC_LANDFILLING_STRATEGY_NZ',\n",
       "  'TX:WASO:INC_RECYCLING_STRATEGY_NZ']}"
      ]
     },
     "execution_count": 38,
     "metadata": {},
     "output_type": "execute_result"
    }
   ],
   "source": [
    "# Load the transformations per strategy dictionary so we can pass it to the strategy handler\n",
    "# You can also check here if the transformations in each strategy are correct\n",
    "transformation_per_strategy_dict = excel_yaml_handler.get_transformations_per_strategy_dict()\n",
    "transformation_per_strategy_dict"
   ]
  },
  {
   "cell_type": "code",
   "execution_count": 39,
   "id": "958fcda4",
   "metadata": {},
   "outputs": [
    {
     "data": {
      "text/plain": [
       "dict_keys(['strategy_NDC', 'strategy_NZ'])"
      ]
     },
     "execution_count": 39,
     "metadata": {},
     "output_type": "execute_result"
    }
   ],
   "source": [
    "transformation_per_strategy_dict.keys()"
   ]
  },
  {
   "cell_type": "markdown",
   "id": "cb689de1",
   "metadata": {},
   "source": [
    "### Creating new strategies\n",
    "- You can create new strategies from scratch.\n",
    "- You can also update existing ones."
   ]
  },
  {
   "cell_type": "code",
   "execution_count": 40,
   "id": "ea277ea6",
   "metadata": {},
   "outputs": [
    {
     "name": "stdout",
     "output_type": "stream",
     "text": [
      "INFO: Strategy code PFLO:NDC already exists in the strategy definitions. Strategy will be updated...\n",
      "Updated row with strategy_code PFLO:NDC\n",
      "INFO: Strategy code PFLO:NZ already exists in the strategy definitions. Strategy will be updated...\n",
      "Updated row with strategy_code PFLO:NZ\n"
     ]
    }
   ],
   "source": [
    "# Creating new strategies by updating the strategy_definitions file.\n",
    "# You can edit this to add yours, as many as you want.\n",
    "csv_handler = StrategyCSVHandler(strategies_definitions_file_path, dir_transformations, strategy_mapping_file_path, transformation_per_strategy_dict)\n",
    "\n",
    "csv_handler.add_strategy(strategy_group='PFLO', description='NDC', yaml_file_suffix='NDC')\n",
    "csv_handler.add_strategy(strategy_group='PFLO', description='Net Zero', yaml_file_suffix='NZ')\n"
   ]
  },
  {
   "cell_type": "code",
   "execution_count": 41,
   "id": "cf8763ef",
   "metadata": {},
   "outputs": [],
   "source": [
    "# Set up the strategy codes you wish to run in ssp\n",
    "strategies_to_run = [0, 6003, 6004]"
   ]
  },
  {
   "cell_type": "markdown",
   "id": "5b7c7b74",
   "metadata": {},
   "source": [
    "### We finished adding new transformation files and strategies so lets load them back"
   ]
  },
  {
   "cell_type": "code",
   "execution_count": 42,
   "id": "57bd1a2f-4f3e-4c78-b9a6-b00446ee44ad",
   "metadata": {},
   "outputs": [],
   "source": [
    "# then, you can load this back in after modifying (play around with it)\n",
    "transformations = trf.Transformations(\n",
    "    dir_transformations,\n",
    "    transformers = transformers,\n",
    ")\n",
    "tab = transformations.attribute_transformation.table"
   ]
  },
  {
   "cell_type": "code",
   "execution_count": 43,
   "id": "d20cd07a-feb1-4b4c-a755-43d0f639e3c7",
   "metadata": {},
   "outputs": [
    {
     "name": "stdout",
     "output_type": "stream",
     "text": [
      "Strategies defined at /home/tony-ubuntu/decision_sciences/ssp_uganda/ssp_modeling/transformations initialized in 3.79 seconds\n"
     ]
    }
   ],
   "source": [
    "#  build the strategies -- will export to path\n",
    "t0 = time.time()\n",
    "strategies = trf.Strategies(\n",
    "    transformations,\n",
    "    export_path = \"transformations\",\n",
    "    prebuild = True,\n",
    ")\n",
    "\n",
    "t_elapse = sf.get_time_elapsed(t0)\n",
    "print(f\"Strategies defined at {strategies.transformations.dir_init} initialized in {t_elapse} seconds\")"
   ]
  },
  {
   "cell_type": "code",
   "execution_count": 44,
   "id": "937acf95-47c5-42d2-bec4-1960ca8bb3b1",
   "metadata": {},
   "outputs": [
    {
     "data": {
      "text/html": [
       "<div>\n",
       "<style scoped>\n",
       "    .dataframe tbody tr th:only-of-type {\n",
       "        vertical-align: middle;\n",
       "    }\n",
       "\n",
       "    .dataframe tbody tr th {\n",
       "        vertical-align: top;\n",
       "    }\n",
       "\n",
       "    .dataframe thead th {\n",
       "        text-align: right;\n",
       "    }\n",
       "</style>\n",
       "<table border=\"1\" class=\"dataframe\">\n",
       "  <thead>\n",
       "    <tr style=\"text-align: right;\">\n",
       "      <th></th>\n",
       "      <th>strategy_id</th>\n",
       "      <th>strategy_code</th>\n",
       "      <th>strategy</th>\n",
       "      <th>description</th>\n",
       "      <th>transformation_specification</th>\n",
       "      <th>baseline_strategy_id</th>\n",
       "    </tr>\n",
       "  </thead>\n",
       "  <tbody>\n",
       "    <tr>\n",
       "      <th>0</th>\n",
       "      <td>0</td>\n",
       "      <td>BASE</td>\n",
       "      <td>Strategy TX:BASE</td>\n",
       "      <td>NaN</td>\n",
       "      <td>TX:BASE</td>\n",
       "      <td>1</td>\n",
       "    </tr>\n",
       "    <tr>\n",
       "      <th>1</th>\n",
       "      <td>1000</td>\n",
       "      <td>AGRC:DEC_CH4_RICE</td>\n",
       "      <td>Singleton - Default Value - AGRC: Improve rice...</td>\n",
       "      <td>NaN</td>\n",
       "      <td>TX:AGRC:DEC_CH4_RICE</td>\n",
       "      <td>0</td>\n",
       "    </tr>\n",
       "    <tr>\n",
       "      <th>2</th>\n",
       "      <td>1001</td>\n",
       "      <td>AGRC:DEC_EXPORTS</td>\n",
       "      <td>Singleton - Default Value - AGRC: Decrease Exp...</td>\n",
       "      <td>NaN</td>\n",
       "      <td>TX:AGRC:DEC_EXPORTS</td>\n",
       "      <td>0</td>\n",
       "    </tr>\n",
       "    <tr>\n",
       "      <th>3</th>\n",
       "      <td>1002</td>\n",
       "      <td>AGRC:DEC_LOSSES_SUPPLY_CHAIN</td>\n",
       "      <td>Singleton - Default Value - AGRC: Reduce suppl...</td>\n",
       "      <td>NaN</td>\n",
       "      <td>TX:AGRC:DEC_LOSSES_SUPPLY_CHAIN</td>\n",
       "      <td>0</td>\n",
       "    </tr>\n",
       "    <tr>\n",
       "      <th>4</th>\n",
       "      <td>1003</td>\n",
       "      <td>AGRC:INC_CONSERVATION_AGRICULTURE</td>\n",
       "      <td>Singleton - Default Value - AGRC: Expand conse...</td>\n",
       "      <td>NaN</td>\n",
       "      <td>TX:AGRC:INC_CONSERVATION_AGRICULTURE</td>\n",
       "      <td>0</td>\n",
       "    </tr>\n",
       "    <tr>\n",
       "      <th>...</th>\n",
       "      <td>...</td>\n",
       "      <td>...</td>\n",
       "      <td>...</td>\n",
       "      <td>...</td>\n",
       "      <td>...</td>\n",
       "      <td>...</td>\n",
       "    </tr>\n",
       "    <tr>\n",
       "      <th>66</th>\n",
       "      <td>6000</td>\n",
       "      <td>PFLO:INC_HEALTHIER_DIETS</td>\n",
       "      <td>Singleton - Default Value - PFLO: Change diets</td>\n",
       "      <td>NaN</td>\n",
       "      <td>TX:PFLO:INC_HEALTHIER_DIETS</td>\n",
       "      <td>0</td>\n",
       "    </tr>\n",
       "    <tr>\n",
       "      <th>67</th>\n",
       "      <td>6001</td>\n",
       "      <td>PFLO:INC_IND_CCS</td>\n",
       "      <td>Singleton - Default Value - PFLO: Industrial c...</td>\n",
       "      <td>NaN</td>\n",
       "      <td>TX:PFLO:INC_IND_CCS</td>\n",
       "      <td>0</td>\n",
       "    </tr>\n",
       "    <tr>\n",
       "      <th>68</th>\n",
       "      <td>6002</td>\n",
       "      <td>PFLO:ALL</td>\n",
       "      <td>All Actions</td>\n",
       "      <td>All actions (unique by transformer)</td>\n",
       "      <td>TX:AGRC:DEC_CH4_RICE|TX:AGRC:DEC_EXPORTS|TX:AG...</td>\n",
       "      <td>0</td>\n",
       "    </tr>\n",
       "    <tr>\n",
       "      <th>69</th>\n",
       "      <td>6003</td>\n",
       "      <td>PFLO:NDC</td>\n",
       "      <td>NDC</td>\n",
       "      <td>NDC</td>\n",
       "      <td>TX:INEN:INC_EFFICIENCY_PRODUCTION_STRATEGY_NDC...</td>\n",
       "      <td>0</td>\n",
       "    </tr>\n",
       "    <tr>\n",
       "      <th>70</th>\n",
       "      <td>6004</td>\n",
       "      <td>PFLO:NZ</td>\n",
       "      <td>NZ</td>\n",
       "      <td>Net Zero</td>\n",
       "      <td>TX:WASO:INC_RECYCLING_STRATEGY_NZ|TX:WALI:INC_...</td>\n",
       "      <td>0</td>\n",
       "    </tr>\n",
       "  </tbody>\n",
       "</table>\n",
       "<p>71 rows × 6 columns</p>\n",
       "</div>"
      ],
      "text/plain": [
       "    strategy_id                      strategy_code  \\\n",
       "0             0                               BASE   \n",
       "1          1000                  AGRC:DEC_CH4_RICE   \n",
       "2          1001                   AGRC:DEC_EXPORTS   \n",
       "3          1002       AGRC:DEC_LOSSES_SUPPLY_CHAIN   \n",
       "4          1003  AGRC:INC_CONSERVATION_AGRICULTURE   \n",
       "..          ...                                ...   \n",
       "66         6000           PFLO:INC_HEALTHIER_DIETS   \n",
       "67         6001                   PFLO:INC_IND_CCS   \n",
       "68         6002                           PFLO:ALL   \n",
       "69         6003                           PFLO:NDC   \n",
       "70         6004                            PFLO:NZ   \n",
       "\n",
       "                                             strategy  \\\n",
       "0                                    Strategy TX:BASE   \n",
       "1   Singleton - Default Value - AGRC: Improve rice...   \n",
       "2   Singleton - Default Value - AGRC: Decrease Exp...   \n",
       "3   Singleton - Default Value - AGRC: Reduce suppl...   \n",
       "4   Singleton - Default Value - AGRC: Expand conse...   \n",
       "..                                                ...   \n",
       "66     Singleton - Default Value - PFLO: Change diets   \n",
       "67  Singleton - Default Value - PFLO: Industrial c...   \n",
       "68                                        All Actions   \n",
       "69                                                NDC   \n",
       "70                                                 NZ   \n",
       "\n",
       "                            description  \\\n",
       "0                                   NaN   \n",
       "1                                   NaN   \n",
       "2                                   NaN   \n",
       "3                                   NaN   \n",
       "4                                   NaN   \n",
       "..                                  ...   \n",
       "66                                  NaN   \n",
       "67                                  NaN   \n",
       "68  All actions (unique by transformer)   \n",
       "69                                  NDC   \n",
       "70                             Net Zero   \n",
       "\n",
       "                         transformation_specification  baseline_strategy_id  \n",
       "0                                             TX:BASE                     1  \n",
       "1                                TX:AGRC:DEC_CH4_RICE                     0  \n",
       "2                                 TX:AGRC:DEC_EXPORTS                     0  \n",
       "3                     TX:AGRC:DEC_LOSSES_SUPPLY_CHAIN                     0  \n",
       "4                TX:AGRC:INC_CONSERVATION_AGRICULTURE                     0  \n",
       "..                                                ...                   ...  \n",
       "66                        TX:PFLO:INC_HEALTHIER_DIETS                     0  \n",
       "67                                TX:PFLO:INC_IND_CCS                     0  \n",
       "68  TX:AGRC:DEC_CH4_RICE|TX:AGRC:DEC_EXPORTS|TX:AG...                     0  \n",
       "69  TX:INEN:INC_EFFICIENCY_PRODUCTION_STRATEGY_NDC...                     0  \n",
       "70  TX:WASO:INC_RECYCLING_STRATEGY_NZ|TX:WALI:INC_...                     0  \n",
       "\n",
       "[71 rows x 6 columns]"
      ]
     },
     "execution_count": 44,
     "metadata": {},
     "output_type": "execute_result"
    }
   ],
   "source": [
    "strategies.attribute_table"
   ]
  },
  {
   "cell_type": "markdown",
   "id": "960373ce-9c92-4998-87e1-79563b4b7800",
   "metadata": {},
   "source": [
    "##  Build our templates\n",
    "- let's use the default variable groupings for LHS"
   ]
  },
  {
   "cell_type": "code",
   "execution_count": 45,
   "id": "fb46000c-f47a-4fcd-ae46-44bf7fab2e99",
   "metadata": {},
   "outputs": [
    {
     "name": "stdout",
     "output_type": "stream",
     "text": [
      "starting strat 6003 with input shape (36, 2259)\n",
      "strat 6003 with output shape (36, 2259)\n",
      "here = 6003\n",
      "starting strat 6004 with input shape (36, 2259)\n",
      "strat 6004 with output shape (36, 2259)\n",
      "here = 6004\n"
     ]
    },
    {
     "data": {
      "text/plain": [
       "0"
      ]
     },
     "execution_count": 45,
     "metadata": {},
     "output_type": "execute_result"
    }
   ],
   "source": [
    "# Building excel templates, make sure to include the strategies ids in the strategies attribute as well as the baseline (0)\n",
    "df_vargroups = examples(\"variable_trajectory_group_specification\")\n",
    "\n",
    "strategies.build_strategies_to_templates(\n",
    "    df_trajgroup = df_vargroups,\n",
    "    include_simplex_group_as_trajgroup = True,\n",
    "    strategies = strategies_to_run,\n",
    ")"
   ]
  },
  {
   "cell_type": "markdown",
   "id": "dec04da7-dd23-437c-bcc2-fd63541c44f5",
   "metadata": {},
   "source": [
    "# Finally, load SISEPUEDE so that we can run it"
   ]
  },
  {
   "cell_type": "code",
   "execution_count": 46,
   "id": "31e4a440",
   "metadata": {},
   "outputs": [
    {
     "data": {
      "text/plain": [
       "'uganda'"
      ]
     },
     "execution_count": 46,
     "metadata": {},
     "output_type": "execute_result"
    }
   ],
   "source": [
    "country_name"
   ]
  },
  {
   "cell_type": "code",
   "execution_count": 47,
   "id": "749d1cae-41a3-4344-b0ff-db9d8d41a619",
   "metadata": {
    "collapsed": true,
    "jupyter": {
     "outputs_hidden": true
    }
   },
   "outputs": [
    {
     "name": "stderr",
     "output_type": "stream",
     "text": [
      "2025-03-13 14:52:03,567 - INFO - Successfully initialized SISEPUEDEFileStructure.\n",
      "2025-03-13 14:52:03,570 - WARNING - Missing key dict_dimensional_keys: key time_series not found. Tables that rely on the time_series will not have index checking.\n",
      "2025-03-13 14:52:03,571 - INFO - \tSetting export engine to 'csv'.\n",
      "2025-03-13 14:52:03,572 - WARNING - No index fields defined. Index field values will not be checked when writing to tables.\n",
      "2025-03-13 14:52:03,572 - INFO - Successfully instantiated table ANALYSIS_METADATA\n",
      "2025-03-13 14:52:03,573 - WARNING - No index fields found in ATTRIBUTE_DESIGN. Initializing index fields.\n",
      "2025-03-13 14:52:03,574 - INFO - Successfully instantiated table ATTRIBUTE_DESIGN\n",
      "2025-03-13 14:52:03,574 - WARNING - No index fields found in ATTRIBUTE_LHC_SAMPLES_EXOGENOUS_UNCERTAINTIES. Initializing index fields.\n",
      "2025-03-13 14:52:03,575 - INFO - Successfully instantiated table ATTRIBUTE_LHC_SAMPLES_EXOGENOUS_UNCERTAINTIES\n",
      "2025-03-13 14:52:03,576 - WARNING - No index fields found in ATTRIBUTE_LHC_SAMPLES_LEVER_EFFECTS. Initializing index fields.\n",
      "2025-03-13 14:52:03,576 - INFO - Successfully instantiated table ATTRIBUTE_LHC_SAMPLES_LEVER_EFFECTS\n",
      "2025-03-13 14:52:03,576 - WARNING - No index fields found in ATTRIBUTE_PRIMARY. Initializing index fields.\n",
      "2025-03-13 14:52:03,577 - INFO - Successfully instantiated table ATTRIBUTE_PRIMARY\n",
      "2025-03-13 14:52:03,578 - WARNING - No index fields found in ATTRIBUTE_STRATEGY. Initializing index fields.\n",
      "2025-03-13 14:52:03,578 - INFO - Successfully instantiated table ATTRIBUTE_STRATEGY\n",
      "2025-03-13 14:52:03,579 - WARNING - No index fields found in MODEL_BASE_INPUT_DATABASE. Initializing index fields.\n",
      "2025-03-13 14:52:03,579 - INFO - Successfully instantiated table MODEL_BASE_INPUT_DATABASE\n",
      "2025-03-13 14:52:03,580 - WARNING - No index fields found in MODEL_INPUT. Initializing index fields.\n",
      "2025-03-13 14:52:03,580 - INFO - Successfully instantiated table MODEL_INPUT\n",
      "2025-03-13 14:52:03,581 - WARNING - No index fields found in MODEL_OUTPUT. Initializing index fields.\n",
      "2025-03-13 14:52:03,582 - INFO - Successfully instantiated table MODEL_OUTPUT\n",
      "2025-03-13 14:52:03,582 - INFO - SISEPUEDEOutputDatabase successfully initialized IterativeDatabase.\n",
      "2025-03-13 14:52:03,583 - INFO - Successfully initialized database with:\n",
      "\ttype:\tcsv\n",
      "\tanalysis id:\tsisepuede_run_2025-03-13T14:52:02.922357\n",
      "\tfp_base_output:\t/home/tony-ubuntu/anaconda3/envs/ssp_uganda/lib/python3.11/site-packages/sisepuede/out/sisepuede_run_2025-03-13T14;52;02.922357/sisepuede_run_2025-03-13T14;52;02.922357_output_database\n",
      "2025-03-13 14:52:03,583 - INFO - Running SISEPUEDE under template data mode 'calibrated'.\n",
      "2025-03-13 14:52:03,584 - INFO - Initializing BaseInputDatabase\n",
      "2025-03-13 14:52:04,244 - INFO - Initializing FutureTrajectories\n",
      "2025-03-13 14:52:08,039 - INFO - Instantiating 1502 sampling units.\n",
      "2025-03-13 14:52:08,067 - INFO - Iteration 0 complete.\n",
      "2025-03-13 14:52:13,453 - INFO - Iteration 250 complete.\n",
      "2025-03-13 14:52:17,451 - INFO - Iteration 500 complete.\n",
      "2025-03-13 14:52:21,950 - INFO - Iteration 750 complete.\n",
      "2025-03-13 14:52:26,536 - INFO - Iteration 1000 complete.\n",
      "2025-03-13 14:52:31,199 - INFO - Iteration 1250 complete.\n",
      "2025-03-13 14:52:36,442 - INFO - Iteration 1500 complete.\n",
      "2025-03-13 14:52:36,466 - INFO - \t1502 sampling units complete in 28.43 seconds.\n",
      "2025-03-13 14:52:36,477 - INFO - \tFutureTrajectories for 'uganda' complete.\n",
      "2025-03-13 14:52:36,479 - INFO - Initializing LHSDesign\n",
      "2025-03-13 14:52:36,479 - INFO - LHSDesign.fields_factors_l reset successful.\n",
      "2025-03-13 14:52:36,480 - INFO - LHSDesign.fields_factors_x reset successful.\n",
      "2025-03-13 14:52:36,503 - INFO - \tLHSDesign for region 'uganda' complete.\n",
      "2025-03-13 14:52:36,504 - INFO - Generating primary keys (values of primary_id)...\n",
      "2025-03-13 14:52:36,505 - INFO - Successfully initialized SISEPUEDEExperimentalManager.\n",
      "2025-03-13 14:52:36,506 - INFO - Successfully initialized NemoMod temporary database path as /home/tony-ubuntu/anaconda3/envs/ssp_uganda/lib/python3.11/site-packages/sisepuede/tmp/nemomod_intermediate_database.sqlite.\n",
      "2025-03-13 14:52:36,507 - INFO - Set Julia directory for modules and environment to '/home/tony-ubuntu/anaconda3/envs/ssp_uganda/lib/python3.11/site-packages/sisepuede/julia'.\n",
      "2025-03-13 14:52:36,626 - INFO - Successfully initialized SISEPUEDEModels.\n",
      "2025-03-13 14:52:36,636 - INFO - Table ANALYSIS_METADATA successfully written to /home/tony-ubuntu/anaconda3/envs/ssp_uganda/lib/python3.11/site-packages/sisepuede/out/sisepuede_run_2025-03-13T14;52;02.922357/sisepuede_run_2025-03-13T14;52;02.922357_output_database/ANALYSIS_METADATA.csv.\n",
      "2025-03-13 14:52:36,638 - INFO - Table ATTRIBUTE_DESIGN successfully written to /home/tony-ubuntu/anaconda3/envs/ssp_uganda/lib/python3.11/site-packages/sisepuede/out/sisepuede_run_2025-03-13T14;52;02.922357/sisepuede_run_2025-03-13T14;52;02.922357_output_database/ATTRIBUTE_DESIGN.csv.\n",
      "2025-03-13 14:52:36,641 - INFO - Table ATTRIBUTE_STRATEGY successfully written to /home/tony-ubuntu/anaconda3/envs/ssp_uganda/lib/python3.11/site-packages/sisepuede/out/sisepuede_run_2025-03-13T14;52;02.922357/sisepuede_run_2025-03-13T14;52;02.922357_output_database/ATTRIBUTE_STRATEGY.csv.\n",
      "2025-03-13 14:52:36,865 - INFO - Table MODEL_BASE_INPUT_DATABASE successfully written to /home/tony-ubuntu/anaconda3/envs/ssp_uganda/lib/python3.11/site-packages/sisepuede/out/sisepuede_run_2025-03-13T14;52;02.922357/sisepuede_run_2025-03-13T14;52;02.922357_output_database/MODEL_BASE_INPUT_DATABASE.csv.\n"
     ]
    }
   ],
   "source": [
    "import sisepuede as si\n",
    "# timestamp_str = datetime.now().strftime(\"%Y-%m-%d %H:%M:%S\")\n",
    "ssp = si.SISEPUEDE(\n",
    "    \"calibrated\",\n",
    "    db_type = \"csv\",\n",
    "    # id_str = f\"sisepuede_run_2024-11-04T09:23:26.721580\",\n",
    "    initialize_as_dummy = not(energy_model_flag), # no connection to Julia is initialized if set to True\n",
    "    regions = [country_name],\n",
    "    strategies = strategies,\n",
    "    try_exogenous_xl_types_in_variable_specification = True,\n",
    ")"
   ]
  },
  {
   "cell_type": "code",
   "execution_count": 48,
   "id": "ace8ea38",
   "metadata": {},
   "outputs": [
    {
     "data": {
      "text/plain": [
       "True"
      ]
     },
     "execution_count": 48,
     "metadata": {},
     "output_type": "execute_result"
    }
   ],
   "source": [
    "not(energy_model_flag)"
   ]
  },
  {
   "cell_type": "code",
   "execution_count": 49,
   "id": "3e24634e-19a9-457f-909f-be5696f1ed14",
   "metadata": {
    "collapsed": true,
    "jupyter": {
     "outputs_hidden": true
    }
   },
   "outputs": [
    {
     "name": "stderr",
     "output_type": "stream",
     "text": [
      "2025-03-13 14:52:36,923 - INFO - \n",
      "***\tSTARTING REGION uganda\t***\n",
      "\n"
     ]
    },
    {
     "name": "stderr",
     "output_type": "stream",
     "text": [
      "2025-03-13 14:52:42,030 - INFO - Trying run primary_id = 0 in region uganda\n",
      "2025-03-13 14:52:42,032 - INFO - Running AFOLU model\n",
      "2025-03-13 14:52:42,293 - INFO - AFOLU model run successfully completed\n",
      "2025-03-13 14:52:42,294 - INFO - Running CircularEconomy model\n",
      "2025-03-13 14:52:42,411 - INFO - CircularEconomy model run successfully completed\n",
      "2025-03-13 14:52:42,412 - INFO - Running IPPU model\n",
      "2025-03-13 14:52:42,609 - INFO - IPPU model run successfully completed\n",
      "2025-03-13 14:52:42,610 - INFO - Running Energy model (EnergyConsumption without Fugitive Emissions)\n",
      "2025-03-13 14:52:42,667 - DEBUG - Missing elasticity information found in 'project_energy_consumption_by_fuel_from_effvars': using specified future demands.\n",
      "2025-03-13 14:52:42,791 - INFO - EnergyConsumption without Fugitive Emissions model run successfully completed\n",
      "2025-03-13 14:52:42,792 - INFO - Running Energy (Fugitive Emissions)\n",
      "2025-03-13 14:52:42,844 - ERROR - Error running Fugitive Emissions from Energy model: 'NoneType' object has no attribute 'to_numpy'\n",
      "2025-03-13 14:52:42,845 - INFO - Appending Socioeconomic outputs\n",
      "2025-03-13 14:52:42,873 - INFO - Socioeconomic outputs successfully appended.\n",
      "2025-03-13 14:52:42,878 - INFO - Model run for primary_id = 0 successfully completed in 0.85 seconds (n_tries = 1).\n",
      "2025-03-13 14:52:42,906 - INFO - Trying run primary_id = 69069 in region uganda\n",
      "2025-03-13 14:52:42,908 - INFO - Running AFOLU model\n",
      "2025-03-13 14:52:43,116 - INFO - AFOLU model run successfully completed\n",
      "2025-03-13 14:52:43,117 - INFO - Running CircularEconomy model\n",
      "2025-03-13 14:52:43,175 - INFO - CircularEconomy model run successfully completed\n",
      "2025-03-13 14:52:43,176 - INFO - Running IPPU model\n",
      "2025-03-13 14:52:43,285 - INFO - IPPU model run successfully completed\n",
      "2025-03-13 14:52:43,286 - INFO - Running Energy model (EnergyConsumption without Fugitive Emissions)\n",
      "2025-03-13 14:52:43,316 - DEBUG - Missing elasticity information found in 'project_energy_consumption_by_fuel_from_effvars': using specified future demands.\n",
      "2025-03-13 14:52:43,459 - INFO - EnergyConsumption without Fugitive Emissions model run successfully completed\n",
      "2025-03-13 14:52:43,460 - INFO - Running Energy (Fugitive Emissions)\n",
      "2025-03-13 14:52:43,497 - ERROR - Error running Fugitive Emissions from Energy model: 'NoneType' object has no attribute 'to_numpy'\n",
      "2025-03-13 14:52:43,498 - INFO - Appending Socioeconomic outputs\n",
      "2025-03-13 14:52:43,510 - INFO - Socioeconomic outputs successfully appended.\n",
      "2025-03-13 14:52:43,516 - INFO - Model run for primary_id = 69069 successfully completed in 0.61 seconds (n_tries = 1).\n",
      "2025-03-13 14:52:43,524 - INFO - Trying run primary_id = 70070 in region uganda\n",
      "2025-03-13 14:52:43,526 - INFO - Running AFOLU model\n",
      "2025-03-13 14:52:43,778 - INFO - AFOLU model run successfully completed\n",
      "2025-03-13 14:52:43,779 - INFO - Running CircularEconomy model\n",
      "2025-03-13 14:52:43,855 - INFO - CircularEconomy model run successfully completed\n",
      "2025-03-13 14:52:43,856 - INFO - Running IPPU model\n",
      "2025-03-13 14:52:43,961 - INFO - IPPU model run successfully completed\n",
      "2025-03-13 14:52:43,961 - INFO - Running Energy model (EnergyConsumption without Fugitive Emissions)\n",
      "2025-03-13 14:52:43,986 - DEBUG - Missing elasticity information found in 'project_energy_consumption_by_fuel_from_effvars': using specified future demands.\n",
      "2025-03-13 14:52:44,117 - INFO - EnergyConsumption without Fugitive Emissions model run successfully completed\n",
      "2025-03-13 14:52:44,118 - INFO - Running Energy (Fugitive Emissions)\n",
      "2025-03-13 14:52:44,145 - ERROR - Error running Fugitive Emissions from Energy model: 'NoneType' object has no attribute 'to_numpy'\n",
      "2025-03-13 14:52:44,146 - INFO - Appending Socioeconomic outputs\n",
      "2025-03-13 14:52:44,156 - INFO - Socioeconomic outputs successfully appended.\n",
      "2025-03-13 14:52:44,160 - INFO - Model run for primary_id = 70070 successfully completed in 0.63 seconds (n_tries = 1).\n",
      "2025-03-13 14:52:44,162 - INFO - \n",
      "***\t REGION uganda COMPLETE\t***\n",
      "\n",
      "2025-03-13 14:52:44,266 - INFO - Table MODEL_OUTPUT successfully written to /home/tony-ubuntu/anaconda3/envs/ssp_uganda/lib/python3.11/site-packages/sisepuede/out/sisepuede_run_2025-03-13T14;52;02.922357/sisepuede_run_2025-03-13T14;52;02.922357_output_database/MODEL_OUTPUT.csv.\n",
      "2025-03-13 14:52:44,271 - INFO - Table ATTRIBUTE_PRIMARY successfully written to /home/tony-ubuntu/anaconda3/envs/ssp_uganda/lib/python3.11/site-packages/sisepuede/out/sisepuede_run_2025-03-13T14;52;02.922357/sisepuede_run_2025-03-13T14;52;02.922357_output_database/ATTRIBUTE_PRIMARY.csv.\n",
      "2025-03-13 14:52:44,422 - INFO - Table MODEL_INPUT successfully written to /home/tony-ubuntu/anaconda3/envs/ssp_uganda/lib/python3.11/site-packages/sisepuede/out/sisepuede_run_2025-03-13T14;52;02.922357/sisepuede_run_2025-03-13T14;52;02.922357_output_database/MODEL_INPUT.csv.\n"
     ]
    },
    {
     "data": {
      "text/plain": [
       "{'uganda': [0, 69069, 70070]}"
      ]
     },
     "execution_count": 49,
     "metadata": {},
     "output_type": "execute_result"
    }
   ],
   "source": [
    "# This runs the model, make sure you edit key_stretegy with the strategy ids you want to execute include baseline (0)\n",
    "dict_scens = {\n",
    "    ssp.key_design: [0],\n",
    "    ssp.key_future: [0],\n",
    "    ssp.key_strategy: strategies_to_run,\n",
    "}\n",
    "\n",
    "ssp.project_scenarios(\n",
    "    dict_scens,\n",
    "    save_inputs = True,\n",
    "    include_electricity_in_energy = energy_model_flag\n",
    ")"
   ]
  },
  {
   "cell_type": "code",
   "execution_count": 50,
   "id": "5095a3bd-5f6e-44a5-bc79-23d947f40e59",
   "metadata": {},
   "outputs": [],
   "source": [
    "# df_run = ssp.generate_scenario_database_from_primary_key(0)\n",
    "# df_run = df_run.get(\"iran\")\n",
    "# df_run.to_csv(\"/Users/usuario/Desktop/iran_baselines_temp.csv\", encoding = \"UTF-8\", index = None, )"
   ]
  },
  {
   "cell_type": "code",
   "execution_count": 51,
   "id": "618f54b8-82f4-47e0-99a0-47b894039ccc",
   "metadata": {},
   "outputs": [],
   "source": [
    "# Read input and output files\n",
    "df_out = ssp.read_output(None)\n",
    "df_in = ssp.read_input(None)"
   ]
  },
  {
   "cell_type": "code",
   "execution_count": 52,
   "id": "6155f101",
   "metadata": {},
   "outputs": [
    {
     "data": {
      "text/plain": [
       "0      0.0\n",
       "1      0.0\n",
       "2      0.0\n",
       "3      0.0\n",
       "4      0.0\n",
       "      ... \n",
       "103    0.0\n",
       "104    0.0\n",
       "105    0.0\n",
       "106    0.0\n",
       "107    0.0\n",
       "Name: lndu_reallocation_factor, Length: 108, dtype: float64"
      ]
     },
     "execution_count": 52,
     "metadata": {},
     "output_type": "execute_result"
    }
   ],
   "source": [
    "df_in['lndu_reallocation_factor']"
   ]
  },
  {
   "cell_type": "code",
   "execution_count": 71,
   "id": "c8ff8064",
   "metadata": {},
   "outputs": [
    {
     "data": {
      "text/plain": [
       "0     0.0\n",
       "1     0.0\n",
       "2     0.0\n",
       "3     0.0\n",
       "4     0.0\n",
       "5     0.0\n",
       "6     0.0\n",
       "7     0.0\n",
       "8     0.0\n",
       "9     0.0\n",
       "10    0.0\n",
       "11    0.0\n",
       "12    0.0\n",
       "13    0.0\n",
       "14    0.0\n",
       "15    0.0\n",
       "16    0.0\n",
       "17    0.0\n",
       "18    0.0\n",
       "19    0.0\n",
       "20    0.0\n",
       "21    0.0\n",
       "22    0.0\n",
       "23    0.0\n",
       "24    0.0\n",
       "25    0.0\n",
       "26    0.0\n",
       "27    0.0\n",
       "28    0.0\n",
       "29    0.0\n",
       "30    0.0\n",
       "31    0.0\n",
       "32    0.0\n",
       "33    0.0\n",
       "34    0.0\n",
       "35    0.0\n",
       "Name: lndu_reallocation_factor, dtype: float64"
      ]
     },
     "execution_count": 71,
     "metadata": {},
     "output_type": "execute_result"
    }
   ],
   "source": [
    "df_in[df_in.primary_id == 0]['lndu_reallocation_factor']"
   ]
  },
  {
   "cell_type": "code",
   "execution_count": 54,
   "id": "75606a43",
   "metadata": {},
   "outputs": [
    {
     "data": {
      "image/png": "[encoded data removed]",
      "text/plain": [
       "<Figure size 1500x500 with 1 Axes>"
      ]
     },
     "metadata": {},
     "output_type": "display_data"
    }
   ],
   "source": [
    "areas = [ 'area_lndu_croplands',\n",
    "'area_lndu_forests_mangroves',\n",
    "'area_lndu_forests_primary',\n",
    "'area_lndu_forests_secondary',\n",
    "'area_lndu_grasslands',\n",
    "'area_lndu_other',\n",
    "'area_lndu_settlements',\n",
    "'area_lndu_wetlands']\n",
    "\n",
    "df_out_areas = df_out[df_out.primary_id == 0][areas]\n",
    "\n",
    "# Plotting areas trajectories in a line plot\n",
    "plt.figure(figsize=(15, 5))\n",
    "plt.plot(df_out_areas)\n",
    "plt.legend(areas)\n",
    "plt.title(\"Areas Trajectories\")\n",
    "plt.show()\n"
   ]
  },
  {
   "cell_type": "code",
   "execution_count": 55,
   "id": "61d9ec6c",
   "metadata": {},
   "outputs": [
    {
     "data": {
      "text/plain": [
       "['emission_co2e_c2f6_ippu_product_use_product_use_ods_other',\n",
       " 'emission_co2e_c2f6_ippu_production_chemicals',\n",
       " 'emission_co2e_c2f6_ippu_production_electronics',\n",
       " 'emission_co2e_c2f6_ippu_production_metals',\n",
       " 'emission_co2e_c2h3f3_ippu_product_use_product_use_ods_refrigeration',\n",
       " 'emission_co2e_c2h3f3_ippu_production_chemicals',\n",
       " 'emission_co2e_c2hf5_ippu_product_use_product_use_ods_other',\n",
       " 'emission_co2e_c2hf5_ippu_product_use_product_use_ods_refrigeration',\n",
       " 'emission_co2e_c2hf5_ippu_production_chemicals',\n",
       " 'emission_co2e_c3f8_ippu_production_chemicals',\n",
       " 'emission_co2e_c3f8_ippu_production_electronics',\n",
       " 'emission_co2e_c3h2f6_ippu_product_use_product_use_ods_other',\n",
       " 'emission_co2e_c3h2f6_ippu_product_use_product_use_ods_refrigeration',\n",
       " 'emission_co2e_c3h3f5_ippu_product_use_product_use_ods_other',\n",
       " 'emission_co2e_c3h3f5_ippu_product_use_product_use_ods_refrigeration',\n",
       " 'emission_co2e_c3hf7_ippu_product_use_product_use_ods_other',\n",
       " 'emission_co2e_c3hf7_ippu_product_use_product_use_ods_refrigeration',\n",
       " 'emission_co2e_c3hf7_ippu_production_chemicals',\n",
       " 'emission_co2e_c4f10_ippu_product_use_product_use_ods_other',\n",
       " 'emission_co2e_c4f10_ippu_production_chemicals',\n",
       " 'emission_co2e_c4f6_ippu_production_electronics',\n",
       " 'emission_co2e_c4h5f5_ippu_product_use_product_use_ods_other',\n",
       " 'emission_co2e_c4h5f5_ippu_production_chemicals',\n",
       " 'emission_co2e_c5f12_ippu_production_chemicals',\n",
       " 'emission_co2e_c5f8_ippu_production_electronics',\n",
       " 'emission_co2e_c5h2f10_ippu_product_use_product_use_ods_other',\n",
       " 'emission_co2e_c6f14_ippu_product_use_product_use_ods_other',\n",
       " 'emission_co2e_c6f14_ippu_production_chemicals',\n",
       " 'emission_co2e_cc4f8_ippu_production_chemicals',\n",
       " 'emission_co2e_cc4f8_ippu_production_electronics',\n",
       " 'emission_co2e_cf4_ippu_product_use_product_use_ods_other',\n",
       " 'emission_co2e_cf4_ippu_production_chemicals',\n",
       " 'emission_co2e_cf4_ippu_production_electronics',\n",
       " 'emission_co2e_cf4_ippu_production_metals',\n",
       " 'emission_co2e_ch2f2_ippu_product_use_product_use_ods_refrigeration',\n",
       " 'emission_co2e_ch2f2_ippu_production_chemicals',\n",
       " 'emission_co2e_ch2f2_ippu_production_electronics',\n",
       " 'emission_co2e_ch2fchf2_ippu_product_use_product_use_ods_other',\n",
       " 'emission_co2e_ch3cci2f_ippu_product_use_product_use_ods_other',\n",
       " 'emission_co2e_ch3ccif2_ippu_product_use_product_use_ods_other',\n",
       " 'emission_co2e_ch3chf2_ippu_product_use_product_use_ods_other',\n",
       " 'emission_co2e_ch3chf2_ippu_product_use_product_use_ods_refrigeration',\n",
       " 'emission_co2e_ch3chf2_ippu_production_chemicals',\n",
       " 'emission_co2e_ch3f_ippu_production_electronics',\n",
       " 'emission_co2e_ch4_agrc_anaerobicdom_rice',\n",
       " 'emission_co2e_ch4_agrc_biomass_burning',\n",
       " 'emission_co2e_ch4_ccsq_direct_air_capture',\n",
       " 'emission_co2e_ch4_frst_methane_mangroves',\n",
       " 'emission_co2e_ch4_frst_methane_primary',\n",
       " 'emission_co2e_ch4_frst_methane_secondary',\n",
       " 'emission_co2e_ch4_inen_agriculture_and_livestock',\n",
       " 'emission_co2e_ch4_inen_cement',\n",
       " 'emission_co2e_ch4_inen_chemicals',\n",
       " 'emission_co2e_ch4_inen_electronics',\n",
       " 'emission_co2e_ch4_inen_glass',\n",
       " 'emission_co2e_ch4_inen_lime_and_carbonite',\n",
       " 'emission_co2e_ch4_inen_metals',\n",
       " 'emission_co2e_ch4_inen_mining',\n",
       " 'emission_co2e_ch4_inen_other_product_manufacturing',\n",
       " 'emission_co2e_ch4_inen_paper',\n",
       " 'emission_co2e_ch4_inen_plastic',\n",
       " 'emission_co2e_ch4_inen_recycled_glass',\n",
       " 'emission_co2e_ch4_inen_recycled_metals',\n",
       " 'emission_co2e_ch4_inen_recycled_paper',\n",
       " 'emission_co2e_ch4_inen_recycled_plastic',\n",
       " 'emission_co2e_ch4_inen_recycled_rubber_and_leather',\n",
       " 'emission_co2e_ch4_inen_recycled_textiles',\n",
       " 'emission_co2e_ch4_inen_recycled_wood',\n",
       " 'emission_co2e_ch4_inen_rubber_and_leather',\n",
       " 'emission_co2e_ch4_inen_textiles',\n",
       " 'emission_co2e_ch4_ippu_production_chemicals',\n",
       " 'emission_co2e_ch4_ippu_production_metals',\n",
       " 'emission_co2e_ch4_ippu_production_paper',\n",
       " 'emission_co2e_ch4_ippu_production_plastic',\n",
       " 'emission_co2e_ch4_lndu_wetlands',\n",
       " 'emission_co2e_ch4_lsmm_anaerobic_digester',\n",
       " 'emission_co2e_ch4_lsmm_anaerobic_lagoon',\n",
       " 'emission_co2e_ch4_lsmm_composting',\n",
       " 'emission_co2e_ch4_lsmm_daily_spread',\n",
       " 'emission_co2e_ch4_lsmm_deep_bedding',\n",
       " 'emission_co2e_ch4_lsmm_dry_lot',\n",
       " 'emission_co2e_ch4_lsmm_incineration',\n",
       " 'emission_co2e_ch4_lsmm_liquid_slurry',\n",
       " 'emission_co2e_ch4_lsmm_paddock_pasture_range',\n",
       " 'emission_co2e_ch4_lsmm_poultry_manure',\n",
       " 'emission_co2e_ch4_lsmm_storage_solid',\n",
       " 'emission_co2e_ch4_lvst_entferm_buffalo',\n",
       " 'emission_co2e_ch4_lvst_entferm_cattle_dairy',\n",
       " 'emission_co2e_ch4_lvst_entferm_cattle_nondairy',\n",
       " 'emission_co2e_ch4_lvst_entferm_chickens',\n",
       " 'emission_co2e_ch4_lvst_entferm_goats',\n",
       " 'emission_co2e_ch4_lvst_entferm_horses',\n",
       " 'emission_co2e_ch4_lvst_entferm_mules',\n",
       " 'emission_co2e_ch4_lvst_entferm_pigs',\n",
       " 'emission_co2e_ch4_lvst_entferm_sheep',\n",
       " 'emission_co2e_ch4_scoe_commercial_municipal',\n",
       " 'emission_co2e_ch4_scoe_other_se',\n",
       " 'emission_co2e_ch4_scoe_residential',\n",
       " 'emission_co2e_ch4_trns_aviation',\n",
       " 'emission_co2e_ch4_trns_human_powered',\n",
       " 'emission_co2e_ch4_trns_powered_bikes',\n",
       " 'emission_co2e_ch4_trns_public',\n",
       " 'emission_co2e_ch4_trns_rail_freight',\n",
       " 'emission_co2e_ch4_trns_rail_passenger',\n",
       " 'emission_co2e_ch4_trns_road_heavy_freight',\n",
       " 'emission_co2e_ch4_trns_road_heavy_regional',\n",
       " 'emission_co2e_ch4_trns_road_light',\n",
       " 'emission_co2e_ch4_trns_water_borne',\n",
       " 'emission_co2e_ch4_trww_treated_advanced_aerobic_treatment',\n",
       " 'emission_co2e_ch4_trww_treated_advanced_anaerobic_treatment',\n",
       " 'emission_co2e_ch4_trww_treated_latrine_improved_treatment',\n",
       " 'emission_co2e_ch4_trww_treated_latrine_unimproved_treatment',\n",
       " 'emission_co2e_ch4_trww_treated_primary_treatment',\n",
       " 'emission_co2e_ch4_trww_treated_secondary_aerobic_treatment',\n",
       " 'emission_co2e_ch4_trww_treated_secondary_anaerobic_treatment',\n",
       " 'emission_co2e_ch4_trww_treated_septic_treatment',\n",
       " 'emission_co2e_ch4_trww_untreated_no_sewerage_treatment',\n",
       " 'emission_co2e_ch4_trww_untreated_with_sewerage_treatment',\n",
       " 'emission_co2e_ch4_waso_biogas_food',\n",
       " 'emission_co2e_ch4_waso_biogas_sludge',\n",
       " 'emission_co2e_ch4_waso_biogas_yard',\n",
       " 'emission_co2e_ch4_waso_compost_food',\n",
       " 'emission_co2e_ch4_waso_compost_sludge',\n",
       " 'emission_co2e_ch4_waso_compost_yard',\n",
       " 'emission_co2e_ch4_waso_incineration',\n",
       " 'emission_co2e_ch4_waso_landfilled_chemical_industrial',\n",
       " 'emission_co2e_ch4_waso_landfilled_food',\n",
       " 'emission_co2e_ch4_waso_landfilled_glass',\n",
       " 'emission_co2e_ch4_waso_landfilled_metal',\n",
       " 'emission_co2e_ch4_waso_landfilled_nappies',\n",
       " 'emission_co2e_ch4_waso_landfilled_other',\n",
       " 'emission_co2e_ch4_waso_landfilled_paper',\n",
       " 'emission_co2e_ch4_waso_landfilled_plastic',\n",
       " 'emission_co2e_ch4_waso_landfilled_rubber_leather',\n",
       " 'emission_co2e_ch4_waso_landfilled_sludge',\n",
       " 'emission_co2e_ch4_waso_landfilled_textiles',\n",
       " 'emission_co2e_ch4_waso_landfilled_wood',\n",
       " 'emission_co2e_ch4_waso_landfilled_yard',\n",
       " 'emission_co2e_ch4_waso_open_dump_chemical_industrial',\n",
       " 'emission_co2e_ch4_waso_open_dump_food',\n",
       " 'emission_co2e_ch4_waso_open_dump_glass',\n",
       " 'emission_co2e_ch4_waso_open_dump_metal',\n",
       " 'emission_co2e_ch4_waso_open_dump_nappies',\n",
       " 'emission_co2e_ch4_waso_open_dump_other',\n",
       " 'emission_co2e_ch4_waso_open_dump_paper',\n",
       " 'emission_co2e_ch4_waso_open_dump_plastic',\n",
       " 'emission_co2e_ch4_waso_open_dump_rubber_leather',\n",
       " 'emission_co2e_ch4_waso_open_dump_sludge',\n",
       " 'emission_co2e_ch4_waso_open_dump_textiles',\n",
       " 'emission_co2e_ch4_waso_open_dump_wood',\n",
       " 'emission_co2e_ch4_waso_open_dump_yard',\n",
       " 'emission_co2e_chf2cf3_ippu_product_use_product_use_ods_other',\n",
       " 'emission_co2e_chf2cf3_ippu_product_use_product_use_ods_refrigeration',\n",
       " 'emission_co2e_chf2cf3_ippu_production_chemicals',\n",
       " 'emission_co2e_chf2chf2_ippu_product_use_product_use_ods_other',\n",
       " 'emission_co2e_chf3_ippu_product_use_product_use_ods_other',\n",
       " 'emission_co2e_chf3_ippu_product_use_product_use_ods_refrigeration',\n",
       " 'emission_co2e_chf3_ippu_production_chemicals',\n",
       " 'emission_co2e_chf3_ippu_production_electronics',\n",
       " 'emission_co2e_co2_agrc_biomass_bevs_and_spices',\n",
       " 'emission_co2e_co2_agrc_biomass_fruits',\n",
       " 'emission_co2e_co2_agrc_biomass_nuts',\n",
       " 'emission_co2e_co2_agrc_biomass_other_woody_perennial',\n",
       " 'emission_co2e_co2_agrc_soil_carbon_organic_soils',\n",
       " 'emission_co2e_co2_ccsq_direct_air_capture',\n",
       " 'emission_co2e_co2_frst_forest_fires',\n",
       " 'emission_co2e_co2_frst_harvested_wood_products',\n",
       " 'emission_co2e_co2_frst_sequestration_mangroves',\n",
       " 'emission_co2e_co2_frst_sequestration_primary',\n",
       " 'emission_co2e_co2_frst_sequestration_secondary',\n",
       " 'emission_co2e_co2_inen_agriculture_and_livestock',\n",
       " 'emission_co2e_co2_inen_cement',\n",
       " 'emission_co2e_co2_inen_chemicals',\n",
       " 'emission_co2e_co2_inen_electronics',\n",
       " 'emission_co2e_co2_inen_glass',\n",
       " 'emission_co2e_co2_inen_lime_and_carbonite',\n",
       " 'emission_co2e_co2_inen_metals',\n",
       " 'emission_co2e_co2_inen_mining',\n",
       " 'emission_co2e_co2_inen_other_product_manufacturing',\n",
       " 'emission_co2e_co2_inen_paper',\n",
       " 'emission_co2e_co2_inen_plastic',\n",
       " 'emission_co2e_co2_inen_recycled_glass',\n",
       " 'emission_co2e_co2_inen_recycled_metals',\n",
       " 'emission_co2e_co2_inen_recycled_paper',\n",
       " 'emission_co2e_co2_inen_recycled_plastic',\n",
       " 'emission_co2e_co2_inen_recycled_rubber_and_leather',\n",
       " 'emission_co2e_co2_inen_recycled_textiles',\n",
       " 'emission_co2e_co2_inen_recycled_wood',\n",
       " 'emission_co2e_co2_inen_rubber_and_leather',\n",
       " 'emission_co2e_co2_inen_textiles',\n",
       " 'emission_co2e_co2_ippu_product_use_product_use_lubricants',\n",
       " 'emission_co2e_co2_ippu_product_use_product_use_other',\n",
       " 'emission_co2e_co2_ippu_product_use_product_use_paraffin_wax',\n",
       " 'emission_co2e_co2_ippu_production_cement',\n",
       " 'emission_co2e_co2_ippu_production_chemicals',\n",
       " 'emission_co2e_co2_ippu_production_glass',\n",
       " 'emission_co2e_co2_ippu_production_lime_and_carbonite',\n",
       " 'emission_co2e_co2_ippu_production_metals',\n",
       " 'emission_co2e_co2_ippu_production_paper',\n",
       " 'emission_co2e_co2_ippu_production_plastic',\n",
       " 'emission_co2e_co2_ippu_production_product_use_lubricants',\n",
       " 'emission_co2e_co2_ippu_production_product_use_paraffin_wax',\n",
       " 'emission_co2e_co2_lndu_conversion_away_croplands',\n",
       " 'emission_co2e_co2_lndu_conversion_away_forests_mangroves',\n",
       " 'emission_co2e_co2_lndu_conversion_away_forests_primary',\n",
       " 'emission_co2e_co2_lndu_conversion_away_forests_secondary',\n",
       " 'emission_co2e_co2_lndu_conversion_away_grasslands',\n",
       " 'emission_co2e_co2_lndu_conversion_away_other',\n",
       " 'emission_co2e_co2_lndu_conversion_away_settlements',\n",
       " 'emission_co2e_co2_lndu_conversion_away_wetlands',\n",
       " 'emission_co2e_co2_lndu_conversion_croplands_to_croplands',\n",
       " 'emission_co2e_co2_lndu_conversion_croplands_to_forests_mangroves',\n",
       " 'emission_co2e_co2_lndu_conversion_croplands_to_forests_primary',\n",
       " 'emission_co2e_co2_lndu_conversion_croplands_to_forests_secondary',\n",
       " 'emission_co2e_co2_lndu_conversion_croplands_to_grasslands',\n",
       " 'emission_co2e_co2_lndu_conversion_croplands_to_other',\n",
       " 'emission_co2e_co2_lndu_conversion_croplands_to_settlements',\n",
       " 'emission_co2e_co2_lndu_conversion_croplands_to_wetlands',\n",
       " 'emission_co2e_co2_lndu_conversion_forests_mangroves_to_croplands',\n",
       " 'emission_co2e_co2_lndu_conversion_forests_mangroves_to_forests_mangroves',\n",
       " 'emission_co2e_co2_lndu_conversion_forests_mangroves_to_forests_primary',\n",
       " 'emission_co2e_co2_lndu_conversion_forests_mangroves_to_forests_secondary',\n",
       " 'emission_co2e_co2_lndu_conversion_forests_mangroves_to_grasslands',\n",
       " 'emission_co2e_co2_lndu_conversion_forests_mangroves_to_other',\n",
       " 'emission_co2e_co2_lndu_conversion_forests_mangroves_to_settlements',\n",
       " 'emission_co2e_co2_lndu_conversion_forests_mangroves_to_wetlands',\n",
       " 'emission_co2e_co2_lndu_conversion_forests_primary_to_croplands',\n",
       " 'emission_co2e_co2_lndu_conversion_forests_primary_to_forests_mangroves',\n",
       " 'emission_co2e_co2_lndu_conversion_forests_primary_to_forests_primary',\n",
       " 'emission_co2e_co2_lndu_conversion_forests_primary_to_forests_secondary',\n",
       " 'emission_co2e_co2_lndu_conversion_forests_primary_to_grasslands',\n",
       " 'emission_co2e_co2_lndu_conversion_forests_primary_to_other',\n",
       " 'emission_co2e_co2_lndu_conversion_forests_primary_to_settlements',\n",
       " 'emission_co2e_co2_lndu_conversion_forests_primary_to_wetlands',\n",
       " 'emission_co2e_co2_lndu_conversion_forests_secondary_to_croplands',\n",
       " 'emission_co2e_co2_lndu_conversion_forests_secondary_to_forests_mangroves',\n",
       " 'emission_co2e_co2_lndu_conversion_forests_secondary_to_forests_primary',\n",
       " 'emission_co2e_co2_lndu_conversion_forests_secondary_to_forests_secondary',\n",
       " 'emission_co2e_co2_lndu_conversion_forests_secondary_to_grasslands',\n",
       " 'emission_co2e_co2_lndu_conversion_forests_secondary_to_other',\n",
       " 'emission_co2e_co2_lndu_conversion_forests_secondary_to_settlements',\n",
       " 'emission_co2e_co2_lndu_conversion_forests_secondary_to_wetlands',\n",
       " 'emission_co2e_co2_lndu_conversion_grasslands_to_croplands',\n",
       " 'emission_co2e_co2_lndu_conversion_grasslands_to_forests_mangroves',\n",
       " 'emission_co2e_co2_lndu_conversion_grasslands_to_forests_primary',\n",
       " 'emission_co2e_co2_lndu_conversion_grasslands_to_forests_secondary',\n",
       " 'emission_co2e_co2_lndu_conversion_grasslands_to_grasslands',\n",
       " 'emission_co2e_co2_lndu_conversion_grasslands_to_other',\n",
       " 'emission_co2e_co2_lndu_conversion_grasslands_to_settlements',\n",
       " 'emission_co2e_co2_lndu_conversion_grasslands_to_wetlands',\n",
       " 'emission_co2e_co2_lndu_conversion_other_to_croplands',\n",
       " 'emission_co2e_co2_lndu_conversion_other_to_forests_mangroves',\n",
       " 'emission_co2e_co2_lndu_conversion_other_to_forests_primary',\n",
       " 'emission_co2e_co2_lndu_conversion_other_to_forests_secondary',\n",
       " 'emission_co2e_co2_lndu_conversion_other_to_grasslands',\n",
       " 'emission_co2e_co2_lndu_conversion_other_to_other',\n",
       " 'emission_co2e_co2_lndu_conversion_other_to_settlements',\n",
       " 'emission_co2e_co2_lndu_conversion_other_to_wetlands',\n",
       " 'emission_co2e_co2_lndu_conversion_settlements_to_croplands',\n",
       " 'emission_co2e_co2_lndu_conversion_settlements_to_forests_mangroves',\n",
       " 'emission_co2e_co2_lndu_conversion_settlements_to_forests_primary',\n",
       " 'emission_co2e_co2_lndu_conversion_settlements_to_forests_secondary',\n",
       " 'emission_co2e_co2_lndu_conversion_settlements_to_grasslands',\n",
       " 'emission_co2e_co2_lndu_conversion_settlements_to_other',\n",
       " 'emission_co2e_co2_lndu_conversion_settlements_to_settlements',\n",
       " 'emission_co2e_co2_lndu_conversion_settlements_to_wetlands',\n",
       " 'emission_co2e_co2_lndu_conversion_wetlands_to_croplands',\n",
       " 'emission_co2e_co2_lndu_conversion_wetlands_to_forests_mangroves',\n",
       " 'emission_co2e_co2_lndu_conversion_wetlands_to_forests_primary',\n",
       " 'emission_co2e_co2_lndu_conversion_wetlands_to_forests_secondary',\n",
       " 'emission_co2e_co2_lndu_conversion_wetlands_to_grasslands',\n",
       " 'emission_co2e_co2_lndu_conversion_wetlands_to_other',\n",
       " 'emission_co2e_co2_lndu_conversion_wetlands_to_settlements',\n",
       " 'emission_co2e_co2_lndu_conversion_wetlands_to_wetlands',\n",
       " 'emission_co2e_co2_scoe_commercial_municipal',\n",
       " 'emission_co2e_co2_scoe_other_se',\n",
       " 'emission_co2e_co2_scoe_residential',\n",
       " 'emission_co2e_co2_soil_lime_use',\n",
       " 'emission_co2e_co2_soil_soc_mineral_soils',\n",
       " 'emission_co2e_co2_soil_urea_use',\n",
       " 'emission_co2e_co2_trns_aviation',\n",
       " 'emission_co2e_co2_trns_human_powered',\n",
       " 'emission_co2e_co2_trns_powered_bikes',\n",
       " 'emission_co2e_co2_trns_public',\n",
       " 'emission_co2e_co2_trns_rail_freight',\n",
       " 'emission_co2e_co2_trns_rail_passenger',\n",
       " 'emission_co2e_co2_trns_road_heavy_freight',\n",
       " 'emission_co2e_co2_trns_road_heavy_regional',\n",
       " 'emission_co2e_co2_trns_road_light',\n",
       " 'emission_co2e_co2_trns_water_borne',\n",
       " 'emission_co2e_co2_waso_incineration',\n",
       " 'emission_co2e_hfcs_ippu_product_use_product_use_ods_other',\n",
       " 'emission_co2e_hfcs_ippu_product_use_product_use_ods_refrigeration',\n",
       " 'emission_co2e_hfcs_ippu_production_chemicals',\n",
       " 'emission_co2e_hfcs_ippu_production_electronics',\n",
       " 'emission_co2e_hfcs_ippu_production_metals',\n",
       " 'emission_co2e_n2o_agrc_biomass_burning',\n",
       " 'emission_co2e_n2o_agrc_crop_residues',\n",
       " 'emission_co2e_n2o_ccsq_direct_air_capture',\n",
       " 'emission_co2e_n2o_inen_agriculture_and_livestock',\n",
       " 'emission_co2e_n2o_inen_cement',\n",
       " 'emission_co2e_n2o_inen_chemicals',\n",
       " 'emission_co2e_n2o_inen_electronics',\n",
       " 'emission_co2e_n2o_inen_glass',\n",
       " 'emission_co2e_n2o_inen_lime_and_carbonite',\n",
       " 'emission_co2e_n2o_inen_metals',\n",
       " 'emission_co2e_n2o_inen_mining',\n",
       " 'emission_co2e_n2o_inen_other_product_manufacturing',\n",
       " 'emission_co2e_n2o_inen_paper',\n",
       " 'emission_co2e_n2o_inen_plastic',\n",
       " 'emission_co2e_n2o_inen_recycled_glass',\n",
       " 'emission_co2e_n2o_inen_recycled_metals',\n",
       " 'emission_co2e_n2o_inen_recycled_paper',\n",
       " 'emission_co2e_n2o_inen_recycled_plastic',\n",
       " 'emission_co2e_n2o_inen_recycled_rubber_and_leather',\n",
       " 'emission_co2e_n2o_inen_recycled_textiles',\n",
       " 'emission_co2e_n2o_inen_recycled_wood',\n",
       " 'emission_co2e_n2o_inen_rubber_and_leather',\n",
       " 'emission_co2e_n2o_inen_textiles',\n",
       " 'emission_co2e_n2o_ippu_production_chemicals',\n",
       " 'emission_co2e_n2o_ippu_production_other_product_manufacturing',\n",
       " 'emission_co2e_n2o_ippu_production_paper',\n",
       " 'emission_co2e_n2o_ippu_production_plastic',\n",
       " 'emission_co2e_n2o_lsmm_anaerobic_digester',\n",
       " 'emission_co2e_n2o_lsmm_anaerobic_lagoon',\n",
       " 'emission_co2e_n2o_lsmm_composting',\n",
       " 'emission_co2e_n2o_lsmm_daily_spread',\n",
       " 'emission_co2e_n2o_lsmm_deep_bedding',\n",
       " 'emission_co2e_n2o_lsmm_dry_lot',\n",
       " 'emission_co2e_n2o_lsmm_incineration',\n",
       " 'emission_co2e_n2o_lsmm_liquid_slurry',\n",
       " 'emission_co2e_n2o_lsmm_paddock_pasture_range',\n",
       " 'emission_co2e_n2o_lsmm_poultry_manure',\n",
       " 'emission_co2e_n2o_lsmm_storage_solid',\n",
       " 'emission_co2e_n2o_scoe_commercial_municipal',\n",
       " 'emission_co2e_n2o_scoe_other_se',\n",
       " 'emission_co2e_n2o_scoe_residential',\n",
       " 'emission_co2e_n2o_soil_fertilizer',\n",
       " 'emission_co2e_n2o_soil_mineral_soils',\n",
       " 'emission_co2e_n2o_soil_organic_soils',\n",
       " 'emission_co2e_n2o_soil_paddock_pasture_range',\n",
       " 'emission_co2e_n2o_trns_aviation',\n",
       " 'emission_co2e_n2o_trns_human_powered',\n",
       " 'emission_co2e_n2o_trns_powered_bikes',\n",
       " 'emission_co2e_n2o_trns_public',\n",
       " 'emission_co2e_n2o_trns_rail_freight',\n",
       " 'emission_co2e_n2o_trns_rail_passenger',\n",
       " 'emission_co2e_n2o_trns_road_heavy_freight',\n",
       " 'emission_co2e_n2o_trns_road_heavy_regional',\n",
       " 'emission_co2e_n2o_trns_road_light',\n",
       " 'emission_co2e_n2o_trns_water_borne',\n",
       " 'emission_co2e_n2o_trww_treated_advanced_aerobic_effluent',\n",
       " 'emission_co2e_n2o_trww_treated_advanced_aerobic_treatment',\n",
       " 'emission_co2e_n2o_trww_treated_advanced_anaerobic_effluent',\n",
       " 'emission_co2e_n2o_trww_treated_advanced_anaerobic_treatment',\n",
       " 'emission_co2e_n2o_trww_treated_latrine_improved_effluent',\n",
       " 'emission_co2e_n2o_trww_treated_latrine_improved_treatment',\n",
       " 'emission_co2e_n2o_trww_treated_latrine_unimproved_effluent',\n",
       " 'emission_co2e_n2o_trww_treated_latrine_unimproved_treatment',\n",
       " 'emission_co2e_n2o_trww_treated_primary_effluent',\n",
       " 'emission_co2e_n2o_trww_treated_primary_treatment',\n",
       " 'emission_co2e_n2o_trww_treated_secondary_aerobic_effluent',\n",
       " 'emission_co2e_n2o_trww_treated_secondary_aerobic_treatment',\n",
       " 'emission_co2e_n2o_trww_treated_secondary_anaerobic_effluent',\n",
       " 'emission_co2e_n2o_trww_treated_secondary_anaerobic_treatment',\n",
       " 'emission_co2e_n2o_trww_treated_septic_effluent',\n",
       " 'emission_co2e_n2o_trww_treated_septic_treatment',\n",
       " 'emission_co2e_n2o_trww_untreated_no_sewerage_effluent',\n",
       " 'emission_co2e_n2o_trww_untreated_no_sewerage_treatment',\n",
       " 'emission_co2e_n2o_trww_untreated_with_sewerage_effluent',\n",
       " 'emission_co2e_n2o_trww_untreated_with_sewerage_treatment',\n",
       " 'emission_co2e_n2o_waso_compost_food',\n",
       " 'emission_co2e_n2o_waso_compost_sludge',\n",
       " 'emission_co2e_n2o_waso_compost_yard',\n",
       " 'emission_co2e_n2o_waso_incineration',\n",
       " 'emission_co2e_nf3_ippu_production_chemicals',\n",
       " 'emission_co2e_nf3_ippu_production_electronics',\n",
       " 'emission_co2e_other_fcs_ippu_product_use_product_use_ods_other',\n",
       " 'emission_co2e_other_fcs_ippu_production_chemicals',\n",
       " 'emission_co2e_other_fcs_ippu_production_electronics',\n",
       " 'emission_co2e_pfcs_ippu_product_use_product_use_ods_other',\n",
       " 'emission_co2e_pfcs_ippu_production_chemicals',\n",
       " 'emission_co2e_pfcs_ippu_production_electronics',\n",
       " 'emission_co2e_pfcs_ippu_production_other_product_manufacturing',\n",
       " 'emission_co2e_sf6_ippu_production_chemicals',\n",
       " 'emission_co2e_sf6_ippu_production_electronics',\n",
       " 'emission_co2e_sf6_ippu_production_metals',\n",
       " 'emission_co2e_sf6_ippu_production_other_product_manufacturing',\n",
       " 'emission_co2e_subsector_total_agrc',\n",
       " 'emission_co2e_subsector_total_ccsq',\n",
       " 'emission_co2e_subsector_total_frst',\n",
       " 'emission_co2e_subsector_total_inen',\n",
       " 'emission_co2e_subsector_total_ippu',\n",
       " 'emission_co2e_subsector_total_lndu',\n",
       " 'emission_co2e_subsector_total_lsmm',\n",
       " 'emission_co2e_subsector_total_lvst',\n",
       " 'emission_co2e_subsector_total_scoe',\n",
       " 'emission_co2e_subsector_total_soil',\n",
       " 'emission_co2e_subsector_total_trns',\n",
       " 'emission_co2e_subsector_total_trww',\n",
       " 'emission_co2e_subsector_total_waso']"
      ]
     },
     "execution_count": 55,
     "metadata": {},
     "output_type": "execute_result"
    }
   ],
   "source": [
    "[col for col in df_out.columns if 'emission' in col]"
   ]
  },
  {
   "cell_type": "code",
   "execution_count": 56,
   "id": "a3bff27a",
   "metadata": {},
   "outputs": [
    {
     "data": {
      "image/png": "[encoded data removed]",
      "text/plain": [
       "<Figure size 1500x500 with 1 Axes>"
      ]
     },
     "metadata": {},
     "output_type": "display_data"
    }
   ],
   "source": [
    "ag_vars = ['emission_co2e_co2_agrc_biomass_bevs_and_spices',\n",
    " 'emission_co2e_co2_agrc_biomass_fruits',\n",
    " 'emission_co2e_co2_agrc_biomass_nuts',\n",
    " 'emission_co2e_co2_agrc_biomass_other_woody_perennial',\n",
    " 'emission_co2e_co2_agrc_soil_carbon_organic_soils',\n",
    " 'emission_co2e_ch4_agrc_anaerobicdom_rice',\n",
    " 'emission_co2e_ch4_agrc_biomass_burning',\n",
    " 'emission_co2e_n2o_agrc_biomass_burning',\n",
    " 'emission_co2e_n2o_agrc_crop_residues', \n",
    " 'primary_id']\n",
    "\n",
    "crops_output = df_out[ag_vars]\n",
    "\n",
    "#plotting crops emissions\n",
    "plt.figure(figsize=(15, 5))\n",
    "plt.plot(crops_output[crops_output.primary_id == 70070][ag_vars[:-1]])\n",
    "plt.legend(ag_vars[:-1])\n",
    "plt.title(\"Crops Emissions\")\n",
    "plt.show()\n"
   ]
  },
  {
   "cell_type": "markdown",
   "id": "ae9ab8fe-ce54-40a0-8cee-3cb9149b6b10",
   "metadata": {},
   "source": [
    "# option to pass `df_out` back to data_modifications\n",
    "- do this if the outputs are needed to rescale input demand values to match IEA data"
   ]
  },
  {
   "cell_type": "code",
   "execution_count": 57,
   "id": "e1735f20-f4be-46e7-8d01-9df2774991b0",
   "metadata": {},
   "outputs": [],
   "source": [
    "# (\n",
    "#     df_out\n",
    "#     .to_csv(\n",
    "#         dir_data.joinpath(\"sisepuede_outputs_iran_preiea.csv\"),\n",
    "#         index = None,\n",
    "#         encoding = \"UTF-8\",\n",
    "#     )\n",
    "# )"
   ]
  },
  {
   "cell_type": "code",
   "execution_count": 58,
   "id": "99c23348-43e8-4b9d-bd5c-d0610315d2f9",
   "metadata": {},
   "outputs": [
    {
     "data": {
      "image/png": "[encoded data removed]",
      "text/plain": [
       "<Figure size 1800x800 with 1 Axes>"
      ]
     },
     "metadata": {},
     "output_type": "display_data"
    }
   ],
   "source": [
    "\n",
    "fig, ax = plt.subplots(figsize = (18, 8))\n",
    "ax.set_xlabel(\"Time Period\")\n",
    "ax.set_ylabel(\"MT Emissions CO2e \")\n",
    "\n",
    "df_plot = df_out[\n",
    "    df_out[ssp.key_primary].isin([70070])\n",
    "]\n",
    "\n",
    "\n",
    "fields = matt.get_all_subsector_emission_total_fields()#[x for x in df_out.columns if (x.startswith(\"emission_co2e_subsector_total\"))]\n",
    "dict_format = dict(\n",
    "    (k, {\"color\": v}) for (k, v) in\n",
    "    matt.get_subsector_color_map().items()\n",
    ")\n",
    "\n",
    "fig, ax = spu.plot_stack(\n",
    "    df_plot,\n",
    "    fields,\n",
    "    dict_formatting = dict_format,\n",
    "    field_x = \"time_period\",\n",
    "    figtuple = (fig, ax),\n",
    ")\n"
   ]
  },
  {
   "cell_type": "markdown",
   "id": "5bf46be0-6ab4-4731-b922-eb21eeefef7b",
   "metadata": {},
   "source": [
    "# Export Wide File (Last Mandatory Step)"
   ]
  },
  {
   "cell_type": "code",
   "execution_count": 59,
   "id": "f8ac388d-9ff2-45fc-a49a-ad5af38a0b07",
   "metadata": {},
   "outputs": [],
   "source": [
    "df_out = ssp.read_output(None)\n",
    "df_in = ssp.read_input(None)\n",
    "\n",
    "\n",
    "all_primaries = sorted(list(df_out[ssp.key_primary].unique()))\n",
    "\n",
    "# build if unable to simply read the data frame\n",
    "if df_in is None:\n",
    "    df_in = []\n",
    "     \n",
    "    for region in ssp.regions:\n",
    "        for primary in all_primaries: \n",
    "            df_in_filt = ssp.generate_scenario_database_from_primary_key(primary)\n",
    "            df_in.append(df_in_filt.get(region))\n",
    "    \n",
    "    df_in = pd.concat(df_in, axis = 0).reset_index(drop = True)\n",
    "\n",
    "\n",
    "\n",
    "\n",
    "df_export = pd.merge(\n",
    "    df_out,\n",
    "    df_in,\n",
    "    how = \"left\",\n",
    ")\n",
    "\n",
    "\n",
    "\n",
    "# check output directory \n",
    "dir_pkg = os.path.join(\n",
    "    ssp.file_struct.dir_out, \n",
    "    f\"sisepuede_summary_results_run_{ssp.id_fs_safe}\"\n",
    ")\n",
    "os.makedirs(dir_pkg) if not os.path.exists(dir_pkg) else None\n",
    "\n",
    "\n",
    "for tab in [\"ATTRIBUTE_STRATEGY\"]:\n",
    "    table_df = ssp.database.db.read_table(tab)\n",
    "    if table_df is not None:\n",
    "        table_df.to_csv(\n",
    "            os.path.join(dir_pkg, f\"{tab}.csv\"),\n",
    "            index=None,\n",
    "            encoding=\"UTF-8\"\n",
    "        )\n",
    "    else:\n",
    "        print(f\"Warning: Table {tab} returned None.\")\n",
    "\n",
    "\n",
    "df_primary = (\n",
    "    ssp\n",
    "    .odpt_primary\n",
    "    .get_indexing_dataframe(\n",
    "        sorted(list(df_out[ssp.key_primary].unique()))\n",
    "    )\n",
    ")\n",
    "    \n",
    "df_primary.to_csv(\n",
    "    os.path.join(dir_pkg, f\"ATTRIBUTE_PRIMARY.csv\"),\n",
    "    index = None,\n",
    "    encoding = \"UTF-8\"\n",
    ")\n",
    "\n",
    "df_export.to_csv(\n",
    "    os.path.join(dir_pkg, f\"sisepuede_results_{ssp.id_fs_safe}_WIDE_INPUTS_OUTPUTS.csv\"),\n",
    "    index = None,\n",
    "    encoding = \"UTF-8\"\n",
    ")"
   ]
  },
  {
   "cell_type": "code",
   "execution_count": 60,
   "id": "4bc34b5e",
   "metadata": {},
   "outputs": [
    {
     "data": {
      "text/plain": [
       "'/home/tony-ubuntu/anaconda3/envs/ssp_uganda/lib/python3.11/site-packages/sisepuede/out'"
      ]
     },
     "execution_count": 60,
     "metadata": {},
     "output_type": "execute_result"
    }
   ],
   "source": [
    "# Getting the directory where the outputs are stored\n",
    "ssp.file_struct.dir_out"
   ]
  },
  {
   "cell_type": "markdown",
   "id": "f488aa07",
   "metadata": {},
   "source": [
    "## Some Optional Plotting"
   ]
  },
  {
   "cell_type": "code",
   "execution_count": 61,
   "id": "291e485f-934d-4c89-ad51-b974fa59569a",
   "metadata": {},
   "outputs": [],
   "source": [
    "# primary_id = 0\n",
    "\n",
    "# df_prim = df_out[\n",
    "#     df_out[\n",
    "#         ssp.key_primary\n",
    "#     ]\n",
    "#     .isin([primary_id])\n",
    "# ]\n",
    "\n",
    "# df_in_cur = df_in[\n",
    "#     df_in[\n",
    "#         ssp.key_primary\n",
    "#     ]\n",
    "#     .isin([primary_id])\n",
    "# ]\n",
    "\n",
    "\n",
    "# fields_plot = [\n",
    "#     x for x in df_prim.columns\n",
    "#     if \"investment\" in x\n",
    "#     and df_prim[x].max() > 0\n",
    "# ]\n",
    "# (\n",
    "#     df_prim[fields_plot]\n",
    "#     .plot(\n",
    "#         legend = True,\n",
    "#     )\n",
    "# )\n",
    "\n",
    "\n"
   ]
  },
  {
   "cell_type": "code",
   "execution_count": 62,
   "id": "49f7752e-30f0-4b99-89b9-0371a4aff716",
   "metadata": {},
   "outputs": [],
   "source": [
    "\n",
    "\n",
    "# fig, ax = plt.subplots(figsize = (15, 10))\n",
    "# df_resid = matt.extract_model_variable(\n",
    "#     df_in_cur,\n",
    "#     \"NemoMod ResidualCapacity\"\n",
    "# )\n",
    "# (\n",
    "#     df_resid\n",
    "#     .plot\n",
    "#     .area(\n",
    "#         ax = ax\n",
    "#     )\n",
    "# )"
   ]
  },
  {
   "cell_type": "code",
   "execution_count": null,
   "id": "24701f5e",
   "metadata": {},
   "outputs": [],
   "source": []
  },
  {
   "cell_type": "code",
   "execution_count": 63,
   "id": "d452d86c-807e-4411-9860-b2cdb2d86ac9",
   "metadata": {
    "collapsed": true,
    "jupyter": {
     "outputs_hidden": true
    }
   },
   "outputs": [],
   "source": [
    "# df_resid"
   ]
  },
  {
   "cell_type": "code",
   "execution_count": 64,
   "id": "20ef7dca-858b-47e7-b627-b6131a182b7d",
   "metadata": {},
   "outputs": [],
   "source": [
    "# [x for x in df_out.columns if \"capacity\" in x]"
   ]
  },
  {
   "cell_type": "code",
   "execution_count": 65,
   "id": "cb665a26-5095-4029-ad21-afcffe5af933",
   "metadata": {
    "collapsed": true,
    "jupyter": {
     "outputs_hidden": true
    }
   },
   "outputs": [],
   "source": [
    "# ssp.model_attributes.configuration.dict_config\n"
   ]
  },
  {
   "cell_type": "code",
   "execution_count": 66,
   "id": "54bb6790-24b5-4314-b0c7-18ddc8573a41",
   "metadata": {},
   "outputs": [],
   "source": [
    "# modvar = matt.get_variable(\"NemoMod Generation Capacity\")\n",
    "# modvar.get_from_dataframe(df_prim).head()"
   ]
  },
  {
   "cell_type": "code",
   "execution_count": 67,
   "id": "953e5ad5-6cfa-432b-a43a-04e7ef733142",
   "metadata": {},
   "outputs": [],
   "source": [
    "# #[x for x in matt.all_variables if \"Consumption\" in x]\n",
    "# [x for x in matt.all_variables if \"Production\" in x]\n",
    "# modvar = matt.get_variable(\"NemoMod Production by Technology\")\n",
    "\n",
    "\n",
    "# unit = matt.get_unit(\"energy\")\n",
    "# (modvar.get_from_dataframe(df_prim).iloc[7].sum()*unit.convert(\"PJ\", \"mwh\")/1000)/367669"
   ]
  },
  {
   "cell_type": "code",
   "execution_count": 68,
   "id": "ccad1da2-8e99-41f0-951e-def30b68330a",
   "metadata": {},
   "outputs": [],
   "source": [
    "# df_inputs"
   ]
  },
  {
   "cell_type": "code",
   "execution_count": 69,
   "id": "55dd1246-b086-4ae0-bcd8-4b69198ed1d5",
   "metadata": {},
   "outputs": [],
   "source": [
    "# modvar = matt.get_variable(\"Total Energy Consumption from Industrial Energy\")#Industrial Energy\")\n",
    "# matt.extract_model_variable(\n",
    "#     df_prim,\n",
    "#     modvar\n",
    "# )"
   ]
  },
  {
   "cell_type": "code",
   "execution_count": null,
   "id": "fd180cf8-4f09-4817-9970-488a6e3c63f3",
   "metadata": {},
   "outputs": [],
   "source": []
  }
 ],
 "metadata": {
  "kernelspec": {
   "display_name": "ssp_uganda",
   "language": "python",
   "name": "python3"
  },
  "language_info": {
   "codemirror_mode": {
    "name": "ipython",
    "version": 3
   },
   "file_extension": ".py",
   "mimetype": "text/x-python",
   "name": "python",
   "nbconvert_exporter": "python",
   "pygments_lexer": "ipython3",
   "version": "3.11.11"
  }
 },
 "nbformat": 4,
 "nbformat_minor": 5
}
